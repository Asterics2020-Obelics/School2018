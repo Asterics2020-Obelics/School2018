{
 "cells": [
  {
   "cell_type": "markdown",
   "metadata": {},
   "source": [
    "# Documentation"
   ]
  },
  {
   "cell_type": "markdown",
   "metadata": {},
   "source": [
    "## Docstring conventions (PEP 257)\n",
    "\n",
    "A docstring is a string literal that occurs as the first statement in a module, function, class or method definition. Such a docstring becomes the `__doc__` special attribute of that objetc.\n",
    "\n",
    "All modules should normally have docstrings, and all functions and classes exported by a module should also have docstrings. Public methods (including the `__init__` constructor) should also have docstrings.\n",
    "\n",
    "For consistency, always use `\"\"\"triple double quotes\"\"\"` around docstrings.\n",
    "\n",
    "### One-line docstrings\n",
    "\n",
    "One-liners are for really obvious cases. They should really fit on one line. \n",
    "\n",
    "For one-line docstrings, the following conversions apply:\n",
    "\n",
    "* Triple quotes are used even though the string fits on one line.\n",
    "* The closing quotes are on the same line as the opening quotes.\n",
    "* There is no blank line either before or after the docstring.\n",
    "\n",
    "```python\n",
    "# For example\n",
    "def square_and_rooter(x):\n",
    "    \"\"\"Return the square root of self times self.\"\"\"\n",
    "    ...\n",
    "```\n",
    "\n",
    "* The docstring is a phrase ending in a period. It prescribes the function or methods's effect as a command, such as \"Do this\", \"Return that\".\n",
    "* The one-line docstring should **NOT** be a \"signature\" reiterating the function/method parameters.\n",
    "\n",
    "```python\n",
    "# Don't do this\n",
    "def function(a, b):\n",
    "    \"\"\"function(a, b) -> list\"\"\"\n",
    "    ...\n",
    "```\n",
    "\n",
    "### Multi-line docstrings\n",
    "\n",
    "Multi-line docstrings consist of a summary line, followed by a blank line, followed by a more elaborate description.\n",
    "\n",
    "```python\n",
    "# For example\n",
    "def complex(real=0.0, imag=0.0):\n",
    "    \"\"\"Form a complex number.\n",
    "\n",
    "    Keyword arguments:\n",
    "    real -- the real part (default 0.0)\n",
    "    imag -- the imaginary part (default 0.0)\n",
    "    \"\"\"\n",
    "    if imag == 0.0 and real == 0.0:\n",
    "        return complex_zero\n",
    "    ...\n",
    "```\n",
    "\n",
    "Multi-line docstrings may follow the following conventions:\n",
    "\n",
    "* The docstring of a script (a stand-alone program) should document the script's function and command line syntax, environment variables, and files. Usage messages should be sufficient for a new user to use the command properly.\n",
    "* The docstring for a function or method should summarize its behavior and document its arguments, return value(s), side effects, exceptions raised, and restrictions. Optional arguments should be indicated.\n",
    "* The docstring for a class should summarize its behavior and lists the public methods and instance variables. The class constructor should be documented in the docstring for its `__init__` method.\n",
    "* The docstring for a module should generally list the classes, exceptions, functions, and any other objects that are exported by the module, with a one-line summary of each.\n",
    "* The docstring for a package (i.e. the docstring of the package's `__init__.py` module) should also list the modules and subpackages exported by the package."
   ]
  },
  {
   "cell_type": "markdown",
   "metadata": {},
   "source": [
    "## More docstring conventions\n",
    "\n",
    "There are various non-PEP conventions on how to write docstrings. These enable documentation engines and IDEs to parse the docstrings. One popular way to write docstrings is the Google docstring convention. For example (larger example [here](http://sphinxcontrib-napoleon.readthedocs.io/en/latest/example_google.html)):\n",
    "```python\n",
    "def complex(real=0.0, imag=0.0):\n",
    "    \"\"\"Form a complex number.\n",
    "\n",
    "    Args:\n",
    "        real (float): the real part (default 0.0)\n",
    "        imag (floag): the imaginary part (default 0.0)\n",
    "       \n",
    "    Returns:\n",
    "        complex: The complex number\n",
    "       \n",
    "    Raises:\n",
    "        ...\n",
    "    \"\"\"\n",
    "    if imag == 0.0 and real == 0.0:\n",
    "        return complex_zero\n",
    "    ...\n",
    "```"
   ]
  },
  {
   "cell_type": "markdown",
   "metadata": {},
   "source": [
    "## argparse -- Command line and argument parsing"
   ]
  },
  {
   "cell_type": "markdown",
   "metadata": {},
   "source": [
    "The `argparse` module was added to Python 2.7 as a replacement for `optparse`. The implementation of `argparse` supports features that would not have been easy to add to `optparse`, and that would have required backwards incompatible API changes, so a new module was brought into the library instead.\n",
    "\n",
    "The API for `argparse` is similar to the one provided by `optparse`, and in many cases `argparse` can be used as a strightforward replacement by updating the names of the classes and methods used.\n",
    "\n",
    "### Setting up a parser\n",
    "\n",
    "To use `argparse`, one needs to first create a parser object and tell it what arguments to expect. The parser can then be used to process the command line arguments when your program runs. The parser class is `ArgumentParser`."
   ]
  },
  {
   "cell_type": "markdown",
   "metadata": {},
   "source": [
    "```python\n",
    "import argparse\n",
    "parser = argparse.ArgumentParser(description='Calculate mean of observation data')\n",
    "```"
   ]
  },
  {
   "cell_type": "markdown",
   "metadata": {},
   "source": [
    "### Defining arguments\n",
    "\n",
    "`argparse` is a complete argument processing library. Arguments can trigger different actions, specified by the `action` argument to `add_argument()`.\n",
    "\n",
    "There are three categories of supported actions:\n",
    "\n",
    "* Storing the argument (the default).\n",
    "* Storing a constant value when the argument is encountered.\n",
    "* Counting the number of times an argument is seen, and calling a callback.\n",
    "\n",
    "### Parsing a command line\n",
    "\n",
    "Once all of the arguments are defined, one can parse the command line by passing a sequence of argument strings to `parse_args()`. The return value from `parse_args()` is a Namespace containing the arguments to the command."
   ]
  },
  {
   "cell_type": "markdown",
   "metadata": {},
   "source": [
    "```python\n",
    "parser.add_argument(...)\n",
    "print(parser.parse_args(...))\n",
    "```"
   ]
  },
  {
   "cell_type": "markdown",
   "metadata": {},
   "source": [
    "### A simple example"
   ]
  },
  {
   "cell_type": "code",
   "execution_count": null,
   "metadata": {},
   "outputs": [],
   "source": [
    "import argparse\n",
    "\n",
    "parser = argparse.ArgumentParser(description='Short sample app')\n",
    "\n",
    "parser.add_argument('-a', action=\"store_true\", default=False)\n",
    "parser.add_argument('-b', action=\"store\", dest=\"b\")\n",
    "parser.add_argument('-c', action=\"store\", dest=\"c\", type=int)\n",
    "\n",
    "print(parser.parse_args(['-a', '-bval', '-c', '3']))"
   ]
  },
  {
   "cell_type": "markdown",
   "metadata": {},
   "source": [
    "Using the default values for `action` and `dest`, this can be shortened considerably:"
   ]
  },
  {
   "cell_type": "code",
   "execution_count": null,
   "metadata": {},
   "outputs": [],
   "source": [
    "import argparse\n",
    "\n",
    "parser = argparse.ArgumentParser(description='Short sample app')\n",
    "\n",
    "parser.add_argument('-a', action=\"store_true\", default=False)\n",
    "parser.add_argument('-b')\n",
    "parser.add_argument('-c', type=int)\n",
    "\n",
    "print(parser.parse_args(['-a', '-bval', '-c', '3']))"
   ]
  },
  {
   "cell_type": "markdown",
   "metadata": {},
   "source": [
    "One area in which `argparse` differs from `optparse` is the treatment of non-optional argument values.\n",
    "\n",
    "```python\n",
    "import argparse\n",
    "\n",
    "parser = argparse.ArgumentParser(description='Example with non-optional arguments')\n",
    "\n",
    "parser.add_argument('count', type=int)\n",
    "parser.add_argument('units')\n",
    "\n",
    "print(parser.parse_args())\n",
    "```\n",
    "\n",
    "In this example, the `count` argument is an integer and the `units` argument is saved as a string. If either is not provided on the command line, or the value given cannot be converted to the right type, an error is reported.\n"
   ]
  },
  {
   "cell_type": "code",
   "execution_count": null,
   "metadata": {},
   "outputs": [],
   "source": [
    "!cat parser.py"
   ]
  },
  {
   "cell_type": "code",
   "execution_count": null,
   "metadata": {},
   "outputs": [],
   "source": [
    "!python parser.py"
   ]
  },
  {
   "cell_type": "code",
   "execution_count": null,
   "metadata": {},
   "outputs": [],
   "source": [
    "!python parser.py some inches"
   ]
  },
  {
   "cell_type": "code",
   "execution_count": null,
   "metadata": {},
   "outputs": [],
   "source": [
    "!python parser.py 3 inches"
   ]
  },
  {
   "cell_type": "markdown",
   "metadata": {},
   "source": [
    "### Automatically generated options\n",
    "\n",
    "`argparse` will automatically add options to generate help if configured to do so. The `add_help` argument to `ArgumentParser` controls the help-related options. The help options (`-h` and `--help`) are added by default, but ca be disabled by setting `add_help` to `False`.\n",
    "\n",
    "```python\n",
    "import argparse\n",
    "\n",
    "parser = argparse.ArgumentParser()\n",
    "\n",
    "parser.add_argument('-a', action=\"store_true\", default=False)\n",
    "parser.add_argument('-b', action=\"store\", dest=\"b\")\n",
    "parser.add_argument('-c', action=\"store\", dest=\"c\", type=int)\n",
    "\n",
    "print(parser.parse_args())\n",
    "```"
   ]
  },
  {
   "cell_type": "code",
   "execution_count": null,
   "metadata": {},
   "outputs": [],
   "source": [
    "!python options.py -h"
   ]
  },
  {
   "cell_type": "markdown",
   "metadata": {},
   "source": [
    "### Argument actions\n",
    "\n",
    "There are six built-in actions that can be triggered when an argument is encountered:\n",
    "\n",
    "* `store` -- Save the value, after optionally converting it to a different type.\n",
    "* `store_const` -- Save a value defined as part of the argument specification.\n",
    "* `store_true`/`store_false` -- Save the appropriate boolean value.\n",
    "* `append` -- Save the value to a list. Multiple values are saved if the arguments is repeated.\n",
    "* `append_const` -- Save a value defined in the argument specification to a list.\n",
    "* `version` -- Prints version details about the program and then exits.\n",
    "\n",
    "```python\n",
    "import argparse\n",
    "\n",
    "parser = argparse.ArgumentParser()\n",
    "\n",
    "parser.add_argument('-s', action='store', dest='simple_value',\n",
    "                    help='Store a simple value')\n",
    "\n",
    "parser.add_argument('-c', action='store_const', dest='constant_value',\n",
    "                    const='value-to-store',\n",
    "                    help='Store a constant value')\n",
    "\n",
    "parser.add_argument('-t', action='store_true', default=False,\n",
    "                    dest='boolean_switch',\n",
    "                    help='Set a switch to true')\n",
    "parser.add_argument('-f', action='store_false', default=False,\n",
    "                    dest='boolean_switch',\n",
    "                    help='Set a switch to false')\n",
    "\n",
    "parser.add_argument('-a', action='append', dest='collection',\n",
    "                    default=[],\n",
    "                    help='Add repeated values to a list',\n",
    "                    )\n",
    "\n",
    "parser.add_argument('-A', action='append_const', dest='const_collection',\n",
    "                    const='value-1-to-append',\n",
    "                    default=[],\n",
    "                    help='Add different values to list')\n",
    "parser.add_argument('-B', action='append_const', dest='const_collection',\n",
    "                    const='value-2-to-append',\n",
    "                    help='Add different values to list')\n",
    "\n",
    "parser.add_argument('--version', action='version', version='%(prog)s 1.0')\n",
    "\n",
    "results = parser.parse_args()\n",
    "```"
   ]
  },
  {
   "cell_type": "code",
   "execution_count": null,
   "metadata": {},
   "outputs": [],
   "source": [
    "!python argactions.py"
   ]
  },
  {
   "cell_type": "markdown",
   "metadata": {},
   "source": [
    "# References\n",
    "\n",
    "1. https://www.python.org/dev/peps/pep-0257/\n",
    "2. https://pymotw.com/2/argparse/"
   ]
  },
  {
   "cell_type": "markdown",
   "metadata": {},
   "source": [
    "## Acknowledgements\n",
    "![](./eu_asterics.png)\n",
    "\n",
    "This tutorial was supported by the H2020-Astronomy ESFRI and Research Infrastructure Cluster (Grant Agreement number: 653477)."
   ]
  }
 ],
 "metadata": {
  "kernelspec": {
   "display_name": "Python 3",
   "language": "python",
   "name": "python3"
  },
  "language_info": {
   "codemirror_mode": {
    "name": "ipython",
    "version": 3
   },
   "file_extension": ".py",
   "mimetype": "text/x-python",
   "name": "python",
   "nbconvert_exporter": "python",
   "pygments_lexer": "ipython3",
   "version": "3.6.5"
  }
 },
 "nbformat": 4,
 "nbformat_minor": 2
}
