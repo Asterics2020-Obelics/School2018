{
 "cells": [
  {
   "cell_type": "markdown",
   "metadata": {},
   "source": [
    "# Exploring some LOFAR data in Jupyter notebook"
   ]
  },
  {
   "cell_type": "markdown",
   "metadata": {},
   "source": [
    "In this notebook we will be exploring some LOFAR data. LOFAR is a radio interferometer, i.e. all stations record the signal from a given direction and from the interference of that signal an image can be produced.\n",
    "\n",
    "There are a few things for which the instruments needs to be calibrated. That is done by pointing the telescope at a well-known source (in this case 3C196) and comparing the measured data with the expected data.\n",
    "\n",
    "We will explore some calibration solutions, which are stored in an HDF5 file."
   ]
  },
  {
   "cell_type": "markdown",
   "metadata": {},
   "source": [
    "## Initialize and check environment"
   ]
  },
  {
   "cell_type": "code",
   "execution_count": 163,
   "metadata": {},
   "outputs": [],
   "source": [
    "import sys"
   ]
  },
  {
   "cell_type": "code",
   "execution_count": null,
   "metadata": {},
   "outputs": [],
   "source": [
    "sys.executable"
   ]
  },
  {
   "cell_type": "markdown",
   "metadata": {},
   "source": [
    "The above line should mention that you're running python from the `school18` environment"
   ]
  },
  {
   "cell_type": "markdown",
   "metadata": {},
   "source": [
    "## Download and view the calibration solution file"
   ]
  },
  {
   "cell_type": "markdown",
   "metadata": {},
   "source": [
    "The calibration solutions are stored in HDF5 files. Please download the file `lofar-cal.h5` from the school2018-extra repository. No need to clone, the following command should do the trick:"
   ]
  },
  {
   "cell_type": "code",
   "execution_count": null,
   "metadata": {},
   "outputs": [],
   "source": [
    "!pwd\n",
    "# Uncomment the line below if you realize this is going to download 52 MB\n",
    "#!wget https://github.com/Asterics2020-Obelics/School2018-extra/raw/master/lofar-cal.h5"
   ]
  },
  {
   "cell_type": "code",
   "execution_count": null,
   "metadata": {},
   "outputs": [],
   "source": [
    "import h5py"
   ]
  },
  {
   "cell_type": "code",
   "execution_count": null,
   "metadata": {},
   "outputs": [],
   "source": [
    "h5py.__file__"
   ]
  },
  {
   "cell_type": "markdown",
   "metadata": {},
   "source": [
    "The above line should mention that you're running the `h5py` from the `school2018` environment"
   ]
  },
  {
   "cell_type": "code",
   "execution_count": 14,
   "metadata": {},
   "outputs": [],
   "source": [
    "import numpy as np"
   ]
  },
  {
   "cell_type": "markdown",
   "metadata": {},
   "source": [
    "Let's open the HDF5 file with LOFAR calibration solutions (change the path to the place where the file is)."
   ]
  },
  {
   "cell_type": "code",
   "execution_count": 15,
   "metadata": {},
   "outputs": [],
   "source": [
    "h5filename = 'lofar-cal.h5'"
   ]
  },
  {
   "cell_type": "code",
   "execution_count": 6,
   "metadata": {},
   "outputs": [],
   "source": [
    "h5file = h5py.File(h5filename, mode='r')"
   ]
  },
  {
   "cell_type": "markdown",
   "metadata": {},
   "source": [
    "The HDF5 format is hierarchical, it's basically a tree. To show all objects, there is a function `visit`."
   ]
  },
  {
   "cell_type": "markdown",
   "metadata": {},
   "source": [
    "**Exercise**: show the docstring for the `visit` method.\n",
    "\n",
    "**Bonus exercise** 😉: If you want to practice git, fix the typo in `guranteed` and open a pull request at https://github.com/h5py/h5py (first check if no one else did it yet)."
   ]
  },
  {
   "cell_type": "markdown",
   "metadata": {},
   "source": [
    "**Exercise**: use the `visit` function of `h5file` to show the contents of the solutions file."
   ]
  },
  {
   "cell_type": "code",
   "execution_count": null,
   "metadata": {},
   "outputs": [],
   "source": [
    "h5file.visit(print)"
   ]
  },
  {
   "cell_type": "markdown",
   "metadata": {},
   "source": [
    "This would look much more like a tree if it had some indentation at the right places."
   ]
  },
  {
   "cell_type": "markdown",
   "metadata": {},
   "source": [
    "**Exercise**: Create a function `print_node` which, given a node, prints the last component of the string representation of the node, indented by depth in the tree (level 1 gets 4 spaces indent, level 2 gets 8, etc.). Use this function with \"`visit`\" from `h5py.File` to get the following output:\n",
    "```\n",
    "sol000\n",
    "  amplitude000\n",
    "    ant\n",
    "    freq\n",
    "    pol\n",
    "    time\n",
    "    val\n",
    "  antenna\n",
    "  phase000\n",
    "    ant\n",
    "    freq\n",
    "    pol\n",
    "    time\n",
    "    val\n",
    "  source\n",
    "```"
   ]
  },
  {
   "cell_type": "code",
   "execution_count": null,
   "metadata": {},
   "outputs": [],
   "source": [
    "h5file.visit(print_node)"
   ]
  },
  {
   "cell_type": "markdown",
   "metadata": {},
   "source": [
    "**Exercise**: expand the function `print_node` to take an optional parameter `indent` which specifies the number of spaces to use for indentation."
   ]
  },
  {
   "cell_type": "markdown",
   "metadata": {},
   "source": [
    "**Exercise**: create the function `print_h5(file, *, indent=4)` which uses `visit` and the function `print_node` to print a listing of an HDF5 file.\n",
    "\n",
    "**Hint**: You may need to use a lambda function `lambda node: print_node(node, indent=indent)` to pass the `indent` argument."
   ]
  },
  {
   "cell_type": "markdown",
   "metadata": {},
   "source": [
    "## Excursion to PyCharm"
   ]
  },
  {
   "cell_type": "markdown",
   "metadata": {},
   "source": [
    "1. Copy the functions `print_node` and `print_h5` to a new python file `print_h5.py` and open it in PyCharm.\n",
    "2. Make all PyCharm warnings go away; make sure that running `pycodestyle print_h5.py` creates no warnings.\n",
    "3. Make this file executable, use the `#!/usr/bin/env python` as first line.\n",
    "4. Use `if __name == \"__main__\"` to make it possible to run the file both as an importable module and as a stand-alone file.\n",
    "5. Use argparse to create an interface like the following:\n",
    "\n",
    "```\n",
    "./print_h5.py --help\n",
    "usage: print_h5.py [-h] [-i INDENT] filename\n",
    "\n",
    "Print contents of an HDF5 file.\n",
    "\n",
    "positional arguments:\n",
    "  filename              HDF5 file name\n",
    "\n",
    "optional arguments:\n",
    "  -h, --help            show this help message and exit\n",
    "  -i INDENT, --indent INDENT\n",
    "                        Indentation level\n",
    "```\n",
    "6. Include doctests in your function `print_node` to verify that:\n",
    "\n",
    "```\n",
    "a/b/c prints '        c'\n",
    "a/b prints   '    b'\n",
    "a prints     'a'\n",
    "\n",
    "a/b with indent = 2 prints '  a'\n",
    "```\n",
    "7. In a terminal, run `pytest --doctest-modules print_h5.py` and check that the doctests run and pass."
   ]
  },
  {
   "cell_type": "markdown",
   "metadata": {},
   "source": [
    "## Continue after PyCharm excursion"
   ]
  },
  {
   "cell_type": "markdown",
   "metadata": {},
   "source": [
    "If the file `print_h5.py` is in the current working directory, we can load it into this notebook:"
   ]
  },
  {
   "cell_type": "code",
   "execution_count": 8,
   "metadata": {},
   "outputs": [],
   "source": [
    "from print_h5 import print_h5"
   ]
  },
  {
   "cell_type": "code",
   "execution_count": 9,
   "metadata": {},
   "outputs": [
    {
     "name": "stdout",
     "output_type": "stream",
     "text": [
      "sol000\n",
      "    amplitude000\n",
      "        ant\n",
      "        freq\n",
      "        pol\n",
      "        time\n",
      "        val\n",
      "    antenna\n",
      "    phase000\n",
      "        ant\n",
      "        freq\n",
      "        pol\n",
      "        time\n",
      "        val\n",
      "    source\n"
     ]
    }
   ],
   "source": [
    "print_h5(h5filename)"
   ]
  },
  {
   "cell_type": "markdown",
   "metadata": {},
   "source": [
    "All solutions are stored inside the group '`sol000`'."
   ]
  },
  {
   "cell_type": "markdown",
   "metadata": {},
   "source": [
    "A few words about the file format:\n",
    " * The `antenna` table contains metadata on the antennas (or actually antenna stations)\n",
    " * The tables `amplitude000/val` and `phase000/val` contain the actual calibration data, in a large cube (multi-dimensional array)\n",
    " * The other tables `amplitude/time`, `amplitude/ant`, `amplitude/freq`, , `amplitude/pol` contain the metadata for each of the axes of the data cube"
   ]
  },
  {
   "cell_type": "markdown",
   "metadata": {},
   "source": [
    "You can access subgroups either by nesting squared brackets (i.e. `sol['amplitude000']['ant']`) or by using a slash (i.e. `sol['amplitude000/ant']`)."
   ]
  },
  {
   "cell_type": "markdown",
   "metadata": {},
   "source": [
    "## Plot antennas"
   ]
  },
  {
   "cell_type": "code",
   "execution_count": 10,
   "metadata": {},
   "outputs": [],
   "source": [
    "antennadata = h5file['sol000/antenna']"
   ]
  },
  {
   "cell_type": "code",
   "execution_count": 11,
   "metadata": {},
   "outputs": [
    {
     "data": {
      "text/plain": [
       "(b'CS001LBA', [ 6.8676305, 52.911396 , 50.16268  ])"
      ]
     },
     "execution_count": 11,
     "metadata": {},
     "output_type": "execute_result"
    }
   ],
   "source": [
    "antennadata[0]"
   ]
  },
  {
   "cell_type": "markdown",
   "metadata": {},
   "source": [
    "An antenna consists of a tuple of its name and its coordinates (in the form longitude, latitude and elevatiom)."
   ]
  },
  {
   "cell_type": "markdown",
   "metadata": {},
   "source": [
    "Note that the name `b'CS001LBA'` comes from the HDF5 as \"bytes\": python does not know yet which character set to use for these bytes. To convert it to a normal string, we need to tell python the character set used. Actually any character set will do here, since (almost) all character sets map 'normal' letters to the right thing (and LOFAR does not have stations called `CS00😇LBA`)."
   ]
  },
  {
   "cell_type": "code",
   "execution_count": 12,
   "metadata": {},
   "outputs": [],
   "source": [
    "antenna_names = [antenna[0].decode('utf-8') for antenna in antennadata]"
   ]
  },
  {
   "cell_type": "code",
   "execution_count": 16,
   "metadata": {},
   "outputs": [],
   "source": [
    "coords_latlon = np.array([antenna[1][1::-1] for antenna in antennadata])"
   ]
  },
  {
   "cell_type": "markdown",
   "metadata": {},
   "source": [
    "With `folium` we can convert this list of coordinates into a nice leaflet map."
   ]
  },
  {
   "cell_type": "code",
   "execution_count": 17,
   "metadata": {},
   "outputs": [],
   "source": [
    "import folium"
   ]
  },
  {
   "cell_type": "code",
   "execution_count": 18,
   "metadata": {},
   "outputs": [],
   "source": [
    "antennamap = folium.Map(location=[52.91494834, 6.86876941], zoom_start=16,\n",
    "                        tiles='http://services.arcgisonline.com/arcgis/rest/services/World_Imagery/MapServer/MapServer/tile/{z}/{y}/{x}',\n",
    "                        attr='ESRI')\n",
    "\n",
    "for ant_num, coord_latlon in enumerate(coords_latlon):\n",
    "    folium.Marker(coord_latlon, popup=antenna_names[ant_num]).add_to(antennamap)"
   ]
  },
  {
   "cell_type": "code",
   "execution_count": 43,
   "metadata": {
    "scrolled": true
   },
   "outputs": [
    {
     "data": {
      "text/html": [
       "<div style=\"width:100%;\"><div style=\"position:relative;width:100%;height:0;padding-bottom:60%;\"><iframe src=\"data:text/html;charset=utf-8;base64,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\" style=\"position:absolute;width:100%;height:100%;left:0;top:0;border:none !important;\" allowfullscreen webkitallowfullscreen mozallowfullscreen></iframe></div></div>"
      ],
      "text/plain": [
       "<folium.folium.Map at 0x114e6e0f0>"
      ]
     },
     "execution_count": 43,
     "metadata": {},
     "output_type": "execute_result"
    }
   ],
   "source": [
    "antennamap"
   ]
  },
  {
   "cell_type": "markdown",
   "metadata": {},
   "source": [
    "**Exercise**: Please explore this map a bit and appreciate the extent of LOFAR :)"
   ]
  },
  {
   "cell_type": "markdown",
   "metadata": {},
   "source": [
    "## View a solution"
   ]
  },
  {
   "cell_type": "markdown",
   "metadata": {},
   "source": [
    "Let's explore the solutions a bit."
   ]
  },
  {
   "cell_type": "code",
   "execution_count": 20,
   "metadata": {},
   "outputs": [],
   "source": [
    "import matplotlib.pyplot as plt\n",
    "%matplotlib inline"
   ]
  },
  {
   "cell_type": "code",
   "execution_count": 21,
   "metadata": {},
   "outputs": [],
   "source": [
    "amplitude_sol = h5file['sol000/amplitude000']"
   ]
  },
  {
   "cell_type": "code",
   "execution_count": 22,
   "metadata": {},
   "outputs": [
    {
     "name": "stdout",
     "output_type": "stream",
     "text": [
      "ant\n",
      "freq\n",
      "pol\n",
      "time\n",
      "val\n"
     ]
    }
   ],
   "source": [
    "amplitude_sol.visit(print)"
   ]
  },
  {
   "cell_type": "markdown",
   "metadata": {},
   "source": [
    "The actual calibration values are stored in the node \"`val`\":"
   ]
  },
  {
   "cell_type": "code",
   "execution_count": 23,
   "metadata": {},
   "outputs": [
    {
     "data": {
      "text/plain": [
       "<HDF5 dataset \"val\": shape (3, 35, 488, 2), type \"<f8\">"
      ]
     },
     "execution_count": 23,
     "metadata": {},
     "output_type": "execute_result"
    }
   ],
   "source": [
    "amplitude_sol['val']"
   ]
  },
  {
   "cell_type": "markdown",
   "metadata": {},
   "source": [
    "### Loading in data properly"
   ]
  },
  {
   "cell_type": "markdown",
   "metadata": {},
   "source": [
    "Let's now close the HDF5 file and load the data more properly. Keeping it open all the time can have disadvantages e.g. when the kernel crashes."
   ]
  },
  {
   "cell_type": "code",
   "execution_count": null,
   "metadata": {},
   "outputs": [],
   "source": [
    "h5file.close()\n",
    "del h5file, amplitude_sol"
   ]
  },
  {
   "cell_type": "markdown",
   "metadata": {},
   "source": [
    "Let's create a function `load_solution(h5filename, solution_name)` that extracts a data cube (no metadata yet) from the HDF5 file and returns a numpy array. To avoid not closing the file when an exception happens, we use the construct \"`with h5py.File(...) as h5file`\"."
   ]
  },
  {
   "cell_type": "code",
   "execution_count": 1,
   "metadata": {},
   "outputs": [],
   "source": [
    "def load_solution(h5filename, solution_name):\n",
    "    with h5py.File(h5filename) as h5file:\n",
    "        result = h5file['sol000/{}/val'.format(solution_name)].value\n",
    "    return result"
   ]
  },
  {
   "cell_type": "code",
   "execution_count": 25,
   "metadata": {},
   "outputs": [],
   "source": [
    "amplitude_values = load_solution(h5filename, \"amplitude000\")"
   ]
  },
  {
   "cell_type": "code",
   "execution_count": 26,
   "metadata": {},
   "outputs": [
    {
     "data": {
      "text/plain": [
       "(3, 35, 488, 2)"
      ]
     },
     "execution_count": 26,
     "metadata": {},
     "output_type": "execute_result"
    }
   ],
   "source": [
    "amplitude_values.shape"
   ]
  },
  {
   "cell_type": "markdown",
   "metadata": {},
   "source": [
    "The axes of the data cube are, in order:\n",
    " * time: The time of the calibration, typically every 4 seconds\n",
    " * ant: Station name\n",
    " * freq: Frequency (in Hz)\n",
    " * pol: Polarization (linear, X or Y)"
   ]
  },
  {
   "cell_type": "code",
   "execution_count": 27,
   "metadata": {},
   "outputs": [],
   "source": [
    "n_times, n_stations, n_freq, n_pol = amplitude_values.shape"
   ]
  },
  {
   "cell_type": "markdown",
   "metadata": {},
   "source": [
    "Let's define another function `load_meta(h5filename, solution_name)` that returns a tuple of numpy arrays, i.e. `time, ant, freq, pol`, from the corresponding node in `h5file/sol000/solution_name/xxx`."
   ]
  },
  {
   "cell_type": "code",
   "execution_count": 28,
   "metadata": {},
   "outputs": [],
   "source": [
    "def load_axes(h5filename, solution_name):\n",
    "    with h5py.File(h5filename) as h5file:\n",
    "        result = [h5file['sol000/{}/{}'.format(solution_name, axis_name)].value for axis_name in ['time', 'ant', 'freq', 'pol']]\n",
    "    return result"
   ]
  },
  {
   "cell_type": "code",
   "execution_count": 29,
   "metadata": {},
   "outputs": [],
   "source": [
    "time_axis, station_axis, freq_axis, pol_axis = load_axes(h5filename, \"amplitude000\")"
   ]
  },
  {
   "cell_type": "markdown",
   "metadata": {},
   "source": [
    "**Exercise**: Using the knowledge that the time axis is in seconds, how much time does the calibration span? (A typical observation lasts 8 hours.)"
   ]
  },
  {
   "cell_type": "markdown",
   "metadata": {},
   "source": [
    "Let's plot the bandpass of some station:"
   ]
  },
  {
   "cell_type": "code",
   "execution_count": 35,
   "metadata": {},
   "outputs": [
    {
     "data": {
      "image/png": "[encoded data removed]",
      "text/plain": [
       "<Figure size 432x288 with 1 Axes>"
      ]
     },
     "metadata": {},
     "output_type": "display_data"
    }
   ],
   "source": [
    "station_nr = 12\n",
    "fig, ax = plt.subplots(1)\n",
    "ax.plot(1.e-6 * freq_axis, amplitude_values[0, station_nr, :, 0])\n",
    "ax.set_xlabel(\"Frequency (MHz)\")\n",
    "ax.set_title(\"Bandpass for station {station:}\".format(\n",
    "    station=station_axis[station_nr].decode('utf-8')));\n",
    "del station_nr"
   ]
  },
  {
   "cell_type": "code",
   "execution_count": 36,
   "metadata": {},
   "outputs": [],
   "source": [
    "del time_axis, station_axis, freq_axis, pol_axis, antenna_names, n_freq, n_pol, n_stations, n_times"
   ]
  },
  {
   "cell_type": "markdown",
   "metadata": {},
   "source": [
    "## Class"
   ]
  },
  {
   "cell_type": "markdown",
   "metadata": {},
   "source": [
    "The concept of a solution with different axes (each with their own metadata) is actually worth its own class. Let's create a class `Solution` with attributes `val`, `time`, `station`, `freq`, `pol`."
   ]
  },
  {
   "cell_type": "code",
   "execution_count": 37,
   "metadata": {},
   "outputs": [],
   "source": [
    "class Solution:\n",
    "    def __init__(self, h5filename, solution_name):\n",
    "        \"\"\"Calibration solution extracted from HDF5 file\n",
    "        \n",
    "        Args:\n",
    "            h5filename (str): filename (should be absolute)\n",
    "            solution_name (str): name of solution, e.g. amplitude000\n",
    "        \n",
    "        Attributes:\n",
    "            val (ndarray): data cube\n",
    "            time (ndarray): time values in MJD seconds\n",
    "            station (List[str]): station names\n",
    "            freq (ndarray): frequency values in Hz\n",
    "            pol (ndarray): polarization values\n",
    "            station_number (Dict[str, int]): dict mapping station names to numbers\n",
    "            \n",
    "        \"\"\"\n",
    "        with h5py.File(h5filename) as h5file:\n",
    "            self.val = h5file['sol000/{}/val'.format(solution_name)].value\n",
    "            (self.time, self.station, self.freq, self.pol) = \\\n",
    "                 [h5file['sol000/{}/{}'.format(solution_name, axis_name)].value \\\n",
    "                  for axis_name in ['time', 'ant', 'freq', 'pol']]\n",
    "            self.station = list(self.station.astype('|U8'))\n",
    "            \n",
    "            self.station_number = {self.station[station_num]: station_num\n",
    "                  for station_num in range(len(self.station))}"
   ]
  },
  {
   "cell_type": "markdown",
   "metadata": {},
   "source": [
    "**Exercise**: use this class to get a solution for `amplitude000`."
   ]
  },
  {
   "cell_type": "markdown",
   "metadata": {},
   "source": [
    "## Make the bandpass plot interactive"
   ]
  },
  {
   "cell_type": "code",
   "execution_count": 39,
   "metadata": {},
   "outputs": [],
   "source": [
    "from ipywidgets import interactive, interact, fixed"
   ]
  },
  {
   "cell_type": "code",
   "execution_count": 40,
   "metadata": {},
   "outputs": [],
   "source": [
    "amplitude_solution = Solution(h5filename, \"amplitude000\")"
   ]
  },
  {
   "cell_type": "markdown",
   "metadata": {},
   "source": [
    "We'll use a dict \"`station_number`\" with the station names as key and their index in the array as values."
   ]
  },
  {
   "cell_type": "markdown",
   "metadata": {},
   "source": [
    "**Exercise**: create a function `plot_bandpass(solution, time, station_name, pol)` that creates the right bandpass plot."
   ]
  },
  {
   "cell_type": "code",
   "execution_count": 42,
   "metadata": {},
   "outputs": [
    {
     "data": {
      "image/png": "[encoded data removed]",
      "text/plain": [
       "<Figure size 432x288 with 1 Axes>"
      ]
     },
     "metadata": {},
     "output_type": "display_data"
    }
   ],
   "source": [
    "plot_bandpass(amplitude_solution, 2, 'RS310LBA', 0)"
   ]
  },
  {
   "cell_type": "markdown",
   "metadata": {},
   "source": [
    "**Exercise**: create an interactive widget for the bandpass plot that shows a dropdown for the station name, a slider for the time and a dropdown for the polarization. For the `solution` parameter, you'll want to use `fixed` to indicate that this parameter does not need a widget."
   ]
  },
  {
   "cell_type": "code",
   "execution_count": null,
   "metadata": {},
   "outputs": [],
   "source": [
    "interactive(plot_bandpass,\n",
    "            solution=fixed(amplitude_solution),\n",
    "            station_name=amplitude_solution.station,\n",
    "            time=(0, len(amplitude_solution.time)-1),\n",
    "            pol=[0,1])"
   ]
  },
  {
   "cell_type": "markdown",
   "metadata": {},
   "source": [
    "## Read in phase values"
   ]
  },
  {
   "cell_type": "code",
   "execution_count": null,
   "metadata": {},
   "outputs": [],
   "source": [
    "phase_solution = Solution(h5filename, 'phase000')"
   ]
  },
  {
   "cell_type": "code",
   "execution_count": null,
   "metadata": {},
   "outputs": [],
   "source": [
    "phase_values = phase_solution.val"
   ]
  },
  {
   "cell_type": "code",
   "execution_count": null,
   "metadata": {},
   "outputs": [],
   "source": [
    "phase_solution.val.shape"
   ]
  },
  {
   "cell_type": "code",
   "execution_count": null,
   "metadata": {},
   "outputs": [],
   "source": [
    "n_times, n_stations, n_freq, n_pol = phase_solution.val.shape"
   ]
  },
  {
   "cell_type": "markdown",
   "metadata": {},
   "source": [
    "The phases are only meaningful when a phase reference is chosen; let's choose the first station as the phase reference."
   ]
  },
  {
   "cell_type": "code",
   "execution_count": null,
   "metadata": {},
   "outputs": [],
   "source": [
    "phase_values = phase_values[:, :, :, :] - phase_values[:, 0, :, :][:, np.newaxis, :, :]"
   ]
  },
  {
   "cell_type": "markdown",
   "metadata": {},
   "source": [
    "For some physical reasons, the phase solutions for these calibration values wrap at $\\pi$ (not $2\\pi$ as all other phases do). We constrain all values between $-\\pi/2$ and $\\pi/2$."
   ]
  },
  {
   "cell_type": "code",
   "execution_count": null,
   "metadata": {},
   "outputs": [],
   "source": [
    "def constrain_pi(a):\n",
    "    \"\"\"Constrain numbers between -pi/2 and pi/2\"\"\"\n",
    "    return np.mod(a + np.pi/2, np.pi) - np.pi/2"
   ]
  },
  {
   "cell_type": "code",
   "execution_count": null,
   "metadata": {},
   "outputs": [],
   "source": [
    "phase_values = constrain_pi(phase_values)"
   ]
  },
  {
   "cell_type": "markdown",
   "metadata": {},
   "source": [
    "**Exercise**: make a wrapper for the function `np.unwrap` that unwraps at $\\pi$.\n",
    "\n",
    "**Hint**: multiply the input, divide after constraining; use `**kwargs` to pass on optional arguments"
   ]
  },
  {
   "cell_type": "code",
   "execution_count": null,
   "metadata": {},
   "outputs": [],
   "source": [
    "def plot_phase_freq(station_name, time=0, pol=0, unwrap=False):\n",
    "    fig, ax = plt.subplots(1)\n",
    "    phases = phase_values[time, phase_solution.station_number[station_name], :, pol]\n",
    "    if unwrap:\n",
    "        phases = unwrap_pi(phases)\n",
    "    ax.plot(1.e-6 * phase_solution.freq, phases, '.')\n",
    "    ax.set_xlabel(\"Frequency (MHz)\")\n",
    "    if not unwrap:\n",
    "        ax.set_ylim(-np.pi/2, np.pi/2)\n",
    "    ax.set_title(\"Phase for station {}\".format(station_name))\n",
    "    return ax"
   ]
  },
  {
   "cell_type": "code",
   "execution_count": null,
   "metadata": {},
   "outputs": [],
   "source": [
    "interactive(plot_phase_freq, station_name=phase_solution.station,\n",
    "            time=(0,n_times-1), pol=(0,1))"
   ]
  },
  {
   "cell_type": "markdown",
   "metadata": {},
   "source": [
    "**Exercise**: look at the plots, see if you can see any trends (hint: look one cell below)."
   ]
  },
  {
   "cell_type": "markdown",
   "metadata": {},
   "source": [
    "## Fitting a line"
   ]
  },
  {
   "cell_type": "markdown",
   "metadata": {},
   "source": [
    "You should see some clear linear trends in the solutions; at least towards the higher numbered stations."
   ]
  },
  {
   "cell_type": "code",
   "execution_count": null,
   "metadata": {},
   "outputs": [],
   "source": [
    "time = 0\n",
    "station = 17 # CS103LBA\n",
    "pol = 0\n",
    "np.polyfit(phase_solution.freq, unwrap_pi(phase_values[time, station, :, pol]), 1)"
   ]
  },
  {
   "cell_type": "code",
   "execution_count": null,
   "metadata": {},
   "outputs": [],
   "source": [
    "del pol, time, station"
   ]
  },
  {
   "cell_type": "markdown",
   "metadata": {},
   "source": [
    "We want to compute this fit for all timeslots, stations and polarizations. Ideally, without writing a loop like\n",
    "```python\n",
    "for timeslot in range(num_timeslots):\n",
    "    for station in range(num_stations):\n",
    "        for polarization in range(2):\n",
    "            np.polyfit(sol['phase000/freq'], phase_values[timeslot, station, :, polarization], 1)\n",
    "```\n",
    "The common way to solve this, is to have numpy broadast an operation over other axes (apply an operation on one axis, and leave all other axes in place). This can usually be done with the argument `axis`. E.g. `np.mean(x, axis=(1,)` takes the mean over the second axis, leaving all other axes in place. Unfortunately, np.polyfit does not broadcast over axes."
   ]
  },
  {
   "cell_type": "markdown",
   "metadata": {},
   "source": [
    "We'll implement the [linear fit](https://en.wikipedia.org/wiki/Linear_regression) ourselves. This involves solving the equation $(\\mathbf{X}^T.\\mathbf{X})^{-1}\\mathbf{X}^T\\mathbf{y}$, where $\\mathbf{X}$ is a (tall) 2 by `n_freq` matrix containing a column of ones and a column with all frequencies, and $\\mathbf{y}$ is a (tall) vector of length `n_freq` containing the measured phases."
   ]
  },
  {
   "cell_type": "code",
   "execution_count": null,
   "metadata": {},
   "outputs": [],
   "source": [
    "X = np.ones((n_freq, 2))\n",
    "X[:, 1] = phase_solution.freq"
   ]
  },
  {
   "cell_type": "markdown",
   "metadata": {},
   "source": [
    "Let's just write out the matrix, using the python 3 matrix multiplication operator `@` (for numpy arrays, this just calls `np.matmul` which mostly acts like `np.dot`)."
   ]
  },
  {
   "cell_type": "code",
   "execution_count": null,
   "metadata": {},
   "outputs": [],
   "source": [
    "np.linalg.inv(X.T @ X) @ X.T @ unwrap_pi(phase_values[0, 17, :, 0])"
   ]
  },
  {
   "cell_type": "markdown",
   "metadata": {},
   "source": [
    "Yay, this gives the same answer as `np.polyfit` (though in a different order)."
   ]
  },
  {
   "cell_type": "markdown",
   "metadata": {},
   "source": [
    "Now to compute the fit for all stations, times and both polarizations at the same time, we use `np.tensordot`, which computes the dot product along two given axes and leaves all of the other axes in place. We need to \"dot\" the second axis (i.e. axis `1`) of `X` with the third axis (i.e. axis `2`) of the `phase_values`. All other axes remain."
   ]
  },
  {
   "cell_type": "code",
   "execution_count": null,
   "metadata": {},
   "outputs": [],
   "source": [
    "fit = np.tensordot(\n",
    "    np.linalg.inv(X.T @ X),\n",
    "    np.tensordot(X.T, unwrap_pi(phase_values[:, :, :, :], axis=2), axes=((1,), (2,))),\n",
    "    axes=((1,),(0,))\n",
    ")"
   ]
  },
  {
   "cell_type": "code",
   "execution_count": null,
   "metadata": {},
   "outputs": [],
   "source": [
    "def fit_clock(freq, data, axis=-1):\n",
    "    \"\"\"Fit a0 + a1*freq through the data along the given axis\"\"\"\n",
    "    \n",
    "    assert len(freq) == data.shape[axis]\n",
    "    \n",
    "    X = np.ones((len(freq), 2)) # 2 for number of unknowns (a0 and a1)\n",
    "    X[:, 1] = freq\n",
    "\n",
    "    return np.tensordot(\n",
    "        np.linalg.inv(X.T @ X),\n",
    "        np.tensordot(X.T, data, axes=((1,), (axis,))),\n",
    "        axes=((1,),(0,))\n",
    "    )"
   ]
  },
  {
   "cell_type": "code",
   "execution_count": null,
   "metadata": {},
   "outputs": [],
   "source": [
    "fit = fit_clock(phase_solution.freq, unwrap_pi(phase_values[:, :, :, :], axis=2), axis=2)"
   ]
  },
  {
   "cell_type": "code",
   "execution_count": null,
   "metadata": {},
   "outputs": [],
   "source": [
    "fit.shape"
   ]
  },
  {
   "cell_type": "markdown",
   "metadata": {},
   "source": [
    "The array `fit` has now dimensions `(num_params, n_times, n_stations, n_pol)`, where `n_params` is three (constant, linear term and 1/freq term)."
   ]
  },
  {
   "cell_type": "markdown",
   "metadata": {},
   "source": [
    "Let's check that for the one check station it still gives the same answer:"
   ]
  },
  {
   "cell_type": "code",
   "execution_count": null,
   "metadata": {},
   "outputs": [],
   "source": [
    "fit[:, 0, 14, 0]"
   ]
  },
  {
   "cell_type": "markdown",
   "metadata": {},
   "source": [
    "## Plot the fitted lines"
   ]
  },
  {
   "cell_type": "code",
   "execution_count": null,
   "metadata": {},
   "outputs": [],
   "source": [
    "def plot_phase_and_fit_freq(station_name, *, time=0, pol=0, unwrap=False):\n",
    "    ax = plot_phase_freq(station_name, time, pol, unwrap)\n",
    "    (intercept, slope) = fit[:, time, phase_solution.station_number[station_name], pol]\n",
    "    fit_line = intercept + slope * phase_solution.freq\n",
    "    if not unwrap:\n",
    "        fit_line = constrain_pi(fit_line)\n",
    "    ax.plot(1.e-6 * phase_solution.freq, fit_line)\n",
    "    return ax"
   ]
  },
  {
   "cell_type": "code",
   "execution_count": null,
   "metadata": {},
   "outputs": [],
   "source": [
    "interactive(plot_phase_and_fit_freq, station_name=phase_solution.station, time=(0, n_times-1), pol=(0,1))"
   ]
  },
  {
   "cell_type": "markdown",
   "metadata": {},
   "source": [
    "**Exercise**: check the residual of the fit against the station number. Are we missing systematics?"
   ]
  },
  {
   "cell_type": "markdown",
   "metadata": {},
   "source": [
    "**Exercise**: update the map above to include only stations that are part of `phase_solution`."
   ]
  },
  {
   "cell_type": "markdown",
   "metadata": {},
   "source": [
    "**Bigger exercise**: for the further away remote stations, it is clear that a higher-order term is missing. Physically, we expect to see a 1/freq term due to the ionosphere. Add a 1/freq term in the fit."
   ]
  },
  {
   "cell_type": "code",
   "execution_count": null,
   "metadata": {},
   "outputs": [],
   "source": [
    "def plot_phase_and_fit_freq2(station_name, *, time=0, pol=0, unwrap=False):\n",
    "    ax = plot_phase_freq(station_name, time, pol, unwrap)\n",
    "    (intercept, slope, tec) = fit2[:, time, phase_solution.station_number[station_name], pol]\n",
    "    fit_line = intercept + slope * phase_solution.freq + tec / phase_solution.freq\n",
    "    if not unwrap:\n",
    "        fit_line = constrain_pi(fit_line)\n",
    "    ax.plot(1.e-6 * phase_solution.freq, fit_line)\n",
    "    return ax"
   ]
  },
  {
   "cell_type": "code",
   "execution_count": null,
   "metadata": {},
   "outputs": [],
   "source": [
    "interactive(plot_phase_and_fit_freq2, station_name=phase_solution.station, time=(0, n_times-1), pol=(0,1))"
   ]
  },
  {
   "cell_type": "markdown",
   "metadata": {},
   "source": [
    "**Exercise**: check the 1/freq term against station number; we expect to see higher values for this term for further away (i.e. higher-numbered) stations as they see through a different part of the ionosphere."
   ]
  },
  {
   "cell_type": "markdown",
   "metadata": {},
   "source": [
    "Now that we have a reasonable fit, we expect that the slope term represents a physical thing, namely the drift of the different clocks used in the various LOFAR stations. We can check that by plotting the delay (slope) term against time:"
   ]
  },
  {
   "cell_type": "code",
   "execution_count": null,
   "metadata": {},
   "outputs": [],
   "source": [
    "def plot_delay_time(station_name, pol=0):\n",
    "    fig, ax = plt.subplots(1)\n",
    "    delays = (fit2[1, :, phase_solution.station_number[station_name], pol] -\n",
    "              np.mean(fit[1, :, phase_solution.station_number[station_name], pol])) / (2*np.pi) * 1.e9\n",
    "    ax.plot(phase_solution.time - phase_solution.time[0], delays, '.')\n",
    "    ax.set_xlabel(\"Time (s)\")\n",
    "    ax.set_ylabel(\"Delay (ns)\")\n",
    "    ax.set_ylim(-10, 10)\n",
    "    ax.set_title(\"Delay {}\".format(station_name))\n",
    "    return ax"
   ]
  },
  {
   "cell_type": "code",
   "execution_count": null,
   "metadata": {},
   "outputs": [],
   "source": [
    "interactive(plot_delay_time, station_name=phase_solution.station, pol=[0,1])"
   ]
  },
  {
   "cell_type": "markdown",
   "metadata": {},
   "source": [
    "**Exercise**: There are some systematics left; in particular try to plot the residual solutions (what's left after subtracting the fit) in one plot. (You're on your own from now on.)"
   ]
  },
  {
   "cell_type": "markdown",
   "metadata": {},
   "source": [
    "## Acknowledgements\n",
    "![](./eu_asterics.png)\n",
    "\n",
    "This tutorial was supported by the H2020-Astronomy ESFRI and Research Infrastructure Cluster (Grant Agreement number: 653477)."
   ]
  }
 ],
 "metadata": {
  "kernelspec": {
   "display_name": "Python 3",
   "language": "python",
   "name": "python3"
  },
  "language_info": {
   "codemirror_mode": {
    "name": "ipython",
    "version": 3
   },
   "file_extension": ".py",
   "mimetype": "text/x-python",
   "name": "python",
   "nbconvert_exporter": "python",
   "pygments_lexer": "ipython3",
   "version": "3.6.5"
  }
 },
 "nbformat": 4,
 "nbformat_minor": 2
}
