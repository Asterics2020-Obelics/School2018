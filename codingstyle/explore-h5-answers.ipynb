{
 "cells": [
  {
   "cell_type": "markdown",
   "metadata": {},
   "source": [
    "# Exploring some LOFAR data in Jupyter notebook"
   ]
  },
  {
   "cell_type": "markdown",
   "metadata": {},
   "source": [
    "In this notebook we will be exploring some LOFAR data. LOFAR is a radio interferometer, i.e. all stations record the signal from a given direction and from the interference of that signal an image can be produced.\n",
    "\n",
    "There are a few things for which the instruments needs to be calibrated. That is done by pointing the telescope at a well-known source (in this case 3C196) and comparing the measured data with the expected data.\n",
    "\n",
    "We will explore some calibration solutions, which are stored in an HDF5 file."
   ]
  },
  {
   "cell_type": "markdown",
   "metadata": {},
   "source": [
    "## Initialize and check environment"
   ]
  },
  {
   "cell_type": "code",
   "execution_count": null,
   "metadata": {},
   "outputs": [],
   "source": [
    "import sys"
   ]
  },
  {
   "cell_type": "code",
   "execution_count": null,
   "metadata": {},
   "outputs": [
    {
     "data": {
      "text/plain": [
       "'/anaconda/envs/school18/bin/python'"
      ]
     },
     "execution_count": null,
     "metadata": {},
     "output_type": "execute_result"
    }
   ],
   "source": [
    "sys.executable"
   ]
  },
  {
   "cell_type": "markdown",
   "metadata": {},
   "source": [
    "The above line should mention that you're running python from the `school18` environment"
   ]
  },
  {
   "cell_type": "markdown",
   "metadata": {},
   "source": [
    "## Download and view the calibration solution file"
   ]
  },
  {
   "cell_type": "markdown",
   "metadata": {},
   "source": [
    "The calibration solutions are stored in HDF5 files. Please download the file `lofar-cal.h5` from the school2018-extra repository. No need to clone, the following command should do the trick:"
   ]
  },
  {
   "cell_type": "code",
   "execution_count": null,
   "metadata": {},
   "outputs": [
    {
     "name": "stdout",
     "output_type": "stream",
     "text": [
      "/Users/dijkema/opt/school2018/codingstyle\n"
     ]
    }
   ],
   "source": [
    "!pwd\n",
    "# Uncomment the line below if you realize this is going to download 52 MB\n",
    "#!wget https://github.com/Asterics2020-Obelics/School2018-extra/raw/master/lofar-cal.h5"
   ]
  },
  {
   "cell_type": "code",
   "execution_count": null,
   "metadata": {},
   "outputs": [
    {
     "name": "stderr",
     "output_type": "stream",
     "text": [
      "/anaconda/envs/school18/lib/python3.6/site-packages/h5py/__init__.py:36: FutureWarning: Conversion of the second argument of issubdtype from `float` to `np.floating` is deprecated. In future, it will be treated as `np.float64 == np.dtype(float).type`.\n",
      "  from ._conv import register_converters as _register_converters\n"
     ]
    }
   ],
   "source": [
    "import h5py"
   ]
  },
  {
   "cell_type": "code",
   "execution_count": null,
   "metadata": {},
   "outputs": [
    {
     "data": {
      "text/plain": [
       "'/anaconda/envs/school18/lib/python3.6/site-packages/h5py/__init__.py'"
      ]
     },
     "execution_count": null,
     "metadata": {},
     "output_type": "execute_result"
    }
   ],
   "source": [
    "h5py.__file__"
   ]
  },
  {
   "cell_type": "markdown",
   "metadata": {},
   "source": [
    "The above line should mention that you're running the `h5py` from the `school2018` environment"
   ]
  },
  {
   "cell_type": "code",
   "execution_count": null,
   "metadata": {},
   "outputs": [],
   "source": [
    "import numpy as np"
   ]
  },
  {
   "cell_type": "markdown",
   "metadata": {},
   "source": [
    "Let's open the HDF5 file with LOFAR calibration solutions (change the path to the place where the file is)."
   ]
  },
  {
   "cell_type": "code",
   "execution_count": null,
   "metadata": {},
   "outputs": [],
   "source": [
    "h5filename = 'lofar-cal.h5'"
   ]
  },
  {
   "cell_type": "code",
   "execution_count": null,
   "metadata": {},
   "outputs": [],
   "source": [
    "h5file = h5py.File(h5filename, mode='r')"
   ]
  },
  {
   "cell_type": "markdown",
   "metadata": {},
   "source": [
    "The HDF5 format is hierarchical, it's basically a tree. To show all objects, there is a function `visit`."
   ]
  },
  {
   "cell_type": "markdown",
   "metadata": {},
   "source": [
    "**Exercise**: show the docstring for the `visit` method.\n",
    "\n",
    "**Bonus exercise** 😉: If you want to practice git, fix the typo in `guranteed` and open a pull request at https://github.com/h5py/h5py (first check if no one else did it yet)."
   ]
  },
  {
   "cell_type": "markdown",
   "metadata": {},
   "source": [
    "**Exercise**: use the `visit` function of `h5file` to show the contents of the solutions file."
   ]
  },
  {
   "cell_type": "code",
   "execution_count": null,
   "metadata": {},
   "outputs": [
    {
     "name": "stdout",
     "output_type": "stream",
     "text": [
      "sol000\n",
      "sol000/amplitude000\n",
      "sol000/amplitude000/ant\n",
      "sol000/amplitude000/freq\n",
      "sol000/amplitude000/pol\n",
      "sol000/amplitude000/time\n",
      "sol000/amplitude000/val\n",
      "sol000/antenna\n",
      "sol000/phase000\n",
      "sol000/phase000/ant\n",
      "sol000/phase000/freq\n",
      "sol000/phase000/pol\n",
      "sol000/phase000/time\n",
      "sol000/phase000/val\n",
      "sol000/source\n"
     ]
    }
   ],
   "source": [
    "h5file.visit(print)"
   ]
  },
  {
   "cell_type": "markdown",
   "metadata": {},
   "source": [
    "This would look much more like a tree if it had some indentation at the right places."
   ]
  },
  {
   "cell_type": "markdown",
   "metadata": {},
   "source": [
    "**Exercise**: Create a function `print_node` which, given a node, prints the last component of the string representation of the node, indented by depth in the tree (level 1 gets 4 spaces indent, level 2 gets 8, etc.). Use this function with \"`visit`\" from `h5py.File` to get the following output:\n",
    "```\n",
    "sol000\n",
    "  amplitude000\n",
    "    ant\n",
    "    freq\n",
    "    pol\n",
    "    time\n",
    "    val\n",
    "  antenna\n",
    "  phase000\n",
    "    ant\n",
    "    freq\n",
    "    pol\n",
    "    time\n",
    "    val\n",
    "  source\n",
    "```"
   ]
  },
  {
   "cell_type": "code",
   "execution_count": null,
   "metadata": {},
   "outputs": [],
   "source": [
    "def print_node(node):\n",
    "    *path, name = str(node).split('/')\n",
    "    print('   ' * len(path) + name)"
   ]
  },
  {
   "cell_type": "code",
   "execution_count": null,
   "metadata": {},
   "outputs": [
    {
     "name": "stdout",
     "output_type": "stream",
     "text": [
      "sol000\n",
      "   amplitude000\n",
      "      ant\n",
      "      freq\n",
      "      pol\n",
      "      time\n",
      "      val\n",
      "   antenna\n",
      "   phase000\n",
      "      ant\n",
      "      freq\n",
      "      pol\n",
      "      time\n",
      "      val\n",
      "   source\n"
     ]
    }
   ],
   "source": [
    "h5file.visit(print_node)"
   ]
  },
  {
   "cell_type": "markdown",
   "metadata": {},
   "source": [
    "**Exercise**: expand the function `print_node` to take an optional parameter `indent` which specifies the number of spaces to use for indentation."
   ]
  },
  {
   "cell_type": "markdown",
   "metadata": {},
   "source": [
    "**Exercise**: create the function `print_h5(file, *, indent=4)` which uses `visit` and the function `print_node` to print a listing of an HDF5 file.\n",
    "\n",
    "**Hint**: You may need to use a lambda function `lambda node: print_node(node, indent=indent)` to pass the `indent` argument."
   ]
  },
  {
   "cell_type": "code",
   "execution_count": null,
   "metadata": {},
   "outputs": [],
   "source": [
    "def print_node(node, indent=4):\n",
    "    *path, name = str(node).split('/')\n",
    "    print(' ' * indent * len(path) + name)"
   ]
  },
  {
   "cell_type": "code",
   "execution_count": null,
   "metadata": {},
   "outputs": [
    {
     "name": "stdout",
     "output_type": "stream",
     "text": [
      "sol000\n",
      "    amplitude000\n",
      "        ant\n",
      "        freq\n",
      "        pol\n",
      "        time\n",
      "        val\n",
      "    antenna\n",
      "    phase000\n",
      "        ant\n",
      "        freq\n",
      "        pol\n",
      "        time\n",
      "        val\n",
      "    source\n"
     ]
    }
   ],
   "source": [
    "h5file.visit(lambda node: print_node(node, indent=4))"
   ]
  },
  {
   "cell_type": "markdown",
   "metadata": {},
   "source": [
    "## Excursion to PyCharm"
   ]
  },
  {
   "cell_type": "markdown",
   "metadata": {},
   "source": [
    "1. Copy the functions `print_node` and `print_h5` to a new python file `print_h5.py` and open it in PyCharm.\n",
    "2. Make all PyCharm warnings go away; make sure that running `pycodestyle print_h5.py` creates no warnings.\n",
    "3. Make this file executable, use the `#!/usr/bin/env python` as first line.\n",
    "4. Use `if __name == \"__main__\"` to make it possible to run the file both as an importable module and as a stand-alone file.\n",
    "5. Use argparse to create an interface like the following:\n",
    "\n",
    "```\n",
    "./print_h5.py --help\n",
    "usage: print_h5.py [-h] [-i INDENT] filename\n",
    "\n",
    "Print contents of an HDF5 file.\n",
    "\n",
    "positional arguments:\n",
    "  filename              HDF5 file name\n",
    "\n",
    "optional arguments:\n",
    "  -h, --help            show this help message and exit\n",
    "  -i INDENT, --indent INDENT\n",
    "                        Indentation level\n",
    "```\n",
    "6. Include doctests in your function `print_node` to verify that:\n",
    "\n",
    "```\n",
    "a/b/c prints '        c'\n",
    "a/b prints   '    b'\n",
    "a prints     'a'\n",
    "\n",
    "a/b with indent = 2 prints '  a'\n",
    "```\n",
    "7. In a terminal, run `pytest --doctest-modules print_h5.py` and check that the doctests run and pass."
   ]
  },
  {
   "cell_type": "markdown",
   "metadata": {},
   "source": [
    "## Continue after PyCharm excursion"
   ]
  },
  {
   "cell_type": "markdown",
   "metadata": {},
   "source": [
    "If the file `print_h5.py` is in the current working directory, we can load it into this notebook:"
   ]
  },
  {
   "cell_type": "code",
   "execution_count": null,
   "metadata": {},
   "outputs": [],
   "source": [
    "from print_h5 import print_h5"
   ]
  },
  {
   "cell_type": "code",
   "execution_count": null,
   "metadata": {},
   "outputs": [
    {
     "name": "stdout",
     "output_type": "stream",
     "text": [
      "sol000\n",
      "    amplitude000\n",
      "        ant\n",
      "        freq\n",
      "        pol\n",
      "        time\n",
      "        val\n",
      "    antenna\n",
      "    phase000\n",
      "        ant\n",
      "        freq\n",
      "        pol\n",
      "        time\n",
      "        val\n",
      "    source\n"
     ]
    }
   ],
   "source": [
    "print_h5(h5filename)"
   ]
  },
  {
   "cell_type": "markdown",
   "metadata": {},
   "source": [
    "All solutions are stored inside the group '`sol000`'."
   ]
  },
  {
   "cell_type": "markdown",
   "metadata": {},
   "source": [
    "A few words about the file format:\n",
    " * The `antenna` table contains metadata on the antennas (or actually antenna stations)\n",
    " * The tables `amplitude000/val` and `phase000/val` contain the actual calibration data, in a large cube (multi-dimensional array)\n",
    " * The other tables `amplitude/time`, `amplitude/ant`, `amplitude/freq`, , `amplitude/pol` contain the metadata for each of the axes of the data cube"
   ]
  },
  {
   "cell_type": "markdown",
   "metadata": {},
   "source": [
    "You can access subgroups either by nesting squared brackets (i.e. `sol['amplitude000']['ant']`) or by using a slash (i.e. `sol['amplitude000/ant']`)."
   ]
  },
  {
   "cell_type": "markdown",
   "metadata": {},
   "source": [
    "## Plot antennas"
   ]
  },
  {
   "cell_type": "code",
   "execution_count": null,
   "metadata": {},
   "outputs": [],
   "source": [
    "antennadata = h5file['sol000/antenna']"
   ]
  },
  {
   "cell_type": "code",
   "execution_count": null,
   "metadata": {},
   "outputs": [
    {
     "data": {
      "text/plain": [
       "(b'CS001LBA', [ 6.8676305, 52.911396 , 50.16268  ])"
      ]
     },
     "execution_count": null,
     "metadata": {},
     "output_type": "execute_result"
    }
   ],
   "source": [
    "antennadata[0]"
   ]
  },
  {
   "cell_type": "markdown",
   "metadata": {},
   "source": [
    "An antenna consists of a tuple of its name and its coordinates (in the form longitude, latitude and elevatiom)."
   ]
  },
  {
   "cell_type": "markdown",
   "metadata": {},
   "source": [
    "Note that the name `b'CS001LBA'` comes from the HDF5 as \"bytes\": python does not know yet which character set to use for these bytes. To convert it to a normal string, we need to tell python the character set used. Actually any character set will do here, since (almost) all character sets map 'normal' letters to the right thing (and LOFAR does not have stations called `CS00😇LBA`)."
   ]
  },
  {
   "cell_type": "code",
   "execution_count": null,
   "metadata": {},
   "outputs": [],
   "source": [
    "antenna_names = [antenna[0].decode('utf-8') for antenna in antennadata]"
   ]
  },
  {
   "cell_type": "code",
   "execution_count": null,
   "metadata": {},
   "outputs": [],
   "source": [
    "coords_latlon = np.array([antenna[1][1::-1] for antenna in antennadata])"
   ]
  },
  {
   "cell_type": "markdown",
   "metadata": {},
   "source": [
    "With `folium` we can convert this list of coordinates into a nice leaflet map."
   ]
  },
  {
   "cell_type": "code",
   "execution_count": null,
   "metadata": {},
   "outputs": [],
   "source": [
    "import folium"
   ]
  },
  {
   "cell_type": "code",
   "execution_count": null,
   "metadata": {},
   "outputs": [],
   "source": [
    "antennamap = folium.Map(location=[52.91494834, 6.86876941], zoom_start=16,\n",
    "                        tiles='http://services.arcgisonline.com/arcgis/rest/services/World_Imagery/MapServer/MapServer/tile/{z}/{y}/{x}',\n",
    "                        attr='ESRI')\n",
    "\n",
    "for ant_num, coord_latlon in enumerate(coords_latlon):\n",
    "    folium.Marker(coord_latlon, popup=antenna_names[ant_num]).add_to(antennamap)"
   ]
  },
  {
   "cell_type": "code",
   "execution_count": null,
   "metadata": {
    "scrolled": true
   },
   "outputs": [
    {
     "data": {
      "text/html": [
       "<div style=\"width:100%;\"><div style=\"position:relative;width:100%;height:0;padding-bottom:60%;\"><iframe src=\"data:text/html;charset=utf-8;base64,PCFET0NUWVBFIGh0bWw+CjxoZWFkPiAgICAKICAgIDxtZXRhIGh0dHAtZXF1aXY9ImNvbnRlbnQtdHlwZSIgY29udGVudD0idGV4dC9odG1sOyBjaGFyc2V0PVVURi04IiAvPgogICAgPHNjcmlwdD5MX1BSRUZFUl9DQU5WQVMgPSBmYWxzZTsgTF9OT19UT1VDSCA9IGZhbHNlOyBMX0RJU0FCTEVfM0QgPSBmYWxzZTs8L3NjcmlwdD4KICAgIDxzY3JpcHQgc3JjPSJodHRwczovL2Nkbi5qc2RlbGl2ci5uZXQvbnBtL2xlYWZsZXRAMS4yLjAvZGlzdC9sZWFmbGV0LmpzIj48L3NjcmlwdD4KICAgIDxzY3JpcHQgc3JjPSJodHRwczovL2FqYXguZ29vZ2xlYXBpcy5jb20vYWpheC9saWJzL2pxdWVyeS8xLjExLjEvanF1ZXJ5Lm1pbi5qcyI+PC9zY3JpcHQ+CiAgICA8c2NyaXB0IHNyYz0iaHR0cHM6Ly9tYXhjZG4uYm9vdHN0cmFwY2RuLmNvbS9ib290c3RyYXAvMy4yLjAvanMvYm9vdHN0cmFwLm1pbi5qcyI+PC9zY3JpcHQ+CiAgICA8c2NyaXB0IHNyYz0iaHR0cHM6Ly9jZG5qcy5jbG91ZGZsYXJlLmNvbS9hamF4L2xpYnMvTGVhZmxldC5hd2Vzb21lLW1hcmtlcnMvMi4wLjIvbGVhZmxldC5hd2Vzb21lLW1hcmtlcnMuanMiPjwvc2NyaXB0PgogICAgPGxpbmsgcmVsPSJzdHlsZXNoZWV0IiBocmVmPSJodHRwczovL2Nkbi5qc2RlbGl2ci5uZXQvbnBtL2xlYWZsZXRAMS4yLjAvZGlzdC9sZWFmbGV0LmNzcyIvPgogICAgPGxpbmsgcmVsPSJzdHlsZXNoZWV0IiBocmVmPSJodHRwczovL21heGNkbi5ib290c3RyYXBjZG4uY29tL2Jvb3RzdHJhcC8zLjIuMC9jc3MvYm9vdHN0cmFwLm1pbi5jc3MiLz4KICAgIDxsaW5rIHJlbD0ic3R5bGVzaGVldCIgaHJlZj0iaHR0cHM6Ly9tYXhjZG4uYm9vdHN0cmFwY2RuLmNvbS9ib290c3RyYXAvMy4yLjAvY3NzL2Jvb3RzdHJhcC10aGVtZS5taW4uY3NzIi8+CiAgICA8bGluayByZWw9InN0eWxlc2hlZXQiIGhyZWY9Imh0dHBzOi8vbWF4Y2RuLmJvb3RzdHJhcGNkbi5jb20vZm9udC1hd2Vzb21lLzQuNi4zL2Nzcy9mb250LWF3ZXNvbWUubWluLmNzcyIvPgogICAgPGxpbmsgcmVsPSJzdHlsZXNoZWV0IiBocmVmPSJodHRwczovL2NkbmpzLmNsb3VkZmxhcmUuY29tL2FqYXgvbGlicy9MZWFmbGV0LmF3ZXNvbWUtbWFya2Vycy8yLjAuMi9sZWFmbGV0LmF3ZXNvbWUtbWFya2Vycy5jc3MiLz4KICAgIDxsaW5rIHJlbD0ic3R5bGVzaGVldCIgaHJlZj0iaHR0cHM6Ly9yYXdnaXQuY29tL3B5dGhvbi12aXN1YWxpemF0aW9uL2ZvbGl1bS9tYXN0ZXIvZm9saXVtL3RlbXBsYXRlcy9sZWFmbGV0LmF3ZXNvbWUucm90YXRlLmNzcyIvPgogICAgPHN0eWxlPmh0bWwsIGJvZHkge3dpZHRoOiAxMDAlO2hlaWdodDogMTAwJTttYXJnaW46IDA7cGFkZGluZzogMDt9PC9zdHlsZT4KICAgIDxzdHlsZT4jbWFwIHtwb3NpdGlvbjphYnNvbHV0ZTt0b3A6MDtib3R0b206MDtyaWdodDowO2xlZnQ6MDt9PC9zdHlsZT4KICAgIAogICAgICAgICAgICA8c3R5bGU+ICNtYXBfYThlM2MzMzI0ZTU1NGMwYTlhOWZhNTc1ZjEwNWY1ZGEgewogICAgICAgICAgICAgICAgcG9zaXRpb24gOiByZWxhdGl2ZTsKICAgICAgICAgICAgICAgIHdpZHRoIDogMTAwLjAlOwogICAgICAgICAgICAgICAgaGVpZ2h0OiAxMDAuMCU7CiAgICAgICAgICAgICAgICBsZWZ0OiAwLjAlOwogICAgICAgICAgICAgICAgdG9wOiAwLjAlOwogICAgICAgICAgICAgICAgfQogICAgICAgICAgICA8L3N0eWxlPgogICAgICAgIAo8L2hlYWQ+Cjxib2R5PiAgICAKICAgIAogICAgICAgICAgICA8ZGl2IGNsYXNzPSJmb2xpdW0tbWFwIiBpZD0ibWFwX2E4ZTNjMzMyNGU1NTRjMGE5YTlmYTU3NWYxMDVmNWRhIiA+PC9kaXY+CiAgICAgICAgCjwvYm9keT4KPHNjcmlwdD4gICAgCiAgICAKCiAgICAgICAgICAgIAogICAgICAgICAgICAgICAgdmFyIGJvdW5kcyA9IG51bGw7CiAgICAgICAgICAgIAoKICAgICAgICAgICAgdmFyIG1hcF9hOGUzYzMzMjRlNTU0YzBhOWE5ZmE1NzVmMTA1ZjVkYSA9IEwubWFwKAogICAgICAgICAgICAgICAgICAgICAgICAgICAgICAgICAgJ21hcF9hOGUzYzMzMjRlNTU0YzBhOWE5ZmE1NzVmMTA1ZjVkYScsCiAgICAgICAgICAgICAgICAgICAgICAgICAgICAgICAgICB7Y2VudGVyOiBbNTIuOTE0OTQ4MzQsNi44Njg3Njk0MV0sCiAgICAgICAgICAgICAgICAgICAgICAgICAgICAgICAgICB6b29tOiAxNiwKICAgICAgICAgICAgICAgICAgICAgICAgICAgICAgICAgIG1heEJvdW5kczogYm91bmRzLAogICAgICAgICAgICAgICAgICAgICAgICAgICAgICAgICAgbGF5ZXJzOiBbXSwKICAgICAgICAgICAgICAgICAgICAgICAgICAgICAgICAgIHdvcmxkQ29weUp1bXA6IGZhbHNlLAogICAgICAgICAgICAgICAgICAgICAgICAgICAgICAgICAgY3JzOiBMLkNSUy5FUFNHMzg1NwogICAgICAgICAgICAgICAgICAgICAgICAgICAgICAgICB9KTsKICAgICAgICAgICAgCiAgICAgICAgCiAgICAKICAgICAgICAgICAgdmFyIHRpbGVfbGF5ZXJfYzA3MDY0ZTk2Y2Y1NDUxZTgxZDY2OTA4ZDNmMTczNWQgPSBMLnRpbGVMYXllcigKICAgICAgICAgICAgICAgICdodHRwOi8vc2VydmljZXMuYXJjZ2lzb25saW5lLmNvbS9hcmNnaXMvcmVzdC9zZXJ2aWNlcy9Xb3JsZF9JbWFnZXJ5L01hcFNlcnZlci9NYXBTZXJ2ZXIvdGlsZS97en0ve3l9L3t4fScsCiAgICAgICAgICAgICAgICB7CiAgImF0dHJpYnV0aW9uIjogIkVTUkkiLAogICJkZXRlY3RSZXRpbmEiOiBmYWxzZSwKICAibWF4Wm9vbSI6IDE4LAogICJtaW5ab29tIjogMSwKICAibm9XcmFwIjogZmFsc2UsCiAgInN1YmRvbWFpbnMiOiAiYWJjIgp9CiAgICAgICAgICAgICAgICApLmFkZFRvKG1hcF9hOGUzYzMzMjRlNTU0YzBhOWE5ZmE1NzVmMTA1ZjVkYSk7CiAgICAgICAgCiAgICAKCiAgICAgICAgICAgIHZhciBtYXJrZXJfZDhhYWM5M2YzODdmNDNlYmFjNDE2OWJkYjEyYTNkYzUgPSBMLm1hcmtlcigKICAgICAgICAgICAgICAgIFs1Mi45MTEzOTYsNi44Njc2MzA1XSwKICAgICAgICAgICAgICAgIHsKICAgICAgICAgICAgICAgICAgICBpY29uOiBuZXcgTC5JY29uLkRlZmF1bHQoKQogICAgICAgICAgICAgICAgICAgIH0KICAgICAgICAgICAgICAgICkKICAgICAgICAgICAgICAgIC5hZGRUbyhtYXBfYThlM2MzMzI0ZTU1NGMwYTlhOWZhNTc1ZjEwNWY1ZGEpOwogICAgICAgICAgICAKICAgIAogICAgICAgICAgICB2YXIgcG9wdXBfY2QzOWExYmUyZGQzNDllMDg5Njg1Y2Y4MzZlZTQxOTcgPSBMLnBvcHVwKHttYXhXaWR0aDogJzMwMCd9KTsKCiAgICAgICAgICAgIAogICAgICAgICAgICAgICAgdmFyIGh0bWxfOWFiNGViZDhmZjZhNGIwYjgwNDRkMzFkZGY2MTA0MzYgPSAkKCc8ZGl2IGlkPSJodG1sXzlhYjRlYmQ4ZmY2YTRiMGI4MDQ0ZDMxZGRmNjEwNDM2IiBzdHlsZT0id2lkdGg6IDEwMC4wJTsgaGVpZ2h0OiAxMDAuMCU7Ij5DUzAwMUxCQTwvZGl2PicpWzBdOwogICAgICAgICAgICAgICAgcG9wdXBfY2QzOWExYmUyZGQzNDllMDg5Njg1Y2Y4MzZlZTQxOTcuc2V0Q29udGVudChodG1sXzlhYjRlYmQ4ZmY2YTRiMGI4MDQ0ZDMxZGRmNjEwNDM2KTsKICAgICAgICAgICAgCgogICAgICAgICAgICBtYXJrZXJfZDhhYWM5M2YzODdmNDNlYmFjNDE2OWJkYjEyYTNkYzUuYmluZFBvcHVwKHBvcHVwX2NkMzlhMWJlMmRkMzQ5ZTA4OTY4NWNmODM2ZWU0MTk3KTsKCiAgICAgICAgICAgIAogICAgICAgIAogICAgCgogICAgICAgICAgICB2YXIgbWFya2VyX2ZhMTg4ZjczZTgzMzRmMWRhYzI0YTcwZGMyNDBhMGM0ID0gTC5tYXJrZXIoCiAgICAgICAgICAgICAgICBbNTIuOTE1MTIsNi44Njk4MzNdLAogICAgICAgICAgICAgICAgewogICAgICAgICAgICAgICAgICAgIGljb246IG5ldyBMLkljb24uRGVmYXVsdCgpCiAgICAgICAgICAgICAgICAgICAgfQogICAgICAgICAgICAgICAgKQogICAgICAgICAgICAgICAgLmFkZFRvKG1hcF9hOGUzYzMzMjRlNTU0YzBhOWE5ZmE1NzVmMTA1ZjVkYSk7CiAgICAgICAgICAgIAogICAgCiAgICAgICAgICAgIHZhciBwb3B1cF83OTkyYmE4ODU5YTY0NzcxYjU2MjNjMDNkOTJiZjBkZSA9IEwucG9wdXAoe21heFdpZHRoOiAnMzAwJ30pOwoKICAgICAgICAgICAgCiAgICAgICAgICAgICAgICB2YXIgaHRtbF9lMzcxNjNiNGM1ZDc0ZTQzYjZjMWQ1YjFjYTI5MjA3NSA9ICQoJzxkaXYgaWQ9Imh0bWxfZTM3MTYzYjRjNWQ3NGU0M2I2YzFkNWIxY2EyOTIwNzUiIHN0eWxlPSJ3aWR0aDogMTAwLjAlOyBoZWlnaHQ6IDEwMC4wJTsiPkNTMDAyTEJBPC9kaXY+JylbMF07CiAgICAgICAgICAgICAgICBwb3B1cF83OTkyYmE4ODU5YTY0NzcxYjU2MjNjMDNkOTJiZjBkZS5zZXRDb250ZW50KGh0bWxfZTM3MTYzYjRjNWQ3NGU0M2I2YzFkNWIxY2EyOTIwNzUpOwogICAgICAgICAgICAKCiAgICAgICAgICAgIG1hcmtlcl9mYTE4OGY3M2U4MzM0ZjFkYWMyNGE3MGRjMjQwYTBjNC5iaW5kUG9wdXAocG9wdXBfNzk5MmJhODg1OWE2NDc3MWI1NjIzYzAzZDkyYmYwZGUpOwoKICAgICAgICAgICAgCiAgICAgICAgCiAgICAKCiAgICAgICAgICAgIHZhciBtYXJrZXJfNWY2MmM2OTkyZTE1NDQwOGJmNWEyMjg3YjM2N2QwNzQgPSBMLm1hcmtlcigKICAgICAgICAgICAgICAgIFs1Mi45MTU5Miw2Ljg2ODU2OTRdLAogICAgICAgICAgICAgICAgewogICAgICAgICAgICAgICAgICAgIGljb246IG5ldyBMLkljb24uRGVmYXVsdCgpCiAgICAgICAgICAgICAgICAgICAgfQogICAgICAgICAgICAgICAgKQogICAgICAgICAgICAgICAgLmFkZFRvKG1hcF9hOGUzYzMzMjRlNTU0YzBhOWE5ZmE1NzVmMTA1ZjVkYSk7CiAgICAgICAgICAgIAogICAgCiAgICAgICAgICAgIHZhciBwb3B1cF81NDY5MWY5ZWUwMTY0OWYxYTg0OGM5Mjc2NDMzNzcxZSA9IEwucG9wdXAoe21heFdpZHRoOiAnMzAwJ30pOwoKICAgICAgICAgICAgCiAgICAgICAgICAgICAgICB2YXIgaHRtbF9iNDNiYTgzZDQ0Njg0MjE4OWRhMmMwNmQ4OTA4ZTI1MiA9ICQoJzxkaXYgaWQ9Imh0bWxfYjQzYmE4M2Q0NDY4NDIxODlkYTJjMDZkODkwOGUyNTIiIHN0eWxlPSJ3aWR0aDogMTAwLjAlOyBoZWlnaHQ6IDEwMC4wJTsiPkNTMDAzTEJBPC9kaXY+JylbMF07CiAgICAgICAgICAgICAgICBwb3B1cF81NDY5MWY5ZWUwMTY0OWYxYTg0OGM5Mjc2NDMzNzcxZS5zZXRDb250ZW50KGh0bWxfYjQzYmE4M2Q0NDY4NDIxODlkYTJjMDZkODkwOGUyNTIpOwogICAgICAgICAgICAKCiAgICAgICAgICAgIG1hcmtlcl81ZjYyYzY5OTJlMTU0NDA4YmY1YTIyODdiMzY3ZDA3NC5iaW5kUG9wdXAocG9wdXBfNTQ2OTFmOWVlMDE2NDlmMWE4NDhjOTI3NjQzMzc3MWUpOwoKICAgICAgICAgICAgCiAgICAgICAgCiAgICAKCiAgICAgICAgICAgIHZhciBtYXJrZXJfYjYxOWQ5Y2U1YmFjNGRlNmJkN2E1NjI3NGRkZDZkZjcgPSBMLm1hcmtlcigKICAgICAgICAgICAgICAgIFs1Mi45MTQzNjgsNi44Njg0NjU0XSwKICAgICAgICAgICAgICAgIHsKICAgICAgICAgICAgICAgICAgICBpY29uOiBuZXcgTC5JY29uLkRlZmF1bHQoKQogICAgICAgICAgICAgICAgICAgIH0KICAgICAgICAgICAgICAgICkKICAgICAgICAgICAgICAgIC5hZGRUbyhtYXBfYThlM2MzMzI0ZTU1NGMwYTlhOWZhNTc1ZjEwNWY1ZGEpOwogICAgICAgICAgICAKICAgIAogICAgICAgICAgICB2YXIgcG9wdXBfZDYwM2UzM2MxNzg0NGMwZDlmNjBkMWE3NmQ4YzQ0NTcgPSBMLnBvcHVwKHttYXhXaWR0aDogJzMwMCd9KTsKCiAgICAgICAgICAgIAogICAgICAgICAgICAgICAgdmFyIGh0bWxfODc4MGY4Y2ZlY2JmNDVjMmE2ZWVjYWUwMTc2ZGJlN2IgPSAkKCc8ZGl2IGlkPSJodG1sXzg3ODBmOGNmZWNiZjQ1YzJhNmVlY2FlMDE3NmRiZTdiIiBzdHlsZT0id2lkdGg6IDEwMC4wJTsgaGVpZ2h0OiAxMDAuMCU7Ij5DUzAwNExCQTwvZGl2PicpWzBdOwogICAgICAgICAgICAgICAgcG9wdXBfZDYwM2UzM2MxNzg0NGMwZDlmNjBkMWE3NmQ4YzQ0NTcuc2V0Q29udGVudChodG1sXzg3ODBmOGNmZWNiZjQ1YzJhNmVlY2FlMDE3NmRiZTdiKTsKICAgICAgICAgICAgCgogICAgICAgICAgICBtYXJrZXJfYjYxOWQ5Y2U1YmFjNGRlNmJkN2E1NjI3NGRkZDZkZjcuYmluZFBvcHVwKHBvcHVwX2Q2MDNlMzNjMTc4NDRjMGQ5ZjYwZDFhNzZkOGM0NDU3KTsKCiAgICAgICAgICAgIAogICAgICAgIAogICAgCgogICAgICAgICAgICB2YXIgbWFya2VyX2Y0NGIxNzg2MTkwMzQyNzZhM2YwYjgwNmE5N2ZkZTI4ID0gTC5tYXJrZXIoCiAgICAgICAgICAgICAgICBbNTIuOTE0MDMyLDYuODcwMzU3NV0sCiAgICAgICAgICAgICAgICB7CiAgICAgICAgICAgICAgICAgICAgaWNvbjogbmV3IEwuSWNvbi5EZWZhdWx0KCkKICAgICAgICAgICAgICAgICAgICB9CiAgICAgICAgICAgICAgICApCiAgICAgICAgICAgICAgICAuYWRkVG8obWFwX2E4ZTNjMzMyNGU1NTRjMGE5YTlmYTU3NWYxMDVmNWRhKTsKICAgICAgICAgICAgCiAgICAKICAgICAgICAgICAgdmFyIHBvcHVwX2ExODZlN2RmOWJkYzRjZTI5NDMyMzgxMWU2NjU1YTllID0gTC5wb3B1cCh7bWF4V2lkdGg6ICczMDAnfSk7CgogICAgICAgICAgICAKICAgICAgICAgICAgICAgIHZhciBodG1sX2U3YTdlMWI0ZjExNDRhNzA5YTZlNzFiMzE4ZTNmZjZlID0gJCgnPGRpdiBpZD0iaHRtbF9lN2E3ZTFiNGYxMTQ0YTcwOWE2ZTcxYjMxOGUzZmY2ZSIgc3R5bGU9IndpZHRoOiAxMDAuMCU7IGhlaWdodDogMTAwLjAlOyI+Q1MwMDVMQkE8L2Rpdj4nKVswXTsKICAgICAgICAgICAgICAgIHBvcHVwX2ExODZlN2RmOWJkYzRjZTI5NDMyMzgxMWU2NjU1YTllLnNldENvbnRlbnQoaHRtbF9lN2E3ZTFiNGYxMTQ0YTcwOWE2ZTcxYjMxOGUzZmY2ZSk7CiAgICAgICAgICAgIAoKICAgICAgICAgICAgbWFya2VyX2Y0NGIxNzg2MTkwMzQyNzZhM2YwYjgwNmE5N2ZkZTI4LmJpbmRQb3B1cChwb3B1cF9hMTg2ZTdkZjliZGM0Y2UyOTQzMjM4MTFlNjY1NWE5ZSk7CgogICAgICAgICAgICAKICAgICAgICAKICAgIAoKICAgICAgICAgICAgdmFyIG1hcmtlcl9kYTBjMjJkY2NkZjk0MWFmYjBlMjNiNWM2OTc1NzZhZCA9IEwubWFya2VyKAogICAgICAgICAgICAgICAgWzUyLjkxNDczNCw2Ljg3MTYwMl0sCiAgICAgICAgICAgICAgICB7CiAgICAgICAgICAgICAgICAgICAgaWNvbjogbmV3IEwuSWNvbi5EZWZhdWx0KCkKICAgICAgICAgICAgICAgICAgICB9CiAgICAgICAgICAgICAgICApCiAgICAgICAgICAgICAgICAuYWRkVG8obWFwX2E4ZTNjMzMyNGU1NTRjMGE5YTlmYTU3NWYxMDVmNWRhKTsKICAgICAgICAgICAgCiAgICAKICAgICAgICAgICAgdmFyIHBvcHVwX2ZlOWYyZTJiNjA0NjQwMDg4MzVlN2IxNTJjZWQxMmViID0gTC5wb3B1cCh7bWF4V2lkdGg6ICczMDAnfSk7CgogICAgICAgICAgICAKICAgICAgICAgICAgICAgIHZhciBodG1sX2Q3YzY2NjYxM2EzYzQxNTY5MjJkZDEzMmEzMGZiZWNmID0gJCgnPGRpdiBpZD0iaHRtbF9kN2M2NjY2MTNhM2M0MTU2OTIyZGQxMzJhMzBmYmVjZiIgc3R5bGU9IndpZHRoOiAxMDAuMCU7IGhlaWdodDogMTAwLjAlOyI+Q1MwMDZMQkE8L2Rpdj4nKVswXTsKICAgICAgICAgICAgICAgIHBvcHVwX2ZlOWYyZTJiNjA0NjQwMDg4MzVlN2IxNTJjZWQxMmViLnNldENvbnRlbnQoaHRtbF9kN2M2NjY2MTNhM2M0MTU2OTIyZGQxMzJhMzBmYmVjZik7CiAgICAgICAgICAgIAoKICAgICAgICAgICAgbWFya2VyX2RhMGMyMmRjY2RmOTQxYWZiMGUyM2I1YzY5NzU3NmFkLmJpbmRQb3B1cChwb3B1cF9mZTlmMmUyYjYwNDY0MDA4ODM1ZTdiMTUyY2VkMTJlYik7CgogICAgICAgICAgICAKICAgICAgICAKICAgIAoKICAgICAgICAgICAgdmFyIG1hcmtlcl80MzBkNTZmZWQxNTk0ZDg2OTliODU4OWQ3ZTZkMWEyZiA9IEwubWFya2VyKAogICAgICAgICAgICAgICAgWzUyLjkxNTUwNCw2Ljg3MTAzMjddLAogICAgICAgICAgICAgICAgewogICAgICAgICAgICAgICAgICAgIGljb246IG5ldyBMLkljb24uRGVmYXVsdCgpCiAgICAgICAgICAgICAgICAgICAgfQogICAgICAgICAgICAgICAgKQogICAgICAgICAgICAgICAgLmFkZFRvKG1hcF9hOGUzYzMzMjRlNTU0YzBhOWE5ZmE1NzVmMTA1ZjVkYSk7CiAgICAgICAgICAgIAogICAgCiAgICAgICAgICAgIHZhciBwb3B1cF85YTRiMDZiNzVmZDI0NGY3OGIyMWQ3MzA0MTBiOTA0ZiA9IEwucG9wdXAoe21heFdpZHRoOiAnMzAwJ30pOwoKICAgICAgICAgICAgCiAgICAgICAgICAgICAgICB2YXIgaHRtbF83OTJjOTQyZTFiNTE0OTU5YjY0MjlhMWUwYjhiMjM3MiA9ICQoJzxkaXYgaWQ9Imh0bWxfNzkyYzk0MmUxYjUxNDk1OWI2NDI5YTFlMGI4YjIzNzIiIHN0eWxlPSJ3aWR0aDogMTAwLjAlOyBoZWlnaHQ6IDEwMC4wJTsiPkNTMDA3TEJBPC9kaXY+JylbMF07CiAgICAgICAgICAgICAgICBwb3B1cF85YTRiMDZiNzVmZDI0NGY3OGIyMWQ3MzA0MTBiOTA0Zi5zZXRDb250ZW50KGh0bWxfNzkyYzk0MmUxYjUxNDk1OWI2NDI5YTFlMGI4YjIzNzIpOwogICAgICAgICAgICAKCiAgICAgICAgICAgIG1hcmtlcl80MzBkNTZmZWQxNTk0ZDg2OTliODU4OWQ3ZTZkMWEyZi5iaW5kUG9wdXAocG9wdXBfOWE0YjA2Yjc1ZmQyNDRmNzhiMjFkNzMwNDEwYjkwNGYpOwoKICAgICAgICAgICAgCiAgICAgICAgCiAgICAKCiAgICAgICAgICAgIHZhciBtYXJrZXJfM2YyMDY5YzYzNzJiNDc3ZWIzMjQ1MzFhZDJiMDk5YTcgPSBMLm1hcmtlcigKICAgICAgICAgICAgICAgIFs1Mi45MTM3NTcsNi44NzM1NTNdLAogICAgICAgICAgICAgICAgewogICAgICAgICAgICAgICAgICAgIGljb246IG5ldyBMLkljb24uRGVmYXVsdCgpCiAgICAgICAgICAgICAgICAgICAgfQogICAgICAgICAgICAgICAgKQogICAgICAgICAgICAgICAgLmFkZFRvKG1hcF9hOGUzYzMzMjRlNTU0YzBhOWE5ZmE1NzVmMTA1ZjVkYSk7CiAgICAgICAgICAgIAogICAgCiAgICAgICAgICAgIHZhciBwb3B1cF80ODNjYTQ1MTk1NjM0MzI3YTBhNmFmOGE4YWEyYWM2YSA9IEwucG9wdXAoe21heFdpZHRoOiAnMzAwJ30pOwoKICAgICAgICAgICAgCiAgICAgICAgICAgICAgICB2YXIgaHRtbF8zM2JmYmRhNzY1MzE0N2Q0YjRmMTRlYzk1OGY1NWI2MCA9ICQoJzxkaXYgaWQ9Imh0bWxfMzNiZmJkYTc2NTMxNDdkNGI0ZjE0ZWM5NThmNTViNjAiIHN0eWxlPSJ3aWR0aDogMTAwLjAlOyBoZWlnaHQ6IDEwMC4wJTsiPkNTMDExTEJBPC9kaXY+JylbMF07CiAgICAgICAgICAgICAgICBwb3B1cF80ODNjYTQ1MTk1NjM0MzI3YTBhNmFmOGE4YWEyYWM2YS5zZXRDb250ZW50KGh0bWxfMzNiZmJkYTc2NTMxNDdkNGI0ZjE0ZWM5NThmNTViNjApOwogICAgICAgICAgICAKCiAgICAgICAgICAgIG1hcmtlcl8zZjIwNjljNjM3MmI0NzdlYjMyNDUzMWFkMmIwOTlhNy5iaW5kUG9wdXAocG9wdXBfNDgzY2E0NTE5NTYzNDMyN2EwYTZhZjhhOGFhMmFjNmEpOwoKICAgICAgICAgICAgCiAgICAgICAgCiAgICAKCiAgICAgICAgICAgIHZhciBtYXJrZXJfMDNlNjU5NTA4NTQ5NDc1ZmFlZWI0ZmY4NzEyYmNhODggPSBMLm1hcmtlcigKICAgICAgICAgICAgICAgIFs1Mi45MTgwMSw2Ljg2NjgzNl0sCiAgICAgICAgICAgICAgICB7CiAgICAgICAgICAgICAgICAgICAgaWNvbjogbmV3IEwuSWNvbi5EZWZhdWx0KCkKICAgICAgICAgICAgICAgICAgICB9CiAgICAgICAgICAgICAgICApCiAgICAgICAgICAgICAgICAuYWRkVG8obWFwX2E4ZTNjMzMyNGU1NTRjMGE5YTlmYTU3NWYxMDVmNWRhKTsKICAgICAgICAgICAgCiAgICAKICAgICAgICAgICAgdmFyIHBvcHVwXzdhMDVjOWExZTAzMjQ5ZDg5ZjU4MzQxNjRlN2UzZmI4ID0gTC5wb3B1cCh7bWF4V2lkdGg6ICczMDAnfSk7CgogICAgICAgICAgICAKICAgICAgICAgICAgICAgIHZhciBodG1sXzYzYjJmY2MzOTUwODQ5NGQ4ZmZkM2Y2MzNmZWY3OTk1ID0gJCgnPGRpdiBpZD0iaHRtbF82M2IyZmNjMzk1MDg0OTRkOGZmZDNmNjMzZmVmNzk5NSIgc3R5bGU9IndpZHRoOiAxMDAuMCU7IGhlaWdodDogMTAwLjAlOyI+Q1MwMTNMQkE8L2Rpdj4nKVswXTsKICAgICAgICAgICAgICAgIHBvcHVwXzdhMDVjOWExZTAzMjQ5ZDg5ZjU4MzQxNjRlN2UzZmI4LnNldENvbnRlbnQoaHRtbF82M2IyZmNjMzk1MDg0OTRkOGZmZDNmNjMzZmVmNzk5NSk7CiAgICAgICAgICAgIAoKICAgICAgICAgICAgbWFya2VyXzAzZTY1OTUwODU0OTQ3NWZhZWViNGZmODcxMmJjYTg4LmJpbmRQb3B1cChwb3B1cF83YTA1YzlhMWUwMzI0OWQ4OWY1ODM0MTY0ZTdlM2ZiOCk7CgogICAgICAgICAgICAKICAgICAgICAKICAgIAoKICAgICAgICAgICAgdmFyIG1hcmtlcl9jYTEzYTM3MDE5YzA0ZmEzYWE5OWU2OTUzM2Q2ODA5NCA9IEwubWFya2VyKAogICAgICAgICAgICAgICAgWzUyLjkxNTc2LDYuODc3MTA3XSwKICAgICAgICAgICAgICAgIHsKICAgICAgICAgICAgICAgICAgICBpY29uOiBuZXcgTC5JY29uLkRlZmF1bHQoKQogICAgICAgICAgICAgICAgICAgIH0KICAgICAgICAgICAgICAgICkKICAgICAgICAgICAgICAgIC5hZGRUbyhtYXBfYThlM2MzMzI0ZTU1NGMwYTlhOWZhNTc1ZjEwNWY1ZGEpOwogICAgICAgICAgICAKICAgIAogICAgICAgICAgICB2YXIgcG9wdXBfMTAxMTNjNDc4MDM4NDcyZjgwYzUyYzk0ZTk3YzlkZmQgPSBMLnBvcHVwKHttYXhXaWR0aDogJzMwMCd9KTsKCiAgICAgICAgICAgIAogICAgICAgICAgICAgICAgdmFyIGh0bWxfZmVkYmY5NWUyYTFmNDA4NTk4YmVkOWM4NTYzMDRhMjEgPSAkKCc8ZGl2IGlkPSJodG1sX2ZlZGJmOTVlMmExZjQwODU5OGJlZDljODU2MzA0YTIxIiBzdHlsZT0id2lkdGg6IDEwMC4wJTsgaGVpZ2h0OiAxMDAuMCU7Ij5DUzAxN0xCQTwvZGl2PicpWzBdOwogICAgICAgICAgICAgICAgcG9wdXBfMTAxMTNjNDc4MDM4NDcyZjgwYzUyYzk0ZTk3YzlkZmQuc2V0Q29udGVudChodG1sX2ZlZGJmOTVlMmExZjQwODU5OGJlZDljODU2MzA0YTIxKTsKICAgICAgICAgICAgCgogICAgICAgICAgICBtYXJrZXJfY2ExM2EzNzAxOWMwNGZhM2FhOTllNjk1MzNkNjgwOTQuYmluZFBvcHVwKHBvcHVwXzEwMTEzYzQ3ODAzODQ3MmY4MGM1MmM5NGU5N2M5ZGZkKTsKCiAgICAgICAgICAgIAogICAgICAgIAogICAgCgogICAgICAgICAgICB2YXIgbWFya2VyXzVlYTNmY2ViNGQ4ODRhYTc5ODg0ZGEyYWE5NWI5MGIxID0gTC5tYXJrZXIoCiAgICAgICAgICAgICAgICBbNTIuOTE3NjgsNi44NjI5ODddLAogICAgICAgICAgICAgICAgewogICAgICAgICAgICAgICAgICAgIGljb246IG5ldyBMLkljb24uRGVmYXVsdCgpCiAgICAgICAgICAgICAgICAgICAgfQogICAgICAgICAgICAgICAgKQogICAgICAgICAgICAgICAgLmFkZFRvKG1hcF9hOGUzYzMzMjRlNTU0YzBhOWE5ZmE1NzVmMTA1ZjVkYSk7CiAgICAgICAgICAgIAogICAgCiAgICAgICAgICAgIHZhciBwb3B1cF82OWZlMjI1NzZhMGM0YThjYmYzN2MzMjdlZDkxNjJhYiA9IEwucG9wdXAoe21heFdpZHRoOiAnMzAwJ30pOwoKICAgICAgICAgICAgCiAgICAgICAgICAgICAgICB2YXIgaHRtbF9iODg0MDVmYTJlOWU0YmRjYjU0ZmUxYmJhMWM1ZjQ5ZiA9ICQoJzxkaXYgaWQ9Imh0bWxfYjg4NDA1ZmEyZTllNGJkY2I1NGZlMWJiYTFjNWY0OWYiIHN0eWxlPSJ3aWR0aDogMTAwLjAlOyBoZWlnaHQ6IDEwMC4wJTsiPkNTMDIxTEJBPC9kaXY+JylbMF07CiAgICAgICAgICAgICAgICBwb3B1cF82OWZlMjI1NzZhMGM0YThjYmYzN2MzMjdlZDkxNjJhYi5zZXRDb250ZW50KGh0bWxfYjg4NDA1ZmEyZTllNGJkY2I1NGZlMWJiYTFjNWY0OWYpOwogICAgICAgICAgICAKCiAgICAgICAgICAgIG1hcmtlcl81ZWEzZmNlYjRkODg0YWE3OTg4NGRhMmFhOTViOTBiMS5iaW5kUG9wdXAocG9wdXBfNjlmZTIyNTc2YTBjNGE4Y2JmMzdjMzI3ZWQ5MTYyYWIpOwoKICAgICAgICAgICAgCiAgICAgICAgCiAgICAKCiAgICAgICAgICAgIHZhciBtYXJrZXJfMzJiNGQ2Zjc1NGQ4NDRiMjhjMWRmZWJlMTA0MmMzMjQgPSBMLm1hcmtlcigKICAgICAgICAgICAgICAgIFs1Mi45MDgwNzMsNi44NzQ0OTddLAogICAgICAgICAgICAgICAgewogICAgICAgICAgICAgICAgICAgIGljb246IG5ldyBMLkljb24uRGVmYXVsdCgpCiAgICAgICAgICAgICAgICAgICAgfQogICAgICAgICAgICAgICAgKQogICAgICAgICAgICAgICAgLmFkZFRvKG1hcF9hOGUzYzMzMjRlNTU0YzBhOWE5ZmE1NzVmMTA1ZjVkYSk7CiAgICAgICAgICAgIAogICAgCiAgICAgICAgICAgIHZhciBwb3B1cF80MmU4MDM0MTgyNzI0Y2E1YTdjOTA1OGVjN2IyNWQxNCA9IEwucG9wdXAoe21heFdpZHRoOiAnMzAwJ30pOwoKICAgICAgICAgICAgCiAgICAgICAgICAgICAgICB2YXIgaHRtbF9kMDkwMzQzNjY4M2E0MTI4OTUyMTQ1ZTYxNTkzZjE2NCA9ICQoJzxkaXYgaWQ9Imh0bWxfZDA5MDM0MzY2ODNhNDEyODk1MjE0NWU2MTU5M2YxNjQiIHN0eWxlPSJ3aWR0aDogMTAwLjAlOyBoZWlnaHQ6IDEwMC4wJTsiPkNTMDI0TEJBPC9kaXY+JylbMF07CiAgICAgICAgICAgICAgICBwb3B1cF80MmU4MDM0MTgyNzI0Y2E1YTdjOTA1OGVjN2IyNWQxNC5zZXRDb250ZW50KGh0bWxfZDA5MDM0MzY2ODNhNDEyODk1MjE0NWU2MTU5M2YxNjQpOwogICAgICAgICAgICAKCiAgICAgICAgICAgIG1hcmtlcl8zMmI0ZDZmNzU0ZDg0NGIyOGMxZGZlYmUxMDQyYzMyNC5iaW5kUG9wdXAocG9wdXBfNDJlODAzNDE4MjcyNGNhNWE3YzkwNThlYzdiMjVkMTQpOwoKICAgICAgICAgICAgCiAgICAgICAgCiAgICAKCiAgICAgICAgICAgIHZhciBtYXJrZXJfMGY0MWEyZDRkZDg1NDkyNTk0MTRiOWE1NWJiN2M1NTYgPSBMLm1hcmtlcigKICAgICAgICAgICAgICAgIFs1Mi45MTYwNTgsNi44ODI2NjMyXSwKICAgICAgICAgICAgICAgIHsKICAgICAgICAgICAgICAgICAgICBpY29uOiBuZXcgTC5JY29uLkRlZmF1bHQoKQogICAgICAgICAgICAgICAgICAgIH0KICAgICAgICAgICAgICAgICkKICAgICAgICAgICAgICAgIC5hZGRUbyhtYXBfYThlM2MzMzI0ZTU1NGMwYTlhOWZhNTc1ZjEwNWY1ZGEpOwogICAgICAgICAgICAKICAgIAogICAgICAgICAgICB2YXIgcG9wdXBfNzhmODRhMmM4YjQ1NDY5MjkwNjNlNWYwN2NkMTM3ODkgPSBMLnBvcHVwKHttYXhXaWR0aDogJzMwMCd9KTsKCiAgICAgICAgICAgIAogICAgICAgICAgICAgICAgdmFyIGh0bWxfMzc0MjBhZTdmM2I4NDM3N2JlNDRlMWYwMTk3NTE5YzMgPSAkKCc8ZGl2IGlkPSJodG1sXzM3NDIwYWU3ZjNiODQzNzdiZTQ0ZTFmMDE5NzUxOWMzIiBzdHlsZT0id2lkdGg6IDEwMC4wJTsgaGVpZ2h0OiAxMDAuMCU7Ij5DUzAyNkxCQTwvZGl2PicpWzBdOwogICAgICAgICAgICAgICAgcG9wdXBfNzhmODRhMmM4YjQ1NDY5MjkwNjNlNWYwN2NkMTM3ODkuc2V0Q29udGVudChodG1sXzM3NDIwYWU3ZjNiODQzNzdiZTQ0ZTFmMDE5NzUxOWMzKTsKICAgICAgICAgICAgCgogICAgICAgICAgICBtYXJrZXJfMGY0MWEyZDRkZDg1NDkyNTk0MTRiOWE1NWJiN2M1NTYuYmluZFBvcHVwKHBvcHVwXzc4Zjg0YTJjOGI0NTQ2OTI5MDYzZTVmMDdjZDEzNzg5KTsKCiAgICAgICAgICAgIAogICAgICAgIAogICAgCgogICAgICAgICAgICB2YXIgbWFya2VyXzAwNmNlYjgzNzlkMTQ4M2Y5ZTJmMWI4MGVlNThiNjBhID0gTC5tYXJrZXIoCiAgICAgICAgICAgICAgICBbNTIuOTI1NzIsNi44NzUwNzhdLAogICAgICAgICAgICAgICAgewogICAgICAgICAgICAgICAgICAgIGljb246IG5ldyBMLkljb24uRGVmYXVsdCgpCiAgICAgICAgICAgICAgICAgICAgfQogICAgICAgICAgICAgICAgKQogICAgICAgICAgICAgICAgLmFkZFRvKG1hcF9hOGUzYzMzMjRlNTU0YzBhOWE5ZmE1NzVmMTA1ZjVkYSk7CiAgICAgICAgICAgIAogICAgCiAgICAgICAgICAgIHZhciBwb3B1cF85OTdjZTc5NzEzMzY0YzVjODNjMmY0M2I4OThmZTk2MSA9IEwucG9wdXAoe21heFdpZHRoOiAnMzAwJ30pOwoKICAgICAgICAgICAgCiAgICAgICAgICAgICAgICB2YXIgaHRtbF8yOTlkNjY3OTNjMzU0MDk2YmFmNTExZGQ3Y2Q1N2FkNCA9ICQoJzxkaXYgaWQ9Imh0bWxfMjk5ZDY2NzkzYzM1NDA5NmJhZjUxMWRkN2NkNTdhZDQiIHN0eWxlPSJ3aWR0aDogMTAwLjAlOyBoZWlnaHQ6IDEwMC4wJTsiPkNTMDI4TEJBPC9kaXY+JylbMF07CiAgICAgICAgICAgICAgICBwb3B1cF85OTdjZTc5NzEzMzY0YzVjODNjMmY0M2I4OThmZTk2MS5zZXRDb250ZW50KGh0bWxfMjk5ZDY2NzkzYzM1NDA5NmJhZjUxMWRkN2NkNTdhZDQpOwogICAgICAgICAgICAKCiAgICAgICAgICAgIG1hcmtlcl8wMDZjZWI4Mzc5ZDE0ODNmOWUyZjFiODBlZTU4YjYwYS5iaW5kUG9wdXAocG9wdXBfOTk3Y2U3OTcxMzM2NGM1YzgzYzJmNDNiODk4ZmU5NjEpOwoKICAgICAgICAgICAgCiAgICAgICAgCiAgICAKCiAgICAgICAgICAgIHZhciBtYXJrZXJfMjY4YjlmY2JiYWE4NDA4NWIzNDUxMzYyMzAzYWU0NzEgPSBMLm1hcmtlcigKICAgICAgICAgICAgICAgIFs1Mi45MjIyNjgsNi44NjE0NTJdLAogICAgICAgICAgICAgICAgewogICAgICAgICAgICAgICAgICAgIGljb246IG5ldyBMLkljb24uRGVmYXVsdCgpCiAgICAgICAgICAgICAgICAgICAgfQogICAgICAgICAgICAgICAgKQogICAgICAgICAgICAgICAgLmFkZFRvKG1hcF9hOGUzYzMzMjRlNTU0YzBhOWE5ZmE1NzVmMTA1ZjVkYSk7CiAgICAgICAgICAgIAogICAgCiAgICAgICAgICAgIHZhciBwb3B1cF84Mzc4NTk2MTk0Yzc0MWMwOGExNDU0Y2E0M2VmZWM2YyA9IEwucG9wdXAoe21heFdpZHRoOiAnMzAwJ30pOwoKICAgICAgICAgICAgCiAgICAgICAgICAgICAgICB2YXIgaHRtbF84NWZlNzUzOGUyNzY0NTYyOWJmMmM3YzRhZDk1ODQ0MSA9ICQoJzxkaXYgaWQ9Imh0bWxfODVmZTc1MzhlMjc2NDU2MjliZjJjN2M0YWQ5NTg0NDEiIHN0eWxlPSJ3aWR0aDogMTAwLjAlOyBoZWlnaHQ6IDEwMC4wJTsiPkNTMDMwTEJBPC9kaXY+JylbMF07CiAgICAgICAgICAgICAgICBwb3B1cF84Mzc4NTk2MTk0Yzc0MWMwOGExNDU0Y2E0M2VmZWM2Yy5zZXRDb250ZW50KGh0bWxfODVmZTc1MzhlMjc2NDU2MjliZjJjN2M0YWQ5NTg0NDEpOwogICAgICAgICAgICAKCiAgICAgICAgICAgIG1hcmtlcl8yNjhiOWZjYmJhYTg0MDg1YjM0NTEzNjIzMDNhZTQ3MS5iaW5kUG9wdXAocG9wdXBfODM3ODU5NjE5NGM3NDFjMDhhMTQ1NGNhNDNlZmVjNmMpOwoKICAgICAgICAgICAgCiAgICAgICAgCiAgICAKCiAgICAgICAgICAgIHZhciBtYXJrZXJfYTgxMDNjMzJkN2Y1NDkxZTg3NmJiOTFkY2FjMzIyMDIgPSBMLm1hcmtlcigKICAgICAgICAgICAgICAgIFs1Mi45MTc2NjQsNi44NTkwMTk4XSwKICAgICAgICAgICAgICAgIHsKICAgICAgICAgICAgICAgICAgICBpY29uOiBuZXcgTC5JY29uLkRlZmF1bHQoKQogICAgICAgICAgICAgICAgICAgIH0KICAgICAgICAgICAgICAgICkKICAgICAgICAgICAgICAgIC5hZGRUbyhtYXBfYThlM2MzMzI0ZTU1NGMwYTlhOWZhNTc1ZjEwNWY1ZGEpOwogICAgICAgICAgICAKICAgIAogICAgICAgICAgICB2YXIgcG9wdXBfMWQwNTAxMTYwNDcxNDU3YTg2MGU4YjY4NWQ2ZTc3NzggPSBMLnBvcHVwKHttYXhXaWR0aDogJzMwMCd9KTsKCiAgICAgICAgICAgIAogICAgICAgICAgICAgICAgdmFyIGh0bWxfNTEyNzJlODJmYzQwNGEyNGI5ZTE3Yjk3NzE4ZDIxODcgPSAkKCc8ZGl2IGlkPSJodG1sXzUxMjcyZTgyZmM0MDRhMjRiOWUxN2I5NzcxOGQyMTg3IiBzdHlsZT0id2lkdGg6IDEwMC4wJTsgaGVpZ2h0OiAxMDAuMCU7Ij5DUzAzMUxCQTwvZGl2PicpWzBdOwogICAgICAgICAgICAgICAgcG9wdXBfMWQwNTAxMTYwNDcxNDU3YTg2MGU4YjY4NWQ2ZTc3Nzguc2V0Q29udGVudChodG1sXzUxMjcyZTgyZmM0MDRhMjRiOWUxN2I5NzcxOGQyMTg3KTsKICAgICAgICAgICAgCgogICAgICAgICAgICBtYXJrZXJfYTgxMDNjMzJkN2Y1NDkxZTg3NmJiOTFkY2FjMzIyMDIuYmluZFBvcHVwKHBvcHVwXzFkMDUwMTE2MDQ3MTQ1N2E4NjBlOGI2ODVkNmU3Nzc4KTsKCiAgICAgICAgICAgIAogICAgICAgIAogICAgCgogICAgICAgICAgICB2YXIgbWFya2VyX2IzMzc0M2Y5NDI2ZTQ0ZjFiZGM3NjU0OTg5ZDE2MGI2ID0gTC5tYXJrZXIoCiAgICAgICAgICAgICAgICBbNTIuOTEyNDY0LDYuODU5OTAyXSwKICAgICAgICAgICAgICAgIHsKICAgICAgICAgICAgICAgICAgICBpY29uOiBuZXcgTC5JY29uLkRlZmF1bHQoKQogICAgICAgICAgICAgICAgICAgIH0KICAgICAgICAgICAgICAgICkKICAgICAgICAgICAgICAgIC5hZGRUbyhtYXBfYThlM2MzMzI0ZTU1NGMwYTlhOWZhNTc1ZjEwNWY1ZGEpOwogICAgICAgICAgICAKICAgIAogICAgICAgICAgICB2YXIgcG9wdXBfZmY0NzI3YmUwNGFhNGRhNGI5MWQyOGNjNDYwNWM2ZDQgPSBMLnBvcHVwKHttYXhXaWR0aDogJzMwMCd9KTsKCiAgICAgICAgICAgIAogICAgICAgICAgICAgICAgdmFyIGh0bWxfM2E1Njk3MmM4NGYyNDI5MWI3NjY3ZDZiYWUyMmM4MzEgPSAkKCc8ZGl2IGlkPSJodG1sXzNhNTY5NzJjODRmMjQyOTFiNzY2N2Q2YmFlMjJjODMxIiBzdHlsZT0id2lkdGg6IDEwMC4wJTsgaGVpZ2h0OiAxMDAuMCU7Ij5DUzAzMkxCQTwvZGl2PicpWzBdOwogICAgICAgICAgICAgICAgcG9wdXBfZmY0NzI3YmUwNGFhNGRhNGI5MWQyOGNjNDYwNWM2ZDQuc2V0Q29udGVudChodG1sXzNhNTY5NzJjODRmMjQyOTFiNzY2N2Q2YmFlMjJjODMxKTsKICAgICAgICAgICAgCgogICAgICAgICAgICBtYXJrZXJfYjMzNzQzZjk0MjZlNDRmMWJkYzc2NTQ5ODlkMTYwYjYuYmluZFBvcHVwKHBvcHVwX2ZmNDcyN2JlMDRhYTRkYTRiOTFkMjhjYzQ2MDVjNmQ0KTsKCiAgICAgICAgICAgIAogICAgICAgIAogICAgCgogICAgICAgICAgICB2YXIgbWFya2VyXzIzYzM0YmY1ZTZkYTQ1YTQ5YWQ0MWUwOTdjMjIwMDhlID0gTC5tYXJrZXIoCiAgICAgICAgICAgICAgICBbNTIuOTIyNDA1LDYuODgxMTk4NF0sCiAgICAgICAgICAgICAgICB7CiAgICAgICAgICAgICAgICAgICAgaWNvbjogbmV3IEwuSWNvbi5EZWZhdWx0KCkKICAgICAgICAgICAgICAgICAgICB9CiAgICAgICAgICAgICAgICApCiAgICAgICAgICAgICAgICAuYWRkVG8obWFwX2E4ZTNjMzMyNGU1NTRjMGE5YTlmYTU3NWYxMDVmNWRhKTsKICAgICAgICAgICAgCiAgICAKICAgICAgICAgICAgdmFyIHBvcHVwXzUwNGJmNjhiOTdhMzQyODc5MzdjNWQ3OWVlMzFjZjRlID0gTC5wb3B1cCh7bWF4V2lkdGg6ICczMDAnfSk7CgogICAgICAgICAgICAKICAgICAgICAgICAgICAgIHZhciBodG1sXzIyNjk5M2RhODc0NzQ0ODQ4YjBiYzM1NjRiNDI0ZGE4ID0gJCgnPGRpdiBpZD0iaHRtbF8yMjY5OTNkYTg3NDc0NDg0OGIwYmMzNTY0YjQyNGRhOCIgc3R5bGU9IndpZHRoOiAxMDAuMCU7IGhlaWdodDogMTAwLjAlOyI+Q1MxMDFMQkE8L2Rpdj4nKVswXTsKICAgICAgICAgICAgICAgIHBvcHVwXzUwNGJmNjhiOTdhMzQyODc5MzdjNWQ3OWVlMzFjZjRlLnNldENvbnRlbnQoaHRtbF8yMjY5OTNkYTg3NDc0NDg0OGIwYmMzNTY0YjQyNGRhOCk7CiAgICAgICAgICAgIAoKICAgICAgICAgICAgbWFya2VyXzIzYzM0YmY1ZTZkYTQ1YTQ5YWQ0MWUwOTdjMjIwMDhlLmJpbmRQb3B1cChwb3B1cF81MDRiZjY4Yjk3YTM0Mjg3OTM3YzVkNzllZTMxY2Y0ZSk7CgogICAgICAgICAgICAKICAgICAgICAKICAgIAoKICAgICAgICAgICAgdmFyIG1hcmtlcl8xMTUzMjdjMzNjZDA0MTI4ODk4NDIzOTRhYmUxNjc0MSA9IEwubWFya2VyKAogICAgICAgICAgICAgICAgWzUyLjkxNTczNyw2Ljg5Njg4NjNdLAogICAgICAgICAgICAgICAgewogICAgICAgICAgICAgICAgICAgIGljb246IG5ldyBMLkljb24uRGVmYXVsdCgpCiAgICAgICAgICAgICAgICAgICAgfQogICAgICAgICAgICAgICAgKQogICAgICAgICAgICAgICAgLmFkZFRvKG1hcF9hOGUzYzMzMjRlNTU0YzBhOWE5ZmE1NzVmMTA1ZjVkYSk7CiAgICAgICAgICAgIAogICAgCiAgICAgICAgICAgIHZhciBwb3B1cF9iYjJjMzUyNDBhYjU0MTFlODQyODdkMjkwZmUwNjhhNCA9IEwucG9wdXAoe21heFdpZHRoOiAnMzAwJ30pOwoKICAgICAgICAgICAgCiAgICAgICAgICAgICAgICB2YXIgaHRtbF8zNGFhZmZhZTI3ZDQ0NDNiYjk1ZDIxMmE1NzlhZjhhNSA9ICQoJzxkaXYgaWQ9Imh0bWxfMzRhYWZmYWUyN2Q0NDQzYmI5NWQyMTJhNTc5YWY4YTUiIHN0eWxlPSJ3aWR0aDogMTAwLjAlOyBoZWlnaHQ6IDEwMC4wJTsiPkNTMTAzTEJBPC9kaXY+JylbMF07CiAgICAgICAgICAgICAgICBwb3B1cF9iYjJjMzUyNDBhYjU0MTFlODQyODdkMjkwZmUwNjhhNC5zZXRDb250ZW50KGh0bWxfMzRhYWZmYWUyN2Q0NDQzYmI5NWQyMTJhNTc5YWY4YTUpOwogICAgICAgICAgICAKCiAgICAgICAgICAgIG1hcmtlcl8xMTUzMjdjMzNjZDA0MTI4ODk4NDIzOTRhYmUxNjc0MS5iaW5kUG9wdXAocG9wdXBfYmIyYzM1MjQwYWI1NDExZTg0Mjg3ZDI5MGZlMDY4YTQpOwoKICAgICAgICAgICAgCiAgICAgICAgCiAgICAKCiAgICAgICAgICAgIHZhciBtYXJrZXJfODUxY2VhOTQ1MGY1NGYxMTk2ODNkNTc5MzU3YTQ1NjIgPSBMLm1hcmtlcigKICAgICAgICAgICAgICAgIFs1Mi44NzQwNSw2Ljk4NTA3ODNdLAogICAgICAgICAgICAgICAgewogICAgICAgICAgICAgICAgICAgIGljb246IG5ldyBMLkljb24uRGVmYXVsdCgpCiAgICAgICAgICAgICAgICAgICAgfQogICAgICAgICAgICAgICAgKQogICAgICAgICAgICAgICAgLmFkZFRvKG1hcF9hOGUzYzMzMjRlNTU0YzBhOWE5ZmE1NzVmMTA1ZjVkYSk7CiAgICAgICAgICAgIAogICAgCiAgICAgICAgICAgIHZhciBwb3B1cF8zMGEzNWZkNDhjNjE0YjhhYTcyMDIwY2E5NzhmN2I0MCA9IEwucG9wdXAoe21heFdpZHRoOiAnMzAwJ30pOwoKICAgICAgICAgICAgCiAgICAgICAgICAgICAgICB2YXIgaHRtbF81YzNjYmVlNTA3MjQ0NGM3YmViNGE3OTY0MWU2Y2MyYSA9ICQoJzxkaXYgaWQ9Imh0bWxfNWMzY2JlZTUwNzI0NDRjN2JlYjRhNzk2NDFlNmNjMmEiIHN0eWxlPSJ3aWR0aDogMTAwLjAlOyBoZWlnaHQ6IDEwMC4wJTsiPlJTMTA2TEJBPC9kaXY+JylbMF07CiAgICAgICAgICAgICAgICBwb3B1cF8zMGEzNWZkNDhjNjE0YjhhYTcyMDIwY2E5NzhmN2I0MC5zZXRDb250ZW50KGh0bWxfNWMzY2JlZTUwNzI0NDRjN2JlYjRhNzk2NDFlNmNjMmEpOwogICAgICAgICAgICAKCiAgICAgICAgICAgIG1hcmtlcl84NTFjZWE5NDUwZjU0ZjExOTY4M2Q1NzkzNTdhNDU2Mi5iaW5kUG9wdXAocG9wdXBfMzBhMzVmZDQ4YzYxNGI4YWE3MjAyMGNhOTc4ZjdiNDApOwoKICAgICAgICAgICAgCiAgICAgICAgCiAgICAKCiAgICAgICAgICAgIHZhciBtYXJrZXJfNDQyMGE4OWIyNmE4NDM1ZmJkYzY3YTExNzVhZTE1NWUgPSBMLm1hcmtlcigKICAgICAgICAgICAgICAgIFs1Mi45MTI0NDUsNi44ODI3NDVdLAogICAgICAgICAgICAgICAgewogICAgICAgICAgICAgICAgICAgIGljb246IG5ldyBMLkljb24uRGVmYXVsdCgpCiAgICAgICAgICAgICAgICAgICAgfQogICAgICAgICAgICAgICAgKQogICAgICAgICAgICAgICAgLmFkZFRvKG1hcF9hOGUzYzMzMjRlNTU0YzBhOWE5ZmE1NzVmMTA1ZjVkYSk7CiAgICAgICAgICAgIAogICAgCiAgICAgICAgICAgIHZhciBwb3B1cF9kMDNmMTFhNzFiN2M0MDNhYmU0NTEzMjhlNDUxMmQ1ZSA9IEwucG9wdXAoe21heFdpZHRoOiAnMzAwJ30pOwoKICAgICAgICAgICAgCiAgICAgICAgICAgICAgICB2YXIgaHRtbF80ZjQ0Mjg2NzVmNjk0YmY4OWY4OTk1ZGEyN2Y1YzI0MCA9ICQoJzxkaXYgaWQ9Imh0bWxfNGY0NDI4Njc1ZjY5NGJmODlmODk5NWRhMjdmNWMyNDAiIHN0eWxlPSJ3aWR0aDogMTAwLjAlOyBoZWlnaHQ6IDEwMC4wJTsiPkNTMjAxTEJBPC9kaXY+JylbMF07CiAgICAgICAgICAgICAgICBwb3B1cF9kMDNmMTFhNzFiN2M0MDNhYmU0NTEzMjhlNDUxMmQ1ZS5zZXRDb250ZW50KGh0bWxfNGY0NDI4Njc1ZjY5NGJmODlmODk5NWRhMjdmNWMyNDApOwogICAgICAgICAgICAKCiAgICAgICAgICAgIG1hcmtlcl80NDIwYTg5YjI2YTg0MzVmYmRjNjdhMTE3NWFlMTU1ZS5iaW5kUG9wdXAocG9wdXBfZDAzZjExYTcxYjdjNDAzYWJlNDUxMzI4ZTQ1MTJkNWUpOwoKICAgICAgICAgICAgCiAgICAgICAgCiAgICAKCiAgICAgICAgICAgIHZhciBtYXJrZXJfMDA5ZTgwZjhjOTkzNGYyNDg5ODFiODM5YTg5NGZhYWQgPSBMLm1hcmtlcigKICAgICAgICAgICAgICAgIFs1Mi44NTc0OTQsNi44OTY3NTg2XSwKICAgICAgICAgICAgICAgIHsKICAgICAgICAgICAgICAgICAgICBpY29uOiBuZXcgTC5JY29uLkRlZmF1bHQoKQogICAgICAgICAgICAgICAgICAgIH0KICAgICAgICAgICAgICAgICkKICAgICAgICAgICAgICAgIC5hZGRUbyhtYXBfYThlM2MzMzI0ZTU1NGMwYTlhOWZhNTc1ZjEwNWY1ZGEpOwogICAgICAgICAgICAKICAgIAogICAgICAgICAgICB2YXIgcG9wdXBfNjhhYTIxYjQ5MzQ3NDQyYTgzNzE3NzdlNTk0MjU0YmEgPSBMLnBvcHVwKHttYXhXaWR0aDogJzMwMCd9KTsKCiAgICAgICAgICAgIAogICAgICAgICAgICAgICAgdmFyIGh0bWxfODQyOGZlNGFhYTU5NDc1M2EwMTEyZTEyN2VhOWRlOTUgPSAkKCc8ZGl2IGlkPSJodG1sXzg0MjhmZTRhYWE1OTQ3NTNhMDExMmUxMjdlYTlkZTk1IiBzdHlsZT0id2lkdGg6IDEwMC4wJTsgaGVpZ2h0OiAxMDAuMCU7Ij5SUzIwNUxCQTwvZGl2PicpWzBdOwogICAgICAgICAgICAgICAgcG9wdXBfNjhhYTIxYjQ5MzQ3NDQyYTgzNzE3NzdlNTk0MjU0YmEuc2V0Q29udGVudChodG1sXzg0MjhmZTRhYWE1OTQ3NTNhMDExMmUxMjdlYTlkZTk1KTsKICAgICAgICAgICAgCgogICAgICAgICAgICBtYXJrZXJfMDA5ZTgwZjhjOTkzNGYyNDg5ODFiODM5YTg5NGZhYWQuYmluZFBvcHVwKHBvcHVwXzY4YWEyMWI0OTM0NzQ0MmE4MzcxNzc3ZTU5NDI1NGJhKTsKCiAgICAgICAgICAgIAogICAgICAgIAogICAgCgogICAgICAgICAgICB2YXIgbWFya2VyX2NhZTM3YTI1MDkxNjRkZjdiZDViZDIwNGNmNmUyOTk2ID0gTC5tYXJrZXIoCiAgICAgICAgICAgICAgICBbNTIuNjY5MzI3LDYuOTE4OTc3XSwKICAgICAgICAgICAgICAgIHsKICAgICAgICAgICAgICAgICAgICBpY29uOiBuZXcgTC5JY29uLkRlZmF1bHQoKQogICAgICAgICAgICAgICAgICAgIH0KICAgICAgICAgICAgICAgICkKICAgICAgICAgICAgICAgIC5hZGRUbyhtYXBfYThlM2MzMzI0ZTU1NGMwYTlhOWZhNTc1ZjEwNWY1ZGEpOwogICAgICAgICAgICAKICAgIAogICAgICAgICAgICB2YXIgcG9wdXBfNDI4Y2QzZTQ2N2ExNDUyNGE1ODFiNzRkYTExZjYyOWQgPSBMLnBvcHVwKHttYXhXaWR0aDogJzMwMCd9KTsKCiAgICAgICAgICAgIAogICAgICAgICAgICAgICAgdmFyIGh0bWxfMjcyNjNiN2EyNjg5NDQzNjkxZjY2MDg4MjNmZDdlYjMgPSAkKCc8ZGl2IGlkPSJodG1sXzI3MjYzYjdhMjY4OTQ0MzY5MWY2NjA4ODIzZmQ3ZWIzIiBzdHlsZT0id2lkdGg6IDEwMC4wJTsgaGVpZ2h0OiAxMDAuMCU7Ij5SUzIwOExCQTwvZGl2PicpWzBdOwogICAgICAgICAgICAgICAgcG9wdXBfNDI4Y2QzZTQ2N2ExNDUyNGE1ODFiNzRkYTExZjYyOWQuc2V0Q29udGVudChodG1sXzI3MjYzYjdhMjY4OTQ0MzY5MWY2NjA4ODIzZmQ3ZWIzKTsKICAgICAgICAgICAgCgogICAgICAgICAgICBtYXJrZXJfY2FlMzdhMjUwOTE2NGRmN2JkNWJkMjA0Y2Y2ZTI5OTYuYmluZFBvcHVwKHBvcHVwXzQyOGNkM2U0NjdhMTQ1MjRhNTgxYjc0ZGExMWY2MjlkKTsKCiAgICAgICAgICAgIAogICAgICAgIAogICAgCgogICAgICAgICAgICB2YXIgbWFya2VyXzAxZGRlYWQ5ZWIxYjQ0MzA4YTg5MmRmNWVkMTFmZmEwID0gTC5tYXJrZXIoCiAgICAgICAgICAgICAgICBbNTIuMzMwODg3LDYuODczNTc1XSwKICAgICAgICAgICAgICAgIHsKICAgICAgICAgICAgICAgICAgICBpY29uOiBuZXcgTC5JY29uLkRlZmF1bHQoKQogICAgICAgICAgICAgICAgICAgIH0KICAgICAgICAgICAgICAgICkKICAgICAgICAgICAgICAgIC5hZGRUbyhtYXBfYThlM2MzMzI0ZTU1NGMwYTlhOWZhNTc1ZjEwNWY1ZGEpOwogICAgICAgICAgICAKICAgIAogICAgICAgICAgICB2YXIgcG9wdXBfNjA4MTRjZTI2MjlhNDYwNzg5NzAxN2MwYzg0OGUxYjQgPSBMLnBvcHVwKHttYXhXaWR0aDogJzMwMCd9KTsKCiAgICAgICAgICAgIAogICAgICAgICAgICAgICAgdmFyIGh0bWxfODJmODU5YWNhYzRjNDk3ZGFmMWY4N2NhNjc5NTM5OGEgPSAkKCc8ZGl2IGlkPSJodG1sXzgyZjg1OWFjYWM0YzQ5N2RhZjFmODdjYTY3OTUzOThhIiBzdHlsZT0id2lkdGg6IDEwMC4wJTsgaGVpZ2h0OiAxMDAuMCU7Ij5SUzIxMExCQTwvZGl2PicpWzBdOwogICAgICAgICAgICAgICAgcG9wdXBfNjA4MTRjZTI2MjlhNDYwNzg5NzAxN2MwYzg0OGUxYjQuc2V0Q29udGVudChodG1sXzgyZjg1OWFjYWM0YzQ5N2RhZjFmODdjYTY3OTUzOThhKTsKICAgICAgICAgICAgCgogICAgICAgICAgICBtYXJrZXJfMDFkZGVhZDllYjFiNDQzMDhhODkyZGY1ZWQxMWZmYTAuYmluZFBvcHVwKHBvcHVwXzYwODE0Y2UyNjI5YTQ2MDc4OTcwMTdjMGM4NDhlMWI0KTsKCiAgICAgICAgICAgIAogICAgICAgIAogICAgCgogICAgICAgICAgICB2YXIgbWFya2VyX2Y5YmY4YmZmNGQ0NTQ3MzdiNzU2ZDQ1NDM4NDNkNTFjID0gTC5tYXJrZXIoCiAgICAgICAgICAgICAgICBbNTIuOTA1ODIzLDYuODY3ODk1Nl0sCiAgICAgICAgICAgICAgICB7CiAgICAgICAgICAgICAgICAgICAgaWNvbjogbmV3IEwuSWNvbi5EZWZhdWx0KCkKICAgICAgICAgICAgICAgICAgICB9CiAgICAgICAgICAgICAgICApCiAgICAgICAgICAgICAgICAuYWRkVG8obWFwX2E4ZTNjMzMyNGU1NTRjMGE5YTlmYTU3NWYxMDVmNWRhKTsKICAgICAgICAgICAgCiAgICAKICAgICAgICAgICAgdmFyIHBvcHVwXzliODliZDFlMWRlZjQwOTY4ZTdlMmE4MzcwODM5NzJhID0gTC5wb3B1cCh7bWF4V2lkdGg6ICczMDAnfSk7CgogICAgICAgICAgICAKICAgICAgICAgICAgICAgIHZhciBodG1sX2Y1MjI2NjZlNTg1ZjQ5NjU4YTExMTZlNWYwYjIyNjBhID0gJCgnPGRpdiBpZD0iaHRtbF9mNTIyNjY2ZTU4NWY0OTY1OGExMTE2ZTVmMGIyMjYwYSIgc3R5bGU9IndpZHRoOiAxMDAuMCU7IGhlaWdodDogMTAwLjAlOyI+Q1MzMDFMQkE8L2Rpdj4nKVswXTsKICAgICAgICAgICAgICAgIHBvcHVwXzliODliZDFlMWRlZjQwOTY4ZTdlMmE4MzcwODM5NzJhLnNldENvbnRlbnQoaHRtbF9mNTIyNjY2ZTU4NWY0OTY1OGExMTE2ZTVmMGIyMjYwYSk7CiAgICAgICAgICAgIAoKICAgICAgICAgICAgbWFya2VyX2Y5YmY4YmZmNGQ0NTQ3MzdiNzU2ZDQ1NDM4NDNkNTFjLmJpbmRQb3B1cChwb3B1cF85Yjg5YmQxZTFkZWY0MDk2OGU3ZTJhODM3MDgzOTcyYSk7CgogICAgICAgICAgICAKICAgICAgICAKICAgIAoKICAgICAgICAgICAgdmFyIG1hcmtlcl83MzlmZTI3NDUxNGE0N2M0YWJkZTYwZjM2NTIxYzJlMyA9IEwubWFya2VyKAogICAgICAgICAgICAgICAgWzUyLjkwMTU0LDYuODQ5MjQ3NV0sCiAgICAgICAgICAgICAgICB7CiAgICAgICAgICAgICAgICAgICAgaWNvbjogbmV3IEwuSWNvbi5EZWZhdWx0KCkKICAgICAgICAgICAgICAgICAgICB9CiAgICAgICAgICAgICAgICApCiAgICAgICAgICAgICAgICAuYWRkVG8obWFwX2E4ZTNjMzMyNGU1NTRjMGE5YTlmYTU3NWYxMDVmNWRhKTsKICAgICAgICAgICAgCiAgICAKICAgICAgICAgICAgdmFyIHBvcHVwXzljODdhY2QwNmU1NjQwMDFiMjBhOTI3OTQ5ZDI1NmY4ID0gTC5wb3B1cCh7bWF4V2lkdGg6ICczMDAnfSk7CgogICAgICAgICAgICAKICAgICAgICAgICAgICAgIHZhciBodG1sXzU4ZWM2N2Y1Yzk1NjRhYmRhMmI0ZTc0Y2YyNWFlZjYzID0gJCgnPGRpdiBpZD0iaHRtbF81OGVjNjdmNWM5NTY0YWJkYTJiNGU3NGNmMjVhZWY2MyIgc3R5bGU9IndpZHRoOiAxMDAuMCU7IGhlaWdodDogMTAwLjAlOyI+Q1MzMDJMQkE8L2Rpdj4nKVswXTsKICAgICAgICAgICAgICAgIHBvcHVwXzljODdhY2QwNmU1NjQwMDFiMjBhOTI3OTQ5ZDI1NmY4LnNldENvbnRlbnQoaHRtbF81OGVjNjdmNWM5NTY0YWJkYTJiNGU3NGNmMjVhZWY2Myk7CiAgICAgICAgICAgIAoKICAgICAgICAgICAgbWFya2VyXzczOWZlMjc0NTE0YTQ3YzRhYmRlNjBmMzY1MjFjMmUzLmJpbmRQb3B1cChwb3B1cF85Yzg3YWNkMDZlNTY0MDAxYjIwYTkyNzk0OWQyNTZmOCk7CgogICAgICAgICAgICAKICAgICAgICAKICAgIAoKICAgICAgICAgICAgdmFyIG1hcmtlcl83ZjgzN2NjNWQxZjc0OTdiOWZhYThiNTNhZWY1MjZmOCA9IEwubWFya2VyKAogICAgICAgICAgICAgICAgWzUyLjg5OTUzMiw2Ljc3MzkzN10sCiAgICAgICAgICAgICAgICB7CiAgICAgICAgICAgICAgICAgICAgaWNvbjogbmV3IEwuSWNvbi5EZWZhdWx0KCkKICAgICAgICAgICAgICAgICAgICB9CiAgICAgICAgICAgICAgICApCiAgICAgICAgICAgICAgICAuYWRkVG8obWFwX2E4ZTNjMzMyNGU1NTRjMGE5YTlmYTU3NWYxMDVmNWRhKTsKICAgICAgICAgICAgCiAgICAKICAgICAgICAgICAgdmFyIHBvcHVwX2Y4ZmI3NzAwOTdiODQxNjc5MzMxOGY0NWY5NzA0NzViID0gTC5wb3B1cCh7bWF4V2lkdGg6ICczMDAnfSk7CgogICAgICAgICAgICAKICAgICAgICAgICAgICAgIHZhciBodG1sXzk4YTI4Y2E3ZTQ0MjRjMzQ5YjU2ZDNmMTNmZDkxYTJkID0gJCgnPGRpdiBpZD0iaHRtbF85OGEyOGNhN2U0NDI0YzM0OWI1NmQzZjEzZmQ5MWEyZCIgc3R5bGU9IndpZHRoOiAxMDAuMCU7IGhlaWdodDogMTAwLjAlOyI+UlMzMDVMQkE8L2Rpdj4nKVswXTsKICAgICAgICAgICAgICAgIHBvcHVwX2Y4ZmI3NzAwOTdiODQxNjc5MzMxOGY0NWY5NzA0NzViLnNldENvbnRlbnQoaHRtbF85OGEyOGNhN2U0NDI0YzM0OWI1NmQzZjEzZmQ5MWEyZCk7CiAgICAgICAgICAgIAoKICAgICAgICAgICAgbWFya2VyXzdmODM3Y2M1ZDFmNzQ5N2I5ZmFhOGI1M2FlZjUyNmY4LmJpbmRQb3B1cChwb3B1cF9mOGZiNzcwMDk3Yjg0MTY3OTMzMThmNDVmOTcwNDc1Yik7CgogICAgICAgICAgICAKICAgICAgICAKICAgIAoKICAgICAgICAgICAgdmFyIG1hcmtlcl9mYWM1MzQ0NTVkYmQ0NjI1OTQzZWQyMTExYjU2MDgzYSA9IEwubWFya2VyKAogICAgICAgICAgICAgICAgWzUyLjg5MDE0LDYuNzQzMjY4NV0sCiAgICAgICAgICAgICAgICB7CiAgICAgICAgICAgICAgICAgICAgaWNvbjogbmV3IEwuSWNvbi5EZWZhdWx0KCkKICAgICAgICAgICAgICAgICAgICB9CiAgICAgICAgICAgICAgICApCiAgICAgICAgICAgICAgICAuYWRkVG8obWFwX2E4ZTNjMzMyNGU1NTRjMGE5YTlmYTU3NWYxMDVmNWRhKTsKICAgICAgICAgICAgCiAgICAKICAgICAgICAgICAgdmFyIHBvcHVwXzhlM2Q2MzIxZWFkNjRlN2E5YjI5MmZkYTQ3NjA2N2Y1ID0gTC5wb3B1cCh7bWF4V2lkdGg6ICczMDAnfSk7CgogICAgICAgICAgICAKICAgICAgICAgICAgICAgIHZhciBodG1sXzg3MjVmNTYzNTMwNTRhOGViY2I0M2FkMjg2YzNkNzIxID0gJCgnPGRpdiBpZD0iaHRtbF84NzI1ZjU2MzUzMDU0YThlYmNiNDNhZDI4NmMzZDcyMSIgc3R5bGU9IndpZHRoOiAxMDAuMCU7IGhlaWdodDogMTAwLjAlOyI+UlMzMDZMQkE8L2Rpdj4nKVswXTsKICAgICAgICAgICAgICAgIHBvcHVwXzhlM2Q2MzIxZWFkNjRlN2E5YjI5MmZkYTQ3NjA2N2Y1LnNldENvbnRlbnQoaHRtbF84NzI1ZjU2MzUzMDU0YThlYmNiNDNhZDI4NmMzZDcyMSk7CiAgICAgICAgICAgIAoKICAgICAgICAgICAgbWFya2VyX2ZhYzUzNDQ1NWRiZDQ2MjU5NDNlZDIxMTFiNTYwODNhLmJpbmRQb3B1cChwb3B1cF84ZTNkNjMyMWVhZDY0ZTdhOWIyOTJmZGE0NzYwNjdmNSk7CgogICAgICAgICAgICAKICAgICAgICAKICAgIAoKICAgICAgICAgICAgdmFyIG1hcmtlcl85ZDU5ZWUwNmVhZDM0NjUxYWU3YjE3M2U4MDYxZjE4NyA9IEwubWFya2VyKAogICAgICAgICAgICAgICAgWzUyLjgwMzIyLDYuNjgwOTQzNV0sCiAgICAgICAgICAgICAgICB7CiAgICAgICAgICAgICAgICAgICAgaWNvbjogbmV3IEwuSWNvbi5EZWZhdWx0KCkKICAgICAgICAgICAgICAgICAgICB9CiAgICAgICAgICAgICAgICApCiAgICAgICAgICAgICAgICAuYWRkVG8obWFwX2E4ZTNjMzMyNGU1NTRjMGE5YTlmYTU3NWYxMDVmNWRhKTsKICAgICAgICAgICAgCiAgICAKICAgICAgICAgICAgdmFyIHBvcHVwXzhiMGM5ZDc0N2MyYTRmNDNiNDQwZDAyM2Q4MWZjMTdlID0gTC5wb3B1cCh7bWF4V2lkdGg6ICczMDAnfSk7CgogICAgICAgICAgICAKICAgICAgICAgICAgICAgIHZhciBodG1sXzA3YTIwNTZhMTIyZjRkMzU5ZGVlNzZlMTkyYjIwNTZmID0gJCgnPGRpdiBpZD0iaHRtbF8wN2EyMDU2YTEyMmY0ZDM1OWRlZTc2ZTE5MmIyMDU2ZiIgc3R5bGU9IndpZHRoOiAxMDAuMCU7IGhlaWdodDogMTAwLjAlOyI+UlMzMDdMQkE8L2Rpdj4nKVswXTsKICAgICAgICAgICAgICAgIHBvcHVwXzhiMGM5ZDc0N2MyYTRmNDNiNDQwZDAyM2Q4MWZjMTdlLnNldENvbnRlbnQoaHRtbF8wN2EyMDU2YTEyMmY0ZDM1OWRlZTc2ZTE5MmIyMDU2Zik7CiAgICAgICAgICAgIAoKICAgICAgICAgICAgbWFya2VyXzlkNTllZTA2ZWFkMzQ2NTFhZTdiMTczZTgwNjFmMTg3LmJpbmRQb3B1cChwb3B1cF84YjBjOWQ3NDdjMmE0ZjQzYjQ0MGQwMjNkODFmYzE3ZSk7CgogICAgICAgICAgICAKICAgICAgICAKICAgIAoKICAgICAgICAgICAgdmFyIG1hcmtlcl9jYmZkYzI5ZTQ5NmU0ZGVkYTRmYzdiNWRkNmMwMjNlMSA9IEwubWFya2VyKAogICAgICAgICAgICAgICAgWzUyLjc2NDQxNiw2LjEzODYyN10sCiAgICAgICAgICAgICAgICB7CiAgICAgICAgICAgICAgICAgICAgaWNvbjogbmV3IEwuSWNvbi5EZWZhdWx0KCkKICAgICAgICAgICAgICAgICAgICB9CiAgICAgICAgICAgICAgICApCiAgICAgICAgICAgICAgICAuYWRkVG8obWFwX2E4ZTNjMzMyNGU1NTRjMGE5YTlmYTU3NWYxMDVmNWRhKTsKICAgICAgICAgICAgCiAgICAKICAgICAgICAgICAgdmFyIHBvcHVwX2FlMWRjNDNkNmIwOTQzYWE4MGMzZTcyZGY0YTVhZTE3ID0gTC5wb3B1cCh7bWF4V2lkdGg6ICczMDAnfSk7CgogICAgICAgICAgICAKICAgICAgICAgICAgICAgIHZhciBodG1sXzRiOTRjNTExNzg4YzQ2ZGE5NTgzNWM2ODcwMWE1NjYwID0gJCgnPGRpdiBpZD0iaHRtbF80Yjk0YzUxMTc4OGM0NmRhOTU4MzVjNjg3MDFhNTY2MCIgc3R5bGU9IndpZHRoOiAxMDAuMCU7IGhlaWdodDogMTAwLjAlOyI+UlMzMTBMQkE8L2Rpdj4nKVswXTsKICAgICAgICAgICAgICAgIHBvcHVwX2FlMWRjNDNkNmIwOTQzYWE4MGMzZTcyZGY0YTVhZTE3LnNldENvbnRlbnQoaHRtbF80Yjk0YzUxMTc4OGM0NmRhOTU4MzVjNjg3MDFhNTY2MCk7CiAgICAgICAgICAgIAoKICAgICAgICAgICAgbWFya2VyX2NiZmRjMjllNDk2ZTRkZWRhNGZjN2I1ZGQ2YzAyM2UxLmJpbmRQb3B1cChwb3B1cF9hZTFkYzQzZDZiMDk0M2FhODBjM2U3MmRmNGE1YWUxNyk7CgogICAgICAgICAgICAKICAgICAgICAKICAgIAoKICAgICAgICAgICAgdmFyIG1hcmtlcl84N2U0MmJiZjkzYzM0MTBlOWZjOTI0OTkxMGE1NDlmMSA9IEwubWFya2VyKAogICAgICAgICAgICAgICAgWzUyLjkxNDI1Nyw2Ljg1NTg4MV0sCiAgICAgICAgICAgICAgICB7CiAgICAgICAgICAgICAgICAgICAgaWNvbjogbmV3IEwuSWNvbi5EZWZhdWx0KCkKICAgICAgICAgICAgICAgICAgICB9CiAgICAgICAgICAgICAgICApCiAgICAgICAgICAgICAgICAuYWRkVG8obWFwX2E4ZTNjMzMyNGU1NTRjMGE5YTlmYTU3NWYxMDVmNWRhKTsKICAgICAgICAgICAgCiAgICAKICAgICAgICAgICAgdmFyIHBvcHVwX2MxZTYzNWY4MzM4YTRiYTJiNDBkMGRjMDQ0YzA3NDQ2ID0gTC5wb3B1cCh7bWF4V2lkdGg6ICczMDAnfSk7CgogICAgICAgICAgICAKICAgICAgICAgICAgICAgIHZhciBodG1sX2UzZGNlNGQxYjcyODQzNTI4NjBkNTRkMzNjYTcyZDczID0gJCgnPGRpdiBpZD0iaHRtbF9lM2RjZTRkMWI3Mjg0MzUyODYwZDU0ZDMzY2E3MmQ3MyIgc3R5bGU9IndpZHRoOiAxMDAuMCU7IGhlaWdodDogMTAwLjAlOyI+Q1M0MDFMQkE8L2Rpdj4nKVswXTsKICAgICAgICAgICAgICAgIHBvcHVwX2MxZTYzNWY4MzM4YTRiYTJiNDBkMGRjMDQ0YzA3NDQ2LnNldENvbnRlbnQoaHRtbF9lM2RjZTRkMWI3Mjg0MzUyODYwZDU0ZDMzY2E3MmQ3Myk7CiAgICAgICAgICAgIAoKICAgICAgICAgICAgbWFya2VyXzg3ZTQyYmJmOTNjMzQxMGU5ZmM5MjQ5OTEwYTU0OWYxLmJpbmRQb3B1cChwb3B1cF9jMWU2MzVmODMzOGE0YmEyYjQwZDBkYzA0NGMwNzQ0Nik7CgogICAgICAgICAgICAKICAgICAgICAKICAgIAoKICAgICAgICAgICAgdmFyIG1hcmtlcl9lYmZkYjk0OTIyMmM0YjU4YjZmNjM2ZDA0MDM1ZjI0NyA9IEwubWFya2VyKAogICAgICAgICAgICAgICAgWzUzLjAxNzkwNiw2Ljc1MDQyNjNdLAogICAgICAgICAgICAgICAgewogICAgICAgICAgICAgICAgICAgIGljb246IG5ldyBMLkljb24uRGVmYXVsdCgpCiAgICAgICAgICAgICAgICAgICAgfQogICAgICAgICAgICAgICAgKQogICAgICAgICAgICAgICAgLmFkZFRvKG1hcF9hOGUzYzMzMjRlNTU0YzBhOWE5ZmE1NzVmMTA1ZjVkYSk7CiAgICAgICAgICAgIAogICAgCiAgICAgICAgICAgIHZhciBwb3B1cF81MzI2Y2U1ZDE5ZTQ0MDVhYjAwODRmMmE5OGJmZGNlOCA9IEwucG9wdXAoe21heFdpZHRoOiAnMzAwJ30pOwoKICAgICAgICAgICAgCiAgICAgICAgICAgICAgICB2YXIgaHRtbF83ZTQxNWQxNjM5MjM0MGExOWExOTg1MTI5YmY2YmJiNCA9ICQoJzxkaXYgaWQ9Imh0bWxfN2U0MTVkMTYzOTIzNDBhMTlhMTk4NTEyOWJmNmJiYjQiIHN0eWxlPSJ3aWR0aDogMTAwLjAlOyBoZWlnaHQ6IDEwMC4wJTsiPlJTNDA2TEJBPC9kaXY+JylbMF07CiAgICAgICAgICAgICAgICBwb3B1cF81MzI2Y2U1ZDE5ZTQ0MDVhYjAwODRmMmE5OGJmZGNlOC5zZXRDb250ZW50KGh0bWxfN2U0MTVkMTYzOTIzNDBhMTlhMTk4NTEyOWJmNmJiYjQpOwogICAgICAgICAgICAKCiAgICAgICAgICAgIG1hcmtlcl9lYmZkYjk0OTIyMmM0YjU4YjZmNjM2ZDA0MDM1ZjI0Ny5iaW5kUG9wdXAocG9wdXBfNTMyNmNlNWQxOWU0NDA1YWIwMDg0ZjJhOThiZmRjZTgpOwoKICAgICAgICAgICAgCiAgICAgICAgCiAgICAKCiAgICAgICAgICAgIHZhciBtYXJrZXJfMjFmNDliOTk1MTNhNDUzYWEzZmJmMzQyOGViYTE0ZjQgPSBMLm1hcmtlcigKICAgICAgICAgICAgICAgIFs1My4wOTI1NjQsNi43ODQyNzQ2XSwKICAgICAgICAgICAgICAgIHsKICAgICAgICAgICAgICAgICAgICBpY29uOiBuZXcgTC5JY29uLkRlZmF1bHQoKQogICAgICAgICAgICAgICAgICAgIH0KICAgICAgICAgICAgICAgICkKICAgICAgICAgICAgICAgIC5hZGRUbyhtYXBfYThlM2MzMzI0ZTU1NGMwYTlhOWZhNTc1ZjEwNWY1ZGEpOwogICAgICAgICAgICAKICAgIAogICAgICAgICAgICB2YXIgcG9wdXBfMDI1MjUxOGE1Mzg3NGZmNzlmYzRmYmVlZGMyYmRkODIgPSBMLnBvcHVwKHttYXhXaWR0aDogJzMwMCd9KTsKCiAgICAgICAgICAgIAogICAgICAgICAgICAgICAgdmFyIGh0bWxfYWYwNDMyZmNkOTgxNDhjYzkxMmMwNmY3ZGI5ZjljNzEgPSAkKCc8ZGl2IGlkPSJodG1sX2FmMDQzMmZjZDk4MTQ4Y2M5MTJjMDZmN2RiOWY5YzcxIiBzdHlsZT0id2lkdGg6IDEwMC4wJTsgaGVpZ2h0OiAxMDAuMCU7Ij5SUzQwN0xCQTwvZGl2PicpWzBdOwogICAgICAgICAgICAgICAgcG9wdXBfMDI1MjUxOGE1Mzg3NGZmNzlmYzRmYmVlZGMyYmRkODIuc2V0Q29udGVudChodG1sX2FmMDQzMmZjZDk4MTQ4Y2M5MTJjMDZmN2RiOWY5YzcxKTsKICAgICAgICAgICAgCgogICAgICAgICAgICBtYXJrZXJfMjFmNDliOTk1MTNhNDUzYWEzZmJmMzQyOGViYTE0ZjQuYmluZFBvcHVwKHBvcHVwXzAyNTI1MThhNTM4NzRmZjc5ZmM0ZmJlZWRjMmJkZDgyKTsKCiAgICAgICAgICAgIAogICAgICAgIAogICAgCgogICAgICAgICAgICB2YXIgbWFya2VyXzliNWM1YTEyYjFhMzRjMzc5NGI3YWUzZWIxOGI2NjMwID0gTC5tYXJrZXIoCiAgICAgICAgICAgICAgICBbNTIuOTgwNjgyLDYuMzU4MDMxM10sCiAgICAgICAgICAgICAgICB7CiAgICAgICAgICAgICAgICAgICAgaWNvbjogbmV3IEwuSWNvbi5EZWZhdWx0KCkKICAgICAgICAgICAgICAgICAgICB9CiAgICAgICAgICAgICAgICApCiAgICAgICAgICAgICAgICAuYWRkVG8obWFwX2E4ZTNjMzMyNGU1NTRjMGE5YTlmYTU3NWYxMDVmNWRhKTsKICAgICAgICAgICAgCiAgICAKICAgICAgICAgICAgdmFyIHBvcHVwXzdkNjFhYzRmMjEyZTQ3MjFiNmYzNGRlY2FjZjhlNTM1ID0gTC5wb3B1cCh7bWF4V2lkdGg6ICczMDAnfSk7CgogICAgICAgICAgICAKICAgICAgICAgICAgICAgIHZhciBodG1sXzRjN2I2YmIxYzc2NDQ0OTNiYzI1MWZiM2ZmOGRhOGExID0gJCgnPGRpdiBpZD0iaHRtbF80YzdiNmJiMWM3NjQ0NDkzYmMyNTFmYjNmZjhkYThhMSIgc3R5bGU9IndpZHRoOiAxMDAuMCU7IGhlaWdodDogMTAwLjAlOyI+UlM0MDlMQkE8L2Rpdj4nKVswXTsKICAgICAgICAgICAgICAgIHBvcHVwXzdkNjFhYzRmMjEyZTQ3MjFiNmYzNGRlY2FjZjhlNTM1LnNldENvbnRlbnQoaHRtbF80YzdiNmJiMWM3NjQ0NDkzYmMyNTFmYjNmZjhkYThhMSk7CiAgICAgICAgICAgIAoKICAgICAgICAgICAgbWFya2VyXzliNWM1YTEyYjFhMzRjMzc5NGI3YWUzZWIxOGI2NjMwLmJpbmRQb3B1cChwb3B1cF83ZDYxYWM0ZjIxMmU0NzIxYjZmMzRkZWNhY2Y4ZTUzNSk7CgogICAgICAgICAgICAKICAgICAgICAKICAgIAoKICAgICAgICAgICAgdmFyIG1hcmtlcl83YjYwNmJmZjI0N2M0NmIzOTgxNzYwZDIyZjViM2VjZSA9IEwubWFya2VyKAogICAgICAgICAgICAgICAgWzUyLjkyNjI3LDYuODY1OTAyNF0sCiAgICAgICAgICAgICAgICB7CiAgICAgICAgICAgICAgICAgICAgaWNvbjogbmV3IEwuSWNvbi5EZWZhdWx0KCkKICAgICAgICAgICAgICAgICAgICB9CiAgICAgICAgICAgICAgICApCiAgICAgICAgICAgICAgICAuYWRkVG8obWFwX2E4ZTNjMzMyNGU1NTRjMGE5YTlmYTU3NWYxMDVmNWRhKTsKICAgICAgICAgICAgCiAgICAKICAgICAgICAgICAgdmFyIHBvcHVwXzJlZTFmOGM2MzEzMzQ1NjJhZDMwOTdkZDRkNDZmOTgxID0gTC5wb3B1cCh7bWF4V2lkdGg6ICczMDAnfSk7CgogICAgICAgICAgICAKICAgICAgICAgICAgICAgIHZhciBodG1sXzM1NDIyMTRiMDRiNDQxNTRhNTU4NjI2MWZjZDc2YzMzID0gJCgnPGRpdiBpZD0iaHRtbF8zNTQyMjE0YjA0YjQ0MTU0YTU1ODYyNjFmY2Q3NmMzMyIgc3R5bGU9IndpZHRoOiAxMDAuMCU7IGhlaWdodDogMTAwLjAlOyI+Q1M1MDFMQkE8L2Rpdj4nKVswXTsKICAgICAgICAgICAgICAgIHBvcHVwXzJlZTFmOGM2MzEzMzQ1NjJhZDMwOTdkZDRkNDZmOTgxLnNldENvbnRlbnQoaHRtbF8zNTQyMjE0YjA0YjQ0MTU0YTU1ODYyNjFmY2Q3NmMzMyk7CiAgICAgICAgICAgIAoKICAgICAgICAgICAgbWFya2VyXzdiNjA2YmZmMjQ3YzQ2YjM5ODE3NjBkMjJmNWIzZWNlLmJpbmRQb3B1cChwb3B1cF8yZWUxZjhjNjMxMzM0NTYyYWQzMDk3ZGQ0ZDQ2Zjk4MSk7CgogICAgICAgICAgICAKICAgICAgICAKICAgIAoKICAgICAgICAgICAgdmFyIG1hcmtlcl9hNDhjYjc3OTA4NTU0ZjBlOGI3NzQzNDUxNDRmNTc1YyA9IEwubWFya2VyKAogICAgICAgICAgICAgICAgWzUyLjk0NTAzOCw2Ljg1MDg1MzRdLAogICAgICAgICAgICAgICAgewogICAgICAgICAgICAgICAgICAgIGljb246IG5ldyBMLkljb24uRGVmYXVsdCgpCiAgICAgICAgICAgICAgICAgICAgfQogICAgICAgICAgICAgICAgKQogICAgICAgICAgICAgICAgLmFkZFRvKG1hcF9hOGUzYzMzMjRlNTU0YzBhOWE5ZmE1NzVmMTA1ZjVkYSk7CiAgICAgICAgICAgIAogICAgCiAgICAgICAgICAgIHZhciBwb3B1cF80MDhlZDE4ODI0NjY0ZmI0YmIyM2U4ODg2ZjZkZDliYSA9IEwucG9wdXAoe21heFdpZHRoOiAnMzAwJ30pOwoKICAgICAgICAgICAgCiAgICAgICAgICAgICAgICB2YXIgaHRtbF9kOGFkYjNiNjkwMDk0MmI3YjMwZDIyZTlhMDE2Y2JhNiA9ICQoJzxkaXYgaWQ9Imh0bWxfZDhhZGIzYjY5MDA5NDJiN2IzMGQyMmU5YTAxNmNiYTYiIHN0eWxlPSJ3aWR0aDogMTAwLjAlOyBoZWlnaHQ6IDEwMC4wJTsiPlJTNTAzTEJBPC9kaXY+JylbMF07CiAgICAgICAgICAgICAgICBwb3B1cF80MDhlZDE4ODI0NjY0ZmI0YmIyM2U4ODg2ZjZkZDliYS5zZXRDb250ZW50KGh0bWxfZDhhZGIzYjY5MDA5NDJiN2IzMGQyMmU5YTAxNmNiYTYpOwogICAgICAgICAgICAKCiAgICAgICAgICAgIG1hcmtlcl9hNDhjYjc3OTA4NTU0ZjBlOGI3NzQzNDUxNDRmNTc1Yy5iaW5kUG9wdXAocG9wdXBfNDA4ZWQxODgyNDY2NGZiNGJiMjNlODg4NmY2ZGQ5YmEpOwoKICAgICAgICAgICAgCiAgICAgICAgCiAgICAKCiAgICAgICAgICAgIHZhciBtYXJrZXJfNjYzOTQyMmYxNjQ2NGIzYTk5NDA0ODk0NGJmMmVjMWMgPSBMLm1hcmtlcigKICAgICAgICAgICAgICAgIFs1My4yNDAwMiw2Ljk1MzE2MTJdLAogICAgICAgICAgICAgICAgewogICAgICAgICAgICAgICAgICAgIGljb246IG5ldyBMLkljb24uRGVmYXVsdCgpCiAgICAgICAgICAgICAgICAgICAgfQogICAgICAgICAgICAgICAgKQogICAgICAgICAgICAgICAgLmFkZFRvKG1hcF9hOGUzYzMzMjRlNTU0YzBhOWE5ZmE1NzVmMTA1ZjVkYSk7CiAgICAgICAgICAgIAogICAgCiAgICAgICAgICAgIHZhciBwb3B1cF8wNjE4MDRmNjA4MTI0MGVjOTJmYTU1ZjZmMjAzNDZhMyA9IEwucG9wdXAoe21heFdpZHRoOiAnMzAwJ30pOwoKICAgICAgICAgICAgCiAgICAgICAgICAgICAgICB2YXIgaHRtbF9kMTE0ODc4ODI2MTA0OGU5YTJiMTRlYjJhOGQ2ODRhYSA9ICQoJzxkaXYgaWQ9Imh0bWxfZDExNDg3ODgyNjEwNDhlOWEyYjE0ZWIyYThkNjg0YWEiIHN0eWxlPSJ3aWR0aDogMTAwLjAlOyBoZWlnaHQ6IDEwMC4wJTsiPlJTNTA4TEJBPC9kaXY+JylbMF07CiAgICAgICAgICAgICAgICBwb3B1cF8wNjE4MDRmNjA4MTI0MGVjOTJmYTU1ZjZmMjAzNDZhMy5zZXRDb250ZW50KGh0bWxfZDExNDg3ODgyNjEwNDhlOWEyYjE0ZWIyYThkNjg0YWEpOwogICAgICAgICAgICAKCiAgICAgICAgICAgIG1hcmtlcl82NjM5NDIyZjE2NDY0YjNhOTk0MDQ4OTQ0YmYyZWMxYy5iaW5kUG9wdXAocG9wdXBfMDYxODA0ZjYwODEyNDBlYzkyZmE1NWY2ZjIwMzQ2YTMpOwoKICAgICAgICAgICAgCiAgICAgICAgCiAgICAKCiAgICAgICAgICAgIHZhciBtYXJrZXJfYTk0Y2Y3ODU3NGZiNDY3Yzg4YjQ4ODgzMzliNmE5NGEgPSBMLm1hcmtlcigKICAgICAgICAgICAgICAgIFs1My40MDg4NjMsNi43ODUyNzhdLAogICAgICAgICAgICAgICAgewogICAgICAgICAgICAgICAgICAgIGljb246IG5ldyBMLkljb24uRGVmYXVsdCgpCiAgICAgICAgICAgICAgICAgICAgfQogICAgICAgICAgICAgICAgKQogICAgICAgICAgICAgICAgLmFkZFRvKG1hcF9hOGUzYzMzMjRlNTU0YzBhOWE5ZmE1NzVmMTA1ZjVkYSk7CiAgICAgICAgICAgIAogICAgCiAgICAgICAgICAgIHZhciBwb3B1cF9hNjc2M2ZlM2NkZDI0MDk1YjYzOWZlOTZmZTA0ZGQwOCA9IEwucG9wdXAoe21heFdpZHRoOiAnMzAwJ30pOwoKICAgICAgICAgICAgCiAgICAgICAgICAgICAgICB2YXIgaHRtbF81ZGNiNTc1YjJlOGY0NjlhYTRiYzEwMTNlNGI4NGEyNyA9ICQoJzxkaXYgaWQ9Imh0bWxfNWRjYjU3NWIyZThmNDY5YWE0YmMxMDEzZTRiODRhMjciIHN0eWxlPSJ3aWR0aDogMTAwLjAlOyBoZWlnaHQ6IDEwMC4wJTsiPlJTNTA5TEJBPC9kaXY+JylbMF07CiAgICAgICAgICAgICAgICBwb3B1cF9hNjc2M2ZlM2NkZDI0MDk1YjYzOWZlOTZmZTA0ZGQwOC5zZXRDb250ZW50KGh0bWxfNWRjYjU3NWIyZThmNDY5YWE0YmMxMDEzZTRiODRhMjcpOwogICAgICAgICAgICAKCiAgICAgICAgICAgIG1hcmtlcl9hOTRjZjc4NTc0ZmI0NjdjODhiNDg4ODMzOWI2YTk0YS5iaW5kUG9wdXAocG9wdXBfYTY3NjNmZTNjZGQyNDA5NWI2MzlmZTk2ZmUwNGRkMDgpOwoKICAgICAgICAgICAgCiAgICAgICAgCiAgICAKCiAgICAgICAgICAgIHZhciBtYXJrZXJfMTUzMjY2ODFkY2I0NGUwNTk3YTIxMGEyYzk0ZjdkOWMgPSBMLm1hcmtlcigKICAgICAgICAgICAgICAgIFs1MC41MjMzMSw2Ljg4Mzk1NjRdLAogICAgICAgICAgICAgICAgewogICAgICAgICAgICAgICAgICAgIGljb246IG5ldyBMLkljb24uRGVmYXVsdCgpCiAgICAgICAgICAgICAgICAgICAgfQogICAgICAgICAgICAgICAgKQogICAgICAgICAgICAgICAgLmFkZFRvKG1hcF9hOGUzYzMzMjRlNTU0YzBhOWE5ZmE1NzVmMTA1ZjVkYSk7CiAgICAgICAgICAgIAogICAgCiAgICAgICAgICAgIHZhciBwb3B1cF83MzAyMjA5Y2FlNDQ0YTVlYWI1MGMyMmExZjhhZjEzNiA9IEwucG9wdXAoe21heFdpZHRoOiAnMzAwJ30pOwoKICAgICAgICAgICAgCiAgICAgICAgICAgICAgICB2YXIgaHRtbF8xODk4ODQ5ZTc3YjU0ZTQ5YTgwOGUwY2U3MTVkN2ExNSA9ICQoJzxkaXYgaWQ9Imh0bWxfMTg5ODg0OWU3N2I1NGU0OWE4MDhlMGNlNzE1ZDdhMTUiIHN0eWxlPSJ3aWR0aDogMTAwLjAlOyBoZWlnaHQ6IDEwMC4wJTsiPkRFNjAxTEJBPC9kaXY+JylbMF07CiAgICAgICAgICAgICAgICBwb3B1cF83MzAyMjA5Y2FlNDQ0YTVlYWI1MGMyMmExZjhhZjEzNi5zZXRDb250ZW50KGh0bWxfMTg5ODg0OWU3N2I1NGU0OWE4MDhlMGNlNzE1ZDdhMTUpOwogICAgICAgICAgICAKCiAgICAgICAgICAgIG1hcmtlcl8xNTMyNjY4MWRjYjQ0ZTA1OTdhMjEwYTJjOTRmN2Q5Yy5iaW5kUG9wdXAocG9wdXBfNzMwMjIwOWNhZTQ0NGE1ZWFiNTBjMjJhMWY4YWYxMzYpOwoKICAgICAgICAgICAgCiAgICAgICAgCiAgICAKCiAgICAgICAgICAgIHZhciBtYXJrZXJfMTM2OTM3ZGQxZGUxNGY5ZTk1NTRjMDU1MDY3YTUwN2MgPSBMLm1hcmtlcigKICAgICAgICAgICAgICAgIFs0OC41MDExNCwxMS4yODgxMjddLAogICAgICAgICAgICAgICAgewogICAgICAgICAgICAgICAgICAgIGljb246IG5ldyBMLkljb24uRGVmYXVsdCgpCiAgICAgICAgICAgICAgICAgICAgfQogICAgICAgICAgICAgICAgKQogICAgICAgICAgICAgICAgLmFkZFRvKG1hcF9hOGUzYzMzMjRlNTU0YzBhOWE5ZmE1NzVmMTA1ZjVkYSk7CiAgICAgICAgICAgIAogICAgCiAgICAgICAgICAgIHZhciBwb3B1cF9hMDM1YjE1NzUyMzA0OWRhOWMzMmUzZjdlYTU4ZjZhMyA9IEwucG9wdXAoe21heFdpZHRoOiAnMzAwJ30pOwoKICAgICAgICAgICAgCiAgICAgICAgICAgICAgICB2YXIgaHRtbF80OGQ5ODAwNGMyMGM0NjUwYWE2NWE1NDI4MmJmZGVhYyA9ICQoJzxkaXYgaWQ9Imh0bWxfNDhkOTgwMDRjMjBjNDY1MGFhNjVhNTQyODJiZmRlYWMiIHN0eWxlPSJ3aWR0aDogMTAwLjAlOyBoZWlnaHQ6IDEwMC4wJTsiPkRFNjAyTEJBPC9kaXY+JylbMF07CiAgICAgICAgICAgICAgICBwb3B1cF9hMDM1YjE1NzUyMzA0OWRhOWMzMmUzZjdlYTU4ZjZhMy5zZXRDb250ZW50KGh0bWxfNDhkOTgwMDRjMjBjNDY1MGFhNjVhNTQyODJiZmRlYWMpOwogICAgICAgICAgICAKCiAgICAgICAgICAgIG1hcmtlcl8xMzY5MzdkZDFkZTE0ZjllOTU1NGMwNTUwNjdhNTA3Yy5iaW5kUG9wdXAocG9wdXBfYTAzNWIxNTc1MjMwNDlkYTljMzJlM2Y3ZWE1OGY2YTMpOwoKICAgICAgICAgICAgCiAgICAgICAgCiAgICAKCiAgICAgICAgICAgIHZhciBtYXJrZXJfMWVhZjc5NmY1ZmIxNDMzYjg1OGM2MzdiOTIwYjlkMmEgPSBMLm1hcmtlcigKICAgICAgICAgICAgICAgIFs1MC45NzkzNDcsMTEuNzExMjY3XSwKICAgICAgICAgICAgICAgIHsKICAgICAgICAgICAgICAgICAgICBpY29uOiBuZXcgTC5JY29uLkRlZmF1bHQoKQogICAgICAgICAgICAgICAgICAgIH0KICAgICAgICAgICAgICAgICkKICAgICAgICAgICAgICAgIC5hZGRUbyhtYXBfYThlM2MzMzI0ZTU1NGMwYTlhOWZhNTc1ZjEwNWY1ZGEpOwogICAgICAgICAgICAKICAgIAogICAgICAgICAgICB2YXIgcG9wdXBfYzQzNjQzMGRhMWY3NDAxNGFkZmY4YWE5NWNkNWE4MGUgPSBMLnBvcHVwKHttYXhXaWR0aDogJzMwMCd9KTsKCiAgICAgICAgICAgIAogICAgICAgICAgICAgICAgdmFyIGh0bWxfZWY5ZmJhZjg5NjY1NGI0Y2FkZDMzNjEwNGYxZDU3MDEgPSAkKCc8ZGl2IGlkPSJodG1sX2VmOWZiYWY4OTY2NTRiNGNhZGQzMzYxMDRmMWQ1NzAxIiBzdHlsZT0id2lkdGg6IDEwMC4wJTsgaGVpZ2h0OiAxMDAuMCU7Ij5ERTYwM0xCQTwvZGl2PicpWzBdOwogICAgICAgICAgICAgICAgcG9wdXBfYzQzNjQzMGRhMWY3NDAxNGFkZmY4YWE5NWNkNWE4MGUuc2V0Q29udGVudChodG1sX2VmOWZiYWY4OTY2NTRiNGNhZGQzMzYxMDRmMWQ1NzAxKTsKICAgICAgICAgICAgCgogICAgICAgICAgICBtYXJrZXJfMWVhZjc5NmY1ZmIxNDMzYjg1OGM2MzdiOTIwYjlkMmEuYmluZFBvcHVwKHBvcHVwX2M0MzY0MzBkYTFmNzQwMTRhZGZmOGFhOTVjZDVhODBlKTsKCiAgICAgICAgICAgIAogICAgICAgIAogICAgCgogICAgICAgICAgICB2YXIgbWFya2VyXzQxNWNiMmY0NjFiNjQ0MTY4ZWU2MzczZjg2MzU5MGM5ID0gTC5tYXJrZXIoCiAgICAgICAgICAgICAgICBbNTIuNDM4NTA3LDEzLjAxNjMzNF0sCiAgICAgICAgICAgICAgICB7CiAgICAgICAgICAgICAgICAgICAgaWNvbjogbmV3IEwuSWNvbi5EZWZhdWx0KCkKICAgICAgICAgICAgICAgICAgICB9CiAgICAgICAgICAgICAgICApCiAgICAgICAgICAgICAgICAuYWRkVG8obWFwX2E4ZTNjMzMyNGU1NTRjMGE5YTlmYTU3NWYxMDVmNWRhKTsKICAgICAgICAgICAgCiAgICAKICAgICAgICAgICAgdmFyIHBvcHVwX2JlZjdmMzMwNDRkNDQxZThiNDE0NWI3NDA1NjNmYjRhID0gTC5wb3B1cCh7bWF4V2lkdGg6ICczMDAnfSk7CgogICAgICAgICAgICAKICAgICAgICAgICAgICAgIHZhciBodG1sXzA5MzFmMDBkZTI0YTQ4OTQ4ZDZmOGRiZTllZDc5YWJlID0gJCgnPGRpdiBpZD0iaHRtbF8wOTMxZjAwZGUyNGE0ODk0OGQ2ZjhkYmU5ZWQ3OWFiZSIgc3R5bGU9IndpZHRoOiAxMDAuMCU7IGhlaWdodDogMTAwLjAlOyI+REU2MDRMQkE8L2Rpdj4nKVswXTsKICAgICAgICAgICAgICAgIHBvcHVwX2JlZjdmMzMwNDRkNDQxZThiNDE0NWI3NDA1NjNmYjRhLnNldENvbnRlbnQoaHRtbF8wOTMxZjAwZGUyNGE0ODk0OGQ2ZjhkYmU5ZWQ3OWFiZSk7CiAgICAgICAgICAgIAoKICAgICAgICAgICAgbWFya2VyXzQxNWNiMmY0NjFiNjQ0MTY4ZWU2MzczZjg2MzU5MGM5LmJpbmRQb3B1cChwb3B1cF9iZWY3ZjMzMDQ0ZDQ0MWU4YjQxNDViNzQwNTYzZmI0YSk7CgogICAgICAgICAgICAKICAgICAgICAKICAgIAoKICAgICAgICAgICAgdmFyIG1hcmtlcl8zMmJjMjdjMTNiY2M0YjNlYTgyOWM2MzI5OGZjY2FjMCA9IEwubWFya2VyKAogICAgICAgICAgICAgICAgWzUwLjg5NzM0Myw2LjQyMzQzNV0sCiAgICAgICAgICAgICAgICB7CiAgICAgICAgICAgICAgICAgICAgaWNvbjogbmV3IEwuSWNvbi5EZWZhdWx0KCkKICAgICAgICAgICAgICAgICAgICB9CiAgICAgICAgICAgICAgICApCiAgICAgICAgICAgICAgICAuYWRkVG8obWFwX2E4ZTNjMzMyNGU1NTRjMGE5YTlmYTU3NWYxMDVmNWRhKTsKICAgICAgICAgICAgCiAgICAKICAgICAgICAgICAgdmFyIHBvcHVwXzFjOTYyZWM5Y2FlNTQ3Y2ZhZmRkZDc0YjYyZDAzNWQ3ID0gTC5wb3B1cCh7bWF4V2lkdGg6ICczMDAnfSk7CgogICAgICAgICAgICAKICAgICAgICAgICAgICAgIHZhciBodG1sX2YyNGUyZGQzYzk5NzRhMmI5ZGM0NjBlNDUxZDlmNzhjID0gJCgnPGRpdiBpZD0iaHRtbF9mMjRlMmRkM2M5OTc0YTJiOWRjNDYwZTQ1MWQ5Zjc4YyIgc3R5bGU9IndpZHRoOiAxMDAuMCU7IGhlaWdodDogMTAwLjAlOyI+REU2MDVMQkE8L2Rpdj4nKVswXTsKICAgICAgICAgICAgICAgIHBvcHVwXzFjOTYyZWM5Y2FlNTQ3Y2ZhZmRkZDc0YjYyZDAzNWQ3LnNldENvbnRlbnQoaHRtbF9mMjRlMmRkM2M5OTc0YTJiOWRjNDYwZTQ1MWQ5Zjc4Yyk7CiAgICAgICAgICAgIAoKICAgICAgICAgICAgbWFya2VyXzMyYmMyN2MxM2JjYzRiM2VhODI5YzYzMjk4ZmNjYWMwLmJpbmRQb3B1cChwb3B1cF8xYzk2MmVjOWNhZTU0N2NmYWZkZGQ3NGI2MmQwMzVkNyk7CgogICAgICAgICAgICAKICAgICAgICAKICAgIAoKICAgICAgICAgICAgdmFyIG1hcmtlcl9jMTZlMGUwMGRmOTc0YTM1OTQ1MDVkZTg3MDJkZDI4NyA9IEwubWFya2VyKAogICAgICAgICAgICAgICAgWzQ3LjM3NTk0NiwyLjE5MzM1NThdLAogICAgICAgICAgICAgICAgewogICAgICAgICAgICAgICAgICAgIGljb246IG5ldyBMLkljb24uRGVmYXVsdCgpCiAgICAgICAgICAgICAgICAgICAgfQogICAgICAgICAgICAgICAgKQogICAgICAgICAgICAgICAgLmFkZFRvKG1hcF9hOGUzYzMzMjRlNTU0YzBhOWE5ZmE1NzVmMTA1ZjVkYSk7CiAgICAgICAgICAgIAogICAgCiAgICAgICAgICAgIHZhciBwb3B1cF9lOWQzZDFiOTRlNGY0ZGYzYTU0NjhkYjcyMGViNDU5MyA9IEwucG9wdXAoe21heFdpZHRoOiAnMzAwJ30pOwoKICAgICAgICAgICAgCiAgICAgICAgICAgICAgICB2YXIgaHRtbF8yNGNlZDgxYWQ3OTc0Yjk4YjdiNGVjZmNjMDBjYTc5MyA9ICQoJzxkaXYgaWQ9Imh0bWxfMjRjZWQ4MWFkNzk3NGI5OGI3YjRlY2ZjYzAwY2E3OTMiIHN0eWxlPSJ3aWR0aDogMTAwLjAlOyBoZWlnaHQ6IDEwMC4wJTsiPkZSNjA2TEJBPC9kaXY+JylbMF07CiAgICAgICAgICAgICAgICBwb3B1cF9lOWQzZDFiOTRlNGY0ZGYzYTU0NjhkYjcyMGViNDU5My5zZXRDb250ZW50KGh0bWxfMjRjZWQ4MWFkNzk3NGI5OGI3YjRlY2ZjYzAwY2E3OTMpOwogICAgICAgICAgICAKCiAgICAgICAgICAgIG1hcmtlcl9jMTZlMGUwMGRmOTc0YTM1OTQ1MDVkZTg3MDJkZDI4Ny5iaW5kUG9wdXAocG9wdXBfZTlkM2QxYjk0ZTRmNGRmM2E1NDY4ZGI3MjBlYjQ1OTMpOwoKICAgICAgICAgICAgCiAgICAgICAgCiAgICAKCiAgICAgICAgICAgIHZhciBtYXJrZXJfYjYzOGQwMDIwMWNhNDEwOWI1ZjllZTE3ZmQ5ODlmODAgPSBMLm1hcmtlcigKICAgICAgICAgICAgICAgIFs1Ny4zOTg3NTgsMTEuOTI5NjY1XSwKICAgICAgICAgICAgICAgIHsKICAgICAgICAgICAgICAgICAgICBpY29uOiBuZXcgTC5JY29uLkRlZmF1bHQoKQogICAgICAgICAgICAgICAgICAgIH0KICAgICAgICAgICAgICAgICkKICAgICAgICAgICAgICAgIC5hZGRUbyhtYXBfYThlM2MzMzI0ZTU1NGMwYTlhOWZhNTc1ZjEwNWY1ZGEpOwogICAgICAgICAgICAKICAgIAogICAgICAgICAgICB2YXIgcG9wdXBfYTBmM2MxOGUwNzljNDNkYmJiYjU4YmQwNWU0ZjcxOTYgPSBMLnBvcHVwKHttYXhXaWR0aDogJzMwMCd9KTsKCiAgICAgICAgICAgIAogICAgICAgICAgICAgICAgdmFyIGh0bWxfOGExZTY5NDU0YWViNDRmMmIwMDc4OGRmMjdkMzA0OGYgPSAkKCc8ZGl2IGlkPSJodG1sXzhhMWU2OTQ1NGFlYjQ0ZjJiMDA3ODhkZjI3ZDMwNDhmIiBzdHlsZT0id2lkdGg6IDEwMC4wJTsgaGVpZ2h0OiAxMDAuMCU7Ij5TRTYwN0xCQTwvZGl2PicpWzBdOwogICAgICAgICAgICAgICAgcG9wdXBfYTBmM2MxOGUwNzljNDNkYmJiYjU4YmQwNWU0ZjcxOTYuc2V0Q29udGVudChodG1sXzhhMWU2OTQ1NGFlYjQ0ZjJiMDA3ODhkZjI3ZDMwNDhmKTsKICAgICAgICAgICAgCgogICAgICAgICAgICBtYXJrZXJfYjYzOGQwMDIwMWNhNDEwOWI1ZjllZTE3ZmQ5ODlmODAuYmluZFBvcHVwKHBvcHVwX2EwZjNjMThlMDc5YzQzZGJiYmI1OGJkMDVlNGY3MTk2KTsKCiAgICAgICAgICAgIAogICAgICAgIAogICAgCgogICAgICAgICAgICB2YXIgbWFya2VyXzc4ZjIwYzY2ODZhMjRhMjI4NzgwMjZkM2VhOWJjZjhmID0gTC5tYXJrZXIoCiAgICAgICAgICAgICAgICBbNTEuMTQzODI2LC0xLjQzMzUxMTddLAogICAgICAgICAgICAgICAgewogICAgICAgICAgICAgICAgICAgIGljb246IG5ldyBMLkljb24uRGVmYXVsdCgpCiAgICAgICAgICAgICAgICAgICAgfQogICAgICAgICAgICAgICAgKQogICAgICAgICAgICAgICAgLmFkZFRvKG1hcF9hOGUzYzMzMjRlNTU0YzBhOWE5ZmE1NzVmMTA1ZjVkYSk7CiAgICAgICAgICAgIAogICAgCiAgICAgICAgICAgIHZhciBwb3B1cF84ZmZlMjkxMTE5ODQ0ZWJhODcwN2UzZWE0YTYwNGU4ZSA9IEwucG9wdXAoe21heFdpZHRoOiAnMzAwJ30pOwoKICAgICAgICAgICAgCiAgICAgICAgICAgICAgICB2YXIgaHRtbF9lNTliNTNhN2Y3NmM0ZjYxYjE1ZjYwZGMzMjBiYzY0YyA9ICQoJzxkaXYgaWQ9Imh0bWxfZTU5YjUzYTdmNzZjNGY2MWIxNWY2MGRjMzIwYmM2NGMiIHN0eWxlPSJ3aWR0aDogMTAwLjAlOyBoZWlnaHQ6IDEwMC4wJTsiPlVLNjA4TEJBPC9kaXY+JylbMF07CiAgICAgICAgICAgICAgICBwb3B1cF84ZmZlMjkxMTE5ODQ0ZWJhODcwN2UzZWE0YTYwNGU4ZS5zZXRDb250ZW50KGh0bWxfZTU5YjUzYTdmNzZjNGY2MWIxNWY2MGRjMzIwYmM2NGMpOwogICAgICAgICAgICAKCiAgICAgICAgICAgIG1hcmtlcl83OGYyMGM2Njg2YTI0YTIyODc4MDI2ZDNlYTliY2Y4Zi5iaW5kUG9wdXAocG9wdXBfOGZmZTI5MTExOTg0NGViYTg3MDdlM2VhNGE2MDRlOGUpOwoKICAgICAgICAgICAgCiAgICAgICAgCiAgICAKCiAgICAgICAgICAgIHZhciBtYXJrZXJfMDJjZjQ2NTQ3MjMxNGE5Nzg4NjI1M2RkNWE2MWU0YzYgPSBMLm1hcmtlcigKICAgICAgICAgICAgICAgIFs1My42OTg0NjMsOS45Njk4NDZdLAogICAgICAgICAgICAgICAgewogICAgICAgICAgICAgICAgICAgIGljb246IG5ldyBMLkljb24uRGVmYXVsdCgpCiAgICAgICAgICAgICAgICAgICAgfQogICAgICAgICAgICAgICAgKQogICAgICAgICAgICAgICAgLmFkZFRvKG1hcF9hOGUzYzMzMjRlNTU0YzBhOWE5ZmE1NzVmMTA1ZjVkYSk7CiAgICAgICAgICAgIAogICAgCiAgICAgICAgICAgIHZhciBwb3B1cF8yM2U2OWVjOTU3MmY0MTg1OTFjYzE1NTU0NTYxN2Q4NiA9IEwucG9wdXAoe21heFdpZHRoOiAnMzAwJ30pOwoKICAgICAgICAgICAgCiAgICAgICAgICAgICAgICB2YXIgaHRtbF8yOGE1OWYxMDc3M2Q0ZWM5YTE2Zjk5YWFmYmE3ZDhkYyA9ICQoJzxkaXYgaWQ9Imh0bWxfMjhhNTlmMTA3NzNkNGVjOWExNmY5OWFhZmJhN2Q4ZGMiIHN0eWxlPSJ3aWR0aDogMTAwLjAlOyBoZWlnaHQ6IDEwMC4wJTsiPkRFNjA5TEJBPC9kaXY+JylbMF07CiAgICAgICAgICAgICAgICBwb3B1cF8yM2U2OWVjOTU3MmY0MTg1OTFjYzE1NTU0NTYxN2Q4Ni5zZXRDb250ZW50KGh0bWxfMjhhNTlmMTA3NzNkNGVjOWExNmY5OWFhZmJhN2Q4ZGMpOwogICAgICAgICAgICAKCiAgICAgICAgICAgIG1hcmtlcl8wMmNmNDY1NDcyMzE0YTk3ODg2MjUzZGQ1YTYxZTRjNi5iaW5kUG9wdXAocG9wdXBfMjNlNjllYzk1NzJmNDE4NTkxY2MxNTU1NDU2MTdkODYpOwoKICAgICAgICAgICAgCiAgICAgICAgCiAgICAKCiAgICAgICAgICAgIHZhciBtYXJrZXJfZDk1MDcwMzMwNmU4NDVmNTkxYjgyMjkyY2ZkMWUwNzIgPSBMLm1hcmtlcigKICAgICAgICAgICAgICAgIFs1Mi4yNzYxMDgsMTcuMDczMzQ3XSwKICAgICAgICAgICAgICAgIHsKICAgICAgICAgICAgICAgICAgICBpY29uOiBuZXcgTC5JY29uLkRlZmF1bHQoKQogICAgICAgICAgICAgICAgICAgIH0KICAgICAgICAgICAgICAgICkKICAgICAgICAgICAgICAgIC5hZGRUbyhtYXBfYThlM2MzMzI0ZTU1NGMwYTlhOWZhNTc1ZjEwNWY1ZGEpOwogICAgICAgICAgICAKICAgIAogICAgICAgICAgICB2YXIgcG9wdXBfZTExMzA3MzU0MjEwNDA2MGE1NjE4OWFiMThlMjY3NmMgPSBMLnBvcHVwKHttYXhXaWR0aDogJzMwMCd9KTsKCiAgICAgICAgICAgIAogICAgICAgICAgICAgICAgdmFyIGh0bWxfYmFiY2EwOTE0OTYyNDI2NGEwOTRmNWZlNDJiOWMzZjUgPSAkKCc8ZGl2IGlkPSJodG1sX2JhYmNhMDkxNDk2MjQyNjRhMDk0ZjVmZTQyYjljM2Y1IiBzdHlsZT0id2lkdGg6IDEwMC4wJTsgaGVpZ2h0OiAxMDAuMCU7Ij5QTDYxMExCQTwvZGl2PicpWzBdOwogICAgICAgICAgICAgICAgcG9wdXBfZTExMzA3MzU0MjEwNDA2MGE1NjE4OWFiMThlMjY3NmMuc2V0Q29udGVudChodG1sX2JhYmNhMDkxNDk2MjQyNjRhMDk0ZjVmZTQyYjljM2Y1KTsKICAgICAgICAgICAgCgogICAgICAgICAgICBtYXJrZXJfZDk1MDcwMzMwNmU4NDVmNTkxYjgyMjkyY2ZkMWUwNzIuYmluZFBvcHVwKHBvcHVwX2UxMTMwNzM1NDIxMDQwNjBhNTYxODlhYjE4ZTI2NzZjKTsKCiAgICAgICAgICAgIAogICAgICAgIAogICAgCgogICAgICAgICAgICB2YXIgbWFya2VyX2E0OGJlOWUwMTI4MTQyYTliMjVmYTMxY2U1MTVjMTJmID0gTC5tYXJrZXIoCiAgICAgICAgICAgICAgICBbNDkuOTY0NTcsMjAuNDkwMDgyXSwKICAgICAgICAgICAgICAgIHsKICAgICAgICAgICAgICAgICAgICBpY29uOiBuZXcgTC5JY29uLkRlZmF1bHQoKQogICAgICAgICAgICAgICAgICAgIH0KICAgICAgICAgICAgICAgICkKICAgICAgICAgICAgICAgIC5hZGRUbyhtYXBfYThlM2MzMzI0ZTU1NGMwYTlhOWZhNTc1ZjEwNWY1ZGEpOwogICAgICAgICAgICAKICAgIAogICAgICAgICAgICB2YXIgcG9wdXBfNGEwNGJiN2YwNzIyNDcwMWE3ZmYyN2EzMTg2ODEwZTcgPSBMLnBvcHVwKHttYXhXaWR0aDogJzMwMCd9KTsKCiAgICAgICAgICAgIAogICAgICAgICAgICAgICAgdmFyIGh0bWxfNjZiNzFiMmYxZTI1NGExMDgwNGRhMzU2NzZmMGRjOGIgPSAkKCc8ZGl2IGlkPSJodG1sXzY2YjcxYjJmMWUyNTRhMTA4MDRkYTM1Njc2ZjBkYzhiIiBzdHlsZT0id2lkdGg6IDEwMC4wJTsgaGVpZ2h0OiAxMDAuMCU7Ij5QTDYxMUxCQTwvZGl2PicpWzBdOwogICAgICAgICAgICAgICAgcG9wdXBfNGEwNGJiN2YwNzIyNDcwMWE3ZmYyN2EzMTg2ODEwZTcuc2V0Q29udGVudChodG1sXzY2YjcxYjJmMWUyNTRhMTA4MDRkYTM1Njc2ZjBkYzhiKTsKICAgICAgICAgICAgCgogICAgICAgICAgICBtYXJrZXJfYTQ4YmU5ZTAxMjgxNDJhOWIyNWZhMzFjZTUxNWMxMmYuYmluZFBvcHVwKHBvcHVwXzRhMDRiYjdmMDcyMjQ3MDFhN2ZmMjdhMzE4NjgxMGU3KTsKCiAgICAgICAgICAgIAogICAgICAgIAogICAgCgogICAgICAgICAgICB2YXIgbWFya2VyXzkwYTgwZGYyM2E2YjRmNDJhMTIwNTM1MDVmMGVjOGQ1ID0gTC5tYXJrZXIoCiAgICAgICAgICAgICAgICBbNTMuNTkzODA3LDIwLjU4ODkwMl0sCiAgICAgICAgICAgICAgICB7CiAgICAgICAgICAgICAgICAgICAgaWNvbjogbmV3IEwuSWNvbi5EZWZhdWx0KCkKICAgICAgICAgICAgICAgICAgICB9CiAgICAgICAgICAgICAgICApCiAgICAgICAgICAgICAgICAuYWRkVG8obWFwX2E4ZTNjMzMyNGU1NTRjMGE5YTlmYTU3NWYxMDVmNWRhKTsKICAgICAgICAgICAgCiAgICAKICAgICAgICAgICAgdmFyIHBvcHVwXzU2NGY0NWVlNzcxZTQ3NDVhOThiNTI1MDI4OTU4NjhhID0gTC5wb3B1cCh7bWF4V2lkdGg6ICczMDAnfSk7CgogICAgICAgICAgICAKICAgICAgICAgICAgICAgIHZhciBodG1sXzIyMjIzMjNjMjFiMTQxZjQ5MTAwYjI3MGJmYzI4MjY3ID0gJCgnPGRpdiBpZD0iaHRtbF8yMjIyMzIzYzIxYjE0MWY0OTEwMGIyNzBiZmMyODI2NyIgc3R5bGU9IndpZHRoOiAxMDAuMCU7IGhlaWdodDogMTAwLjAlOyI+UEw2MTJMQkE8L2Rpdj4nKVswXTsKICAgICAgICAgICAgICAgIHBvcHVwXzU2NGY0NWVlNzcxZTQ3NDVhOThiNTI1MDI4OTU4NjhhLnNldENvbnRlbnQoaHRtbF8yMjIyMzIzYzIxYjE0MWY0OTEwMGIyNzBiZmMyODI2Nyk7CiAgICAgICAgICAgIAoKICAgICAgICAgICAgbWFya2VyXzkwYTgwZGYyM2E2YjRmNDJhMTIwNTM1MDVmMGVjOGQ1LmJpbmRQb3B1cChwb3B1cF81NjRmNDVlZTc3MWU0NzQ1YTk4YjUyNTAyODk1ODY4YSk7CgogICAgICAgICAgICAKICAgICAgICAKICAgIAoKICAgICAgICAgICAgdmFyIG1hcmtlcl8zMmMzMGUzMDhiMGQ0M2YxOGYyODQzMmRjOTU5NWMzOSA9IEwubWFya2VyKAogICAgICAgICAgICAgICAgWzUzLjA5NTI4LC03LjkyMjIwOF0sCiAgICAgICAgICAgICAgICB7CiAgICAgICAgICAgICAgICAgICAgaWNvbjogbmV3IEwuSWNvbi5EZWZhdWx0KCkKICAgICAgICAgICAgICAgICAgICB9CiAgICAgICAgICAgICAgICApCiAgICAgICAgICAgICAgICAuYWRkVG8obWFwX2E4ZTNjMzMyNGU1NTRjMGE5YTlmYTU3NWYxMDVmNWRhKTsKICAgICAgICAgICAgCiAgICAKICAgICAgICAgICAgdmFyIHBvcHVwXzQ1ZGJlMWVhMTIyMTQ5OGU4NDgzZThmNjE2NjJhMTBmID0gTC5wb3B1cCh7bWF4V2lkdGg6ICczMDAnfSk7CgogICAgICAgICAgICAKICAgICAgICAgICAgICAgIHZhciBodG1sXzhmY2U4YjNmOWJjMDRiMmQ5OWUwMGNmMWNkYTZkYWI1ID0gJCgnPGRpdiBpZD0iaHRtbF84ZmNlOGIzZjliYzA0YjJkOTllMDBjZjFjZGE2ZGFiNSIgc3R5bGU9IndpZHRoOiAxMDAuMCU7IGhlaWdodDogMTAwLjAlOyI+SUU2MTNMQkE8L2Rpdj4nKVswXTsKICAgICAgICAgICAgICAgIHBvcHVwXzQ1ZGJlMWVhMTIyMTQ5OGU4NDgzZThmNjE2NjJhMTBmLnNldENvbnRlbnQoaHRtbF84ZmNlOGIzZjliYzA0YjJkOTllMDBjZjFjZGE2ZGFiNSk7CiAgICAgICAgICAgIAoKICAgICAgICAgICAgbWFya2VyXzMyYzMwZTMwOGIwZDQzZjE4ZjI4NDMyZGM5NTk1YzM5LmJpbmRQb3B1cChwb3B1cF80NWRiZTFlYTEyMjE0OThlODQ4M2U4ZjYxNjYyYTEwZik7CgogICAgICAgICAgICAKICAgICAgICAKPC9zY3JpcHQ+\" style=\"position:absolute;width:100%;height:100%;left:0;top:0;border:none !important;\" allowfullscreen webkitallowfullscreen mozallowfullscreen></iframe></div></div>"
      ],
      "text/plain": [
       "<folium.folium.Map at 0x116c24b00>"
      ]
     },
     "execution_count": null,
     "metadata": {},
     "output_type": "execute_result"
    }
   ],
   "source": [
    "antennamap"
   ]
  },
  {
   "cell_type": "markdown",
   "metadata": {},
   "source": [
    "**Exercise**: Please explore this map a bit and appreciate the extent of LOFAR :)"
   ]
  },
  {
   "cell_type": "markdown",
   "metadata": {},
   "source": [
    "## View a solution"
   ]
  },
  {
   "cell_type": "markdown",
   "metadata": {},
   "source": [
    "Let's explore the solutions a bit."
   ]
  },
  {
   "cell_type": "code",
   "execution_count": null,
   "metadata": {},
   "outputs": [],
   "source": [
    "import matplotlib.pyplot as plt\n",
    "%matplotlib inline"
   ]
  },
  {
   "cell_type": "code",
   "execution_count": null,
   "metadata": {},
   "outputs": [],
   "source": [
    "amplitude_sol = h5file['sol000/amplitude000']"
   ]
  },
  {
   "cell_type": "code",
   "execution_count": null,
   "metadata": {},
   "outputs": [
    {
     "name": "stdout",
     "output_type": "stream",
     "text": [
      "ant\n",
      "freq\n",
      "pol\n",
      "time\n",
      "val\n"
     ]
    }
   ],
   "source": [
    "amplitude_sol.visit(print)"
   ]
  },
  {
   "cell_type": "markdown",
   "metadata": {},
   "source": [
    "The actual calibration values are stored in the node \"`val`\":"
   ]
  },
  {
   "cell_type": "code",
   "execution_count": null,
   "metadata": {},
   "outputs": [
    {
     "data": {
      "text/plain": [
       "<HDF5 dataset \"val\": shape (3, 35, 488, 2), type \"<f8\">"
      ]
     },
     "execution_count": null,
     "metadata": {},
     "output_type": "execute_result"
    }
   ],
   "source": [
    "amplitude_sol['val']"
   ]
  },
  {
   "cell_type": "markdown",
   "metadata": {},
   "source": [
    "### Loading in data properly"
   ]
  },
  {
   "cell_type": "markdown",
   "metadata": {},
   "source": [
    "Let's now close the HDF5 file and load the data more properly. Keeping it open all the time can have disadvantages e.g. when the kernel crashes."
   ]
  },
  {
   "cell_type": "code",
   "execution_count": null,
   "metadata": {},
   "outputs": [],
   "source": [
    "h5file.close()\n",
    "del h5file, amplitude_sol"
   ]
  },
  {
   "cell_type": "markdown",
   "metadata": {},
   "source": [
    "Let's create a function `load_solution(h5filename, solution_name)` that extracts a data cube (no metadata yet) from the HDF5 file and returns a numpy array. To avoid not closing the file when an exception happens, we use the construct \"`with h5py.File(...) as h5file`\"."
   ]
  },
  {
   "cell_type": "code",
   "execution_count": null,
   "metadata": {},
   "outputs": [],
   "source": [
    "def load_solution(h5filename, solution_name):\n",
    "    with h5py.File(h5filename) as h5file:\n",
    "        result = h5file['sol000/{}/val'.format(solution_name)].value\n",
    "    return result"
   ]
  },
  {
   "cell_type": "code",
   "execution_count": null,
   "metadata": {},
   "outputs": [],
   "source": [
    "amplitude_values = load_solution(h5filename, \"amplitude000\")"
   ]
  },
  {
   "cell_type": "code",
   "execution_count": null,
   "metadata": {},
   "outputs": [
    {
     "data": {
      "text/plain": [
       "(3, 35, 488, 2)"
      ]
     },
     "execution_count": null,
     "metadata": {},
     "output_type": "execute_result"
    }
   ],
   "source": [
    "amplitude_values.shape"
   ]
  },
  {
   "cell_type": "markdown",
   "metadata": {},
   "source": [
    "The axes of the data cube are, in order:\n",
    " * time: The time of the calibration, typically every 4 seconds\n",
    " * ant: Station name\n",
    " * freq: Frequency (in Hz)\n",
    " * pol: Polarization (linear, X or Y)"
   ]
  },
  {
   "cell_type": "code",
   "execution_count": null,
   "metadata": {},
   "outputs": [],
   "source": [
    "n_times, n_stations, n_freq, n_pol = amplitude_values.shape"
   ]
  },
  {
   "cell_type": "markdown",
   "metadata": {},
   "source": [
    "Let's define another function `load_meta(h5filename, solution_name)` that returns a tuple of numpy arrays, i.e. `time, ant, freq, pol`, from the corresponding node in `h5file/sol000/solution_name/xxx`."
   ]
  },
  {
   "cell_type": "code",
   "execution_count": null,
   "metadata": {},
   "outputs": [],
   "source": [
    "def load_axes(h5filename, solution_name):\n",
    "    with h5py.File(h5filename) as h5file:\n",
    "        result = [h5file['sol000/{}/{}'.format(solution_name, axis_name)].value for axis_name in ['time', 'ant', 'freq', 'pol']]\n",
    "    return result"
   ]
  },
  {
   "cell_type": "code",
   "execution_count": null,
   "metadata": {},
   "outputs": [],
   "source": [
    "time_axis, station_axis, freq_axis, pol_axis = load_axes(h5filename, \"amplitude000\")"
   ]
  },
  {
   "cell_type": "markdown",
   "metadata": {},
   "source": [
    "**Exercise**: Using the knowledge that the time axis is in seconds, how much time does the calibration span? (A typical observation lasts 8 hours.)"
   ]
  },
  {
   "cell_type": "code",
   "execution_count": null,
   "metadata": {},
   "outputs": [
    {
     "name": "stdout",
     "output_type": "stream",
     "text": [
      "We have only 40 seconds!\n"
     ]
    }
   ],
   "source": [
    "print(\"We have only {:.0f} seconds!\".format(time_axis[-1] - time_axis[0]))"
   ]
  },
  {
   "cell_type": "markdown",
   "metadata": {},
   "source": [
    "Let's plot the bandpass of some station:"
   ]
  },
  {
   "cell_type": "code",
   "execution_count": null,
   "metadata": {},
   "outputs": [
    {
     "data": {
      "image/png": "[encoded data removed]",
      "text/plain": [
       "<Figure size 432x288 with 1 Axes>"
      ]
     },
     "metadata": {},
     "output_type": "display_data"
    }
   ],
   "source": [
    "station_nr = 12\n",
    "fig, ax = plt.subplots(1)\n",
    "ax.plot(1.e-6 * freq_axis, amplitude_values[0, station_nr, :, 0])\n",
    "ax.set_xlabel(\"Frequency (MHz)\")\n",
    "ax.set_title(\"Bandpass for station {station:}\".format(\n",
    "    station=station_axis[station_nr].decode('utf-8')));\n",
    "del station_nr"
   ]
  },
  {
   "cell_type": "code",
   "execution_count": null,
   "metadata": {},
   "outputs": [],
   "source": [
    "del time_axis, station_axis, freq_axis, pol_axis, antenna_names, n_freq, n_pol, n_stations, n_times"
   ]
  },
  {
   "cell_type": "markdown",
   "metadata": {},
   "source": [
    "## Class"
   ]
  },
  {
   "cell_type": "markdown",
   "metadata": {},
   "source": [
    "The concept of a solution with different axes (each with their own metadata) is actually worth its own class. Let's create a class `Solution` with attributes `val`, `time`, `station`, `freq`, `pol`."
   ]
  },
  {
   "cell_type": "code",
   "execution_count": null,
   "metadata": {},
   "outputs": [],
   "source": [
    "class Solution:\n",
    "    def __init__(self, h5filename, solution_name):\n",
    "        \"\"\"Calibration solution extracted from HDF5 file\n",
    "        \n",
    "        Args:\n",
    "            h5filename (str): filename (should be absolute)\n",
    "            solution_name (str): name of solution, e.g. amplitude000\n",
    "        \n",
    "        Attributes:\n",
    "            val (ndarray): data cube\n",
    "            time (ndarray): time values in MJD seconds\n",
    "            station (List[str]): station names\n",
    "            freq (ndarray): frequency values in Hz\n",
    "            pol (ndarray): polarization values\n",
    "            station_number (Dict[str, int]): dict mapping station names to numbers\n",
    "            \n",
    "        \"\"\"\n",
    "        with h5py.File(h5filename) as h5file:\n",
    "            self.val = h5file['sol000/{}/val'.format(solution_name)].value\n",
    "            (self.time, self.station, self.freq, self.pol) = \\\n",
    "                 [h5file['sol000/{}/{}'.format(solution_name, axis_name)].value \\\n",
    "                  for axis_name in ['time', 'ant', 'freq', 'pol']]\n",
    "            self.station = list(self.station.astype('|U8'))\n",
    "            \n",
    "            self.station_number = {self.station[station_num]: station_num\n",
    "                  for station_num in range(len(self.station))}"
   ]
  },
  {
   "cell_type": "markdown",
   "metadata": {},
   "source": [
    "**Exercise**: use this class to get a solution for `amplitude000`."
   ]
  },
  {
   "cell_type": "code",
   "execution_count": null,
   "metadata": {},
   "outputs": [],
   "source": [
    "amplitude_sol = Solution(h5filename, \"amplitude000\")"
   ]
  },
  {
   "cell_type": "markdown",
   "metadata": {},
   "source": [
    "## Make the bandpass plot interactive"
   ]
  },
  {
   "cell_type": "code",
   "execution_count": null,
   "metadata": {},
   "outputs": [],
   "source": [
    "from ipywidgets import interactive, interact, fixed"
   ]
  },
  {
   "cell_type": "code",
   "execution_count": null,
   "metadata": {},
   "outputs": [],
   "source": [
    "amplitude_solution = Solution(h5filename, \"amplitude000\")"
   ]
  },
  {
   "cell_type": "markdown",
   "metadata": {},
   "source": [
    "We'll use a dict \"`station_number`\" with the station names as key and their index in the array as values."
   ]
  },
  {
   "cell_type": "markdown",
   "metadata": {},
   "source": [
    "**Exercise**: create a function `plot_bandpass(solution, time, station_name, pol)` that creates the right bandpass plot."
   ]
  },
  {
   "cell_type": "code",
   "execution_count": null,
   "metadata": {},
   "outputs": [],
   "source": [
    "def plot_bandpass(solution, time, station_name, pol):\n",
    "    fig, ax = plt.subplots(1)\n",
    "    ax.plot(1.e-6 * solution.freq,\n",
    "            solution.val[time, solution.station_number[station_name], :, pol], '.')\n",
    "    ax.set_xlabel(\"Frequency (MHz)\")\n",
    "    ax.set_title(\"Bandpass for station {}\".format(station_name));"
   ]
  },
  {
   "cell_type": "code",
   "execution_count": null,
   "metadata": {},
   "outputs": [
    {
     "data": {
      "image/png": "[encoded data removed]",
      "text/plain": [
       "<Figure size 432x288 with 1 Axes>"
      ]
     },
     "metadata": {},
     "output_type": "display_data"
    }
   ],
   "source": [
    "plot_bandpass(amplitude_solution, 2, 'RS310LBA', 0)"
   ]
  },
  {
   "cell_type": "markdown",
   "metadata": {},
   "source": [
    "**Exercise**: create an interactive widget for the bandpass plot that shows a dropdown for the station name, a slider for the time and a dropdown for the polarization. For the `solution` parameter, you'll want to use `fixed` to indicate that this parameter does not need a widget."
   ]
  },
  {
   "cell_type": "code",
   "execution_count": null,
   "metadata": {},
   "outputs": [
    {
     "data": {
      "application/vnd.jupyter.widget-view+json": {
       "model_id": "d85f3ba756364081811392e219ac69ff",
       "version_major": 2,
       "version_minor": 0
      },
      "text/plain": [
       "interactive(children=(IntSlider(value=1, description='time', max=2), Dropdown(description='station_name', opti…"
      ]
     },
     "metadata": {},
     "output_type": "display_data"
    }
   ],
   "source": [
    "interactive(plot_bandpass,\n",
    "            solution=fixed(amplitude_solution),\n",
    "            station_name=amplitude_solution.station,\n",
    "            time=(0, len(amplitude_solution.time)-1),\n",
    "            pol=[0,1])"
   ]
  },
  {
   "cell_type": "markdown",
   "metadata": {},
   "source": [
    "## Read in phase values"
   ]
  },
  {
   "cell_type": "code",
   "execution_count": null,
   "metadata": {},
   "outputs": [],
   "source": [
    "phase_solution = Solution(h5filename, 'phase000')"
   ]
  },
  {
   "cell_type": "code",
   "execution_count": null,
   "metadata": {},
   "outputs": [],
   "source": [
    "phase_values = phase_solution.val"
   ]
  },
  {
   "cell_type": "code",
   "execution_count": null,
   "metadata": {},
   "outputs": [
    {
     "data": {
      "text/plain": [
       "(200, 35, 488, 2)"
      ]
     },
     "execution_count": null,
     "metadata": {},
     "output_type": "execute_result"
    }
   ],
   "source": [
    "phase_solution.val.shape"
   ]
  },
  {
   "cell_type": "code",
   "execution_count": null,
   "metadata": {},
   "outputs": [],
   "source": [
    "n_times, n_stations, n_freq, n_pol = phase_solution.val.shape"
   ]
  },
  {
   "cell_type": "markdown",
   "metadata": {},
   "source": [
    "The phases are only meaningful when a phase reference is chosen; let's choose the first station as the phase reference."
   ]
  },
  {
   "cell_type": "code",
   "execution_count": null,
   "metadata": {},
   "outputs": [],
   "source": [
    "phase_values = phase_values[:, :, :, :] - phase_values[:, 0, :, :][:, np.newaxis, :, :]"
   ]
  },
  {
   "cell_type": "markdown",
   "metadata": {},
   "source": [
    "For some physical reasons, the phase solutions for these calibration values wrap at $\\pi$ (not $2\\pi$ as all other phases do). We constrain all values between $-\\pi/2$ and $\\pi/2$."
   ]
  },
  {
   "cell_type": "code",
   "execution_count": null,
   "metadata": {},
   "outputs": [],
   "source": [
    "def constrain_pi(a):\n",
    "    \"\"\"Constrain numbers between -pi/2 and pi/2\"\"\"\n",
    "    return np.mod(a + np.pi/2, np.pi) - np.pi/2"
   ]
  },
  {
   "cell_type": "code",
   "execution_count": null,
   "metadata": {},
   "outputs": [],
   "source": [
    "phase_values = constrain_pi(phase_values)"
   ]
  },
  {
   "cell_type": "markdown",
   "metadata": {},
   "source": [
    "**Exercise**: make a wrapper for the function `np.unwrap` that unwraps at $\\pi$.\n",
    "\n",
    "**Hint**: multiply the input, divide after constraining; use `**kwargs` to pass on optional arguments"
   ]
  },
  {
   "cell_type": "code",
   "execution_count": null,
   "metadata": {},
   "outputs": [],
   "source": [
    "def unwrap_pi(x, **kwargs):\n",
    "    \"\"\"Unwrap a number at pi wraps\"\"\"\n",
    "    return 0.5 * np.unwrap(2 * x, **kwargs)"
   ]
  },
  {
   "cell_type": "code",
   "execution_count": null,
   "metadata": {},
   "outputs": [],
   "source": [
    "def plot_phase_freq(station_name, time=0, pol=0, unwrap=False):\n",
    "    fig, ax = plt.subplots(1)\n",
    "    phases = phase_values[time, phase_solution.station_number[station_name], :, pol]\n",
    "    if unwrap:\n",
    "        phases = unwrap_pi(phases)\n",
    "    ax.plot(1.e-6 * phase_solution.freq, phases, '.')\n",
    "    ax.set_xlabel(\"Frequency (MHz)\")\n",
    "    if not unwrap:\n",
    "        ax.set_ylim(-np.pi/2, np.pi/2)\n",
    "    ax.set_title(\"Phase for station {}\".format(station_name))\n",
    "    return ax"
   ]
  },
  {
   "cell_type": "code",
   "execution_count": null,
   "metadata": {},
   "outputs": [
    {
     "data": {
      "application/vnd.jupyter.widget-view+json": {
       "model_id": "8fe3ad197347469a86e273693fc929cd",
       "version_major": 2,
       "version_minor": 0
      },
      "text/plain": [
       "interactive(children=(Dropdown(description='station_name', options=('CS001LBA', 'CS002LBA', 'CS003LBA', 'CS004…"
      ]
     },
     "metadata": {},
     "output_type": "display_data"
    }
   ],
   "source": [
    "interactive(plot_phase_freq, station_name=phase_solution.station,\n",
    "            time=(0,n_times-1), pol=(0,1))"
   ]
  },
  {
   "cell_type": "markdown",
   "metadata": {},
   "source": [
    "**Exercise**: look at the plots, see if you can see any trends (hint: look one cell below)."
   ]
  },
  {
   "cell_type": "markdown",
   "metadata": {},
   "source": [
    "## Fitting a line"
   ]
  },
  {
   "cell_type": "markdown",
   "metadata": {},
   "source": [
    "You should see some clear linear trends in the solutions; at least towards the higher numbered stations."
   ]
  },
  {
   "cell_type": "code",
   "execution_count": null,
   "metadata": {},
   "outputs": [
    {
     "data": {
      "text/plain": [
       "array([-1.97938667e-08,  1.22818543e+00])"
      ]
     },
     "execution_count": null,
     "metadata": {},
     "output_type": "execute_result"
    }
   ],
   "source": [
    "time = 0\n",
    "station = 17 # CS103LBA\n",
    "pol = 0\n",
    "np.polyfit(phase_solution.freq, unwrap_pi(phase_values[time, station, :, pol]), 1)"
   ]
  },
  {
   "cell_type": "code",
   "execution_count": null,
   "metadata": {},
   "outputs": [],
   "source": [
    "del pol, time, station"
   ]
  },
  {
   "cell_type": "markdown",
   "metadata": {},
   "source": [
    "We want to compute this fit for all timeslots, stations and polarizations. Ideally, without writing a loop like\n",
    "```python\n",
    "for timeslot in range(num_timeslots):\n",
    "    for station in range(num_stations):\n",
    "        for polarization in range(2):\n",
    "            np.polyfit(sol['phase000/freq'], phase_values[timeslot, station, :, polarization], 1)\n",
    "```\n",
    "The common way to solve this, is to have numpy broadast an operation over other axes (apply an operation on one axis, and leave all other axes in place). This can usually be done with the argument `axis`. E.g. `np.mean(x, axis=(1,)` takes the mean over the second axis, leaving all other axes in place. Unfortunately, np.polyfit does not broadcast over axes."
   ]
  },
  {
   "cell_type": "markdown",
   "metadata": {},
   "source": [
    "We'll implement the [linear fit](https://en.wikipedia.org/wiki/Linear_regression) ourselves. This involves solving the equation $(\\mathbf{X}^T.\\mathbf{X})^{-1}\\mathbf{X}^T \\mathbf{\\beta}=\\mathbf{y}$, where $\\mathbf{X}$ is a (tall) 2 by `n_freq` matrix containing a column of ones and a column with all frequencies, $\\mathbf{y}$ is a (tall) vector of length `n_freq` containing the measured phases, $\\mathbf{\\beta}$ is a column vector (length two) containing the parameters (intercept and slope)."
   ]
  },
  {
   "cell_type": "code",
   "execution_count": null,
   "metadata": {},
   "outputs": [],
   "source": [
    "X = np.ones((n_freq, 2))\n",
    "X[:, 1] = phase_solution.freq"
   ]
  },
  {
   "cell_type": "markdown",
   "metadata": {},
   "source": [
    "Let's just write out the matrix, using the python 3 matrix multiplication operator `@` (for numpy arrays, this just calls `np.matmul` which mostly acts like `np.dot`)."
   ]
  },
  {
   "cell_type": "code",
   "execution_count": null,
   "metadata": {},
   "outputs": [
    {
     "data": {
      "text/plain": [
       "array([ 1.22818543e+00, -1.97938667e-08])"
      ]
     },
     "execution_count": null,
     "metadata": {},
     "output_type": "execute_result"
    }
   ],
   "source": [
    "np.linalg.inv(X.T @ X) @ X.T @ unwrap_pi(phase_values[0, 17, :, 0])"
   ]
  },
  {
   "cell_type": "markdown",
   "metadata": {},
   "source": [
    "Yay, this gives the same answer as `np.polyfit` (though in a different order)."
   ]
  },
  {
   "cell_type": "markdown",
   "metadata": {},
   "source": [
    "Now to compute the fit for all stations, times and both polarizations at the same time, we use `np.tensordot`, which computes the dot product along two given axes and leaves all of the other axes in place. We need to \"dot\" the second axis (i.e. axis `1`) of `X` with the third axis (i.e. axis `2`) of the `phase_values`. All other axes remain."
   ]
  },
  {
   "cell_type": "code",
   "execution_count": null,
   "metadata": {},
   "outputs": [],
   "source": [
    "fit = np.tensordot(\n",
    "    np.linalg.inv(X.T @ X),\n",
    "    np.tensordot(X.T, unwrap_pi(phase_values[:, :, :, :], axis=2), axes=((1,), (2,))),\n",
    "    axes=((1,),(0,))\n",
    ")"
   ]
  },
  {
   "cell_type": "code",
   "execution_count": null,
   "metadata": {},
   "outputs": [],
   "source": [
    "def fit_clock(freq, data, axis=-1):\n",
    "    \"\"\"Fit a0 + a1*freq through the data along the given axis\"\"\"\n",
    "    \n",
    "    assert len(freq) == data.shape[axis]\n",
    "    \n",
    "    X = np.ones((len(freq), 2)) # 2 for number of unknowns (a0 and a1)\n",
    "    X[:, 1] = freq\n",
    "\n",
    "    return np.tensordot(\n",
    "        np.linalg.inv(X.T @ X),\n",
    "        np.tensordot(X.T, data, axes=((1,), (axis,))),\n",
    "        axes=((1,),(0,))\n",
    "    )"
   ]
  },
  {
   "cell_type": "code",
   "execution_count": null,
   "metadata": {},
   "outputs": [],
   "source": [
    "fit = fit_clock(phase_solution.freq, unwrap_pi(phase_values[:, :, :, :], axis=2), axis=2)"
   ]
  },
  {
   "cell_type": "code",
   "execution_count": null,
   "metadata": {},
   "outputs": [
    {
     "data": {
      "text/plain": [
       "(2, 200, 35, 2)"
      ]
     },
     "execution_count": null,
     "metadata": {},
     "output_type": "execute_result"
    }
   ],
   "source": [
    "fit.shape"
   ]
  },
  {
   "cell_type": "markdown",
   "metadata": {},
   "source": [
    "The array `fit` has now dimensions `(num_params, n_times, n_stations, n_pol)`, where `n_params` is three (constant, linear term and 1/freq term)."
   ]
  },
  {
   "cell_type": "markdown",
   "metadata": {},
   "source": [
    "Let's check that for the one check station it still gives the same answer:"
   ]
  },
  {
   "cell_type": "code",
   "execution_count": null,
   "metadata": {},
   "outputs": [
    {
     "data": {
      "text/plain": [
       "array([ 4.84854643e-01, -4.88701808e-09])"
      ]
     },
     "execution_count": null,
     "metadata": {},
     "output_type": "execute_result"
    }
   ],
   "source": [
    "fit[:, 0, 14, 0]"
   ]
  },
  {
   "cell_type": "markdown",
   "metadata": {},
   "source": [
    "## Plot the fitted lines"
   ]
  },
  {
   "cell_type": "code",
   "execution_count": null,
   "metadata": {},
   "outputs": [],
   "source": [
    "def plot_phase_and_fit_freq(station_name, *, time=0, pol=0, unwrap=False):\n",
    "    ax = plot_phase_freq(station_name, time, pol, unwrap)\n",
    "    (intercept, slope) = fit[:, time, phase_solution.station_number[station_name], pol]\n",
    "    fit_line = intercept + slope * phase_solution.freq\n",
    "    if not unwrap:\n",
    "        fit_line = constrain_pi(fit_line)\n",
    "    ax.plot(1.e-6 * phase_solution.freq, fit_line)\n",
    "    return ax"
   ]
  },
  {
   "cell_type": "code",
   "execution_count": null,
   "metadata": {},
   "outputs": [
    {
     "data": {
      "application/vnd.jupyter.widget-view+json": {
       "model_id": "9b0e1de85f054338aad1fa1035908cc9",
       "version_major": 2,
       "version_minor": 0
      },
      "text/plain": [
       "interactive(children=(Dropdown(description='station_name', options=('CS001LBA', 'CS002LBA', 'CS003LBA', 'CS004…"
      ]
     },
     "metadata": {},
     "output_type": "display_data"
    }
   ],
   "source": [
    "interactive(plot_phase_and_fit_freq, station_name=phase_solution.station, time=(0, n_times-1), pol=(0,1))"
   ]
  },
  {
   "cell_type": "markdown",
   "metadata": {},
   "source": [
    "**Exercise**: check the residual of the fit against the station number. Are we missing systematics?"
   ]
  },
  {
   "cell_type": "markdown",
   "metadata": {},
   "source": [
    "**Exercise**: update the map above to include only stations that are part of `phase_solution`."
   ]
  },
  {
   "cell_type": "markdown",
   "metadata": {},
   "source": [
    "**Bigger exercise**: for the further away remote stations, it is clear that a higher-order term is missing. Physically, we expect to see a 1/freq term due to the ionosphere. Add a 1/freq term in the fit."
   ]
  },
  {
   "cell_type": "code",
   "execution_count": null,
   "metadata": {},
   "outputs": [],
   "source": [
    "def fit_clock_tec(freq, data, axis=-1):\n",
    "    \"\"\"Fit a0 + a1*freq + a2/freq through the data along the given axis\"\"\"\n",
    "    assert len(freq) == data.shape[axis]\n",
    "    \n",
    "    X = np.ones((len(freq), 3))\n",
    "    X[:, 1] = freq\n",
    "    X[:, 2] = 1./freq\n",
    "    \n",
    "    return np.tensordot(\n",
    "        np.linalg.inv(X.T @ X),\n",
    "        np.tensordot(X.T, data, axes=((1,), (axis,))),\n",
    "        axes=((1,),(0,))\n",
    "    )"
   ]
  },
  {
   "cell_type": "code",
   "execution_count": null,
   "metadata": {},
   "outputs": [],
   "source": [
    "fit2 = fit_clock_tec(phase_solution.freq, unwrap_pi(phase_values[:, :, :, :], axis=2), axis=2)"
   ]
  },
  {
   "cell_type": "code",
   "execution_count": null,
   "metadata": {},
   "outputs": [],
   "source": [
    "def plot_phase_and_fit_freq2(station_name, *, time=0, pol=0, unwrap=False):\n",
    "    ax = plot_phase_freq(station_name, time, pol, unwrap)\n",
    "    (intercept, slope, tec) = fit2[:, time, phase_solution.station_number[station_name], pol]\n",
    "    fit_line = intercept + slope * phase_solution.freq + tec / phase_solution.freq\n",
    "    if not unwrap:\n",
    "        fit_line = constrain_pi(fit_line)\n",
    "    ax.plot(1.e-6 * phase_solution.freq, fit_line)\n",
    "    return ax"
   ]
  },
  {
   "cell_type": "code",
   "execution_count": null,
   "metadata": {},
   "outputs": [
    {
     "data": {
      "application/vnd.jupyter.widget-view+json": {
       "model_id": "a637cdcae4b04c1c9ec99a74c15b4f3e",
       "version_major": 2,
       "version_minor": 0
      },
      "text/plain": [
       "interactive(children=(Dropdown(description='station_name', options=('CS001LBA', 'CS002LBA', 'CS003LBA', 'CS004…"
      ]
     },
     "metadata": {},
     "output_type": "display_data"
    }
   ],
   "source": [
    "interactive(plot_phase_and_fit_freq2, station_name=phase_solution.station, time=(0, n_times-1), pol=(0,1))"
   ]
  },
  {
   "cell_type": "markdown",
   "metadata": {},
   "source": [
    "**Exercise**: check the 1/freq term against station number; we expect to see higher values for this term for further away (i.e. higher-numbered) stations as they see through a different part of the ionosphere."
   ]
  },
  {
   "cell_type": "code",
   "execution_count": null,
   "metadata": {},
   "outputs": [
    {
     "data": {
      "text/plain": [
       "(3, 200, 35, 2)"
      ]
     },
     "execution_count": null,
     "metadata": {},
     "output_type": "execute_result"
    }
   ],
   "source": [
    "fit2.shape"
   ]
  },
  {
   "cell_type": "markdown",
   "metadata": {},
   "source": [
    "Now that we have a reasonable fit, we expect that the slope term represents a physical thing, namely the drift of the different clocks used in the various LOFAR stations. We can check that by plotting the delay (slope) term against time:"
   ]
  },
  {
   "cell_type": "code",
   "execution_count": null,
   "metadata": {},
   "outputs": [],
   "source": [
    "def plot_delay_time(station_name, pol=0):\n",
    "    fig, ax = plt.subplots(1)\n",
    "    delays = (fit2[1, :, phase_solution.station_number[station_name], pol] -\n",
    "              np.mean(fit2[1, :, phase_solution.station_number[station_name], pol])) / (2*np.pi) * 1.e9\n",
    "    ax.plot(phase_solution.time - phase_solution.time[0], delays, '.')\n",
    "    ax.set_xlabel(\"Time (s)\")\n",
    "    ax.set_ylabel(\"Delay (ns)\")\n",
    "#    ax.set_ylim(-10, 10)\n",
    "    ax.set_title(\"Delay {}\".format(station_name))\n",
    "    return ax"
   ]
  },
  {
   "cell_type": "code",
   "execution_count": null,
   "metadata": {},
   "outputs": [
    {
     "data": {
      "application/vnd.jupyter.widget-view+json": {
       "model_id": "21ee24eca59b46a8936b4153015d93b6",
       "version_major": 2,
       "version_minor": 0
      },
      "text/plain": [
       "interactive(children=(Dropdown(description='station_name', options=('CS001LBA', 'CS002LBA', 'CS003LBA', 'CS004…"
      ]
     },
     "metadata": {},
     "output_type": "display_data"
    }
   ],
   "source": [
    "interactive(plot_delay_time, station_name=phase_solution.station, pol=[0,1])"
   ]
  },
  {
   "cell_type": "markdown",
   "metadata": {},
   "source": [
    "**Exercise**: There are some systematics left; in particular try to plot the residual solutions (what's left after subtracting the fit) in one plot. (You're on your own from now on.)"
   ]
  },
  {
   "cell_type": "markdown",
   "metadata": {},
   "source": [
    "## Acknowledgements\n",
    "![](./eu_asterics.png)\n",
    "\n",
    "This tutorial was supported by the H2020-Astronomy ESFRI and Research Infrastructure Cluster (Grant Agreement number: 653477)."
   ]
  }
 ],
 "metadata": {
  "kernelspec": {
   "display_name": "Python 3",
   "language": "python",
   "name": "python3"
  },
  "language_info": {
   "codemirror_mode": {
    "name": "ipython",
    "version": 3
   },
   "file_extension": ".py",
   "mimetype": "text/x-python",
   "name": "python",
   "nbconvert_exporter": "python",
   "pygments_lexer": "ipython3",
   "version": "3.6.5"
  }
 },
 "nbformat": 4,
 "nbformat_minor": 2
}
