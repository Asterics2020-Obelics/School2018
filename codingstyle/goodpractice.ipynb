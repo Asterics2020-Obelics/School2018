{
 "cells": [
  {
   "cell_type": "markdown",
   "metadata": {},
   "source": [
    "# Python 2 vs. Python 3"
   ]
  },
  {
   "cell_type": "markdown",
   "metadata": {},
   "source": [
    "We will use Python 3 through the whole school. It is recommended to use Python 3 to write new software. If you are working with software written in Python 2, please make sure to write code that is Python 3 ready.\n",
    "\n",
    "### The `__future__` module\n",
    "\n",
    "Python 3 introduced some Python 2-incompatible keywords and features that can be imported via the built-in `__future__` module in Python 2. For example, if you would like to use Python 3's `print` function or integer division in Python 2, you can import them as follows:\n",
    "\n",
    "```python\n",
    "from __future__ import print_function\n",
    "from __future__ import division\n",
    "```\n",
    "\n",
    "### The key differences between Python 2 and Python 3\n",
    "\n",
    "#### The `print` function\n",
    "\n",
    "The change in the print-syntax is probably the most known change in Python 3. The `print` statement in Python 2 has been replaced by the `print()` function in Python 3. This means we have to wrap what we want to print in parenthesis."
   ]
  },
  {
   "cell_type": "markdown",
   "metadata": {},
   "source": [
    "*Exercise:*\n",
    "\n",
    "The code below will give a `SyntaxError` because it is using the print-syntax in Python 2. Please try to fix it."
   ]
  },
  {
   "cell_type": "code",
   "execution_count": null,
   "metadata": {},
   "outputs": [],
   "source": [
    "print 'Hello!'\n",
    "print 'Welcome to Annecy!'"
   ]
  },
  {
   "cell_type": "markdown",
   "metadata": {},
   "source": [
    "### Integer division\n",
    "\n",
    "The change in the behavior in integer division can often go unnoticed, but this change can be very dangerous if it goes unnoticed when you move from Python 2 to Python 3.\n",
    "\n",
    "Here is an example which shows the different results of the `/` operator in Python 3 and in Python 2."
   ]
  },
  {
   "cell_type": "code",
   "execution_count": null,
   "metadata": {},
   "outputs": [],
   "source": [
    "print('3 / 2 = ', 3 / 2)\n",
    "print('3 // 2 = ', 3 // 2)\n",
    "print('3 / 2.0 = ', 3 / 2.0)\n",
    "print('3 // 2.0 = ', 3 // 2.0)"
   ]
  },
  {
   "cell_type": "markdown",
   "metadata": {},
   "source": [
    "The output of running the code in Python 2 is:\n",
    "\n",
    "```\n",
    "3 / 2 =  1\n",
    "3 // 2 =  1\n",
    "3 / 2.0 =  1.5\n",
    "3 // 2.0 =  1.0\n",
    "```"
   ]
  },
  {
   "cell_type": "code",
   "execution_count": 3,
   "metadata": {},
   "outputs": [
    {
     "name": "stdout",
     "output_type": "stream",
     "text": [
      "3 / 2 =  1\n",
      "3 // 2 =  1\n",
      "3 / 2.0 =  1.5\n",
      "3 // 2.0 =  1.0\n"
     ]
    }
   ],
   "source": [
    "%%python2\n",
    "print '3 / 2 = ', 3 / 2\n",
    "print '3 // 2 = ', 3 // 2\n",
    "print '3 / 2.0 = ', 3 / 2.0\n",
    "print '3 // 2.0 = ', 3 // 2.0"
   ]
  },
  {
   "cell_type": "markdown",
   "metadata": {},
   "source": [
    "### The `xrange` function\n",
    "\n",
    "Many people may wonder where the `xrange()` function is in Python 3. Actually, the `range()` function in Python 3 is implemented like the `xrange()` function in Python 2, therefore a dedicated `xrange()` function does not exist in Python 3 anymore. Using `xrange()` in Python 3 will raise a `NameError`."
   ]
  },
  {
   "cell_type": "code",
   "execution_count": null,
   "metadata": {},
   "outputs": [],
   "source": [
    "n = 10000\n",
    "print(type(range(n)))"
   ]
  },
  {
   "cell_type": "code",
   "execution_count": null,
   "metadata": {},
   "outputs": [],
   "source": [
    "print(type(xrange(n)))"
   ]
  },
  {
   "cell_type": "markdown",
   "metadata": {},
   "source": [
    "The output of running the code in Python 2 is:\n",
    "\n",
    "```\n",
    "<type 'list'>\n",
    "<type 'xrange'>\n",
    "```"
   ]
  },
  {
   "cell_type": "code",
   "execution_count": 5,
   "metadata": {},
   "outputs": [
    {
     "name": "stdout",
     "output_type": "stream",
     "text": [
      "<type 'list'>\n",
      "<type 'xrange'>\n"
     ]
    }
   ],
   "source": [
    "%%python2\n",
    "n = 10000\n",
    "print type(range(n))\n",
    "print type(xrange(n))"
   ]
  },
  {
   "cell_type": "markdown",
   "metadata": {},
   "source": [
    "### The for-loop variables"
   ]
  },
  {
   "cell_type": "markdown",
   "metadata": {},
   "source": [
    "What worth mentioning regarding the for-loop variables is that they don't leak into the global namespace anymore! If you haven't notice this before, you will see the difference from the example below."
   ]
  },
  {
   "cell_type": "code",
   "execution_count": null,
   "metadata": {},
   "outputs": [],
   "source": [
    "i = 1\n",
    "print('before: i =', i)\n",
    "\n",
    "print('comprehension:', [i for i in range(5)])\n",
    "\n",
    "print('after: i =', i)"
   ]
  },
  {
   "cell_type": "markdown",
   "metadata": {},
   "source": [
    "The output of running the code in Python 2 is:\n",
    "\n",
    "```\n",
    "before: i = 1\n",
    "comprehension: [0, 1, 2, 3, 4]\n",
    "after: i = 4\n",
    "```"
   ]
  },
  {
   "cell_type": "code",
   "execution_count": 7,
   "metadata": {},
   "outputs": [
    {
     "name": "stdout",
     "output_type": "stream",
     "text": [
      "before: i = 1\n",
      "comprehension: [0, 1, 2, 3, 4]\n",
      "after: i = 4\n"
     ]
    }
   ],
   "source": [
    "%%python2\n",
    "i = 1\n",
    "print 'before: i =', i \n",
    "\n",
    "print 'comprehension:', [i for i in range(5)]\n",
    "\n",
    "print 'after: i =', i"
   ]
  },
  {
   "cell_type": "markdown",
   "metadata": {},
   "source": [
    "### Banker's rounding"
   ]
  },
  {
   "cell_type": "markdown",
   "metadata": {},
   "source": [
    "Python 3 adopted the now standard way of rounding decimals when it results in a tie (.5) at the last significant digits. The decimals are now rounded to the nearest even number in python 3. This definitely results in inconvenience in code portability, however, it's supposed to be a better way of rounding compared to rounding up as it avoids the bias towards large numbers. For more information, see the excellent Wikipedia articles and paragraphs:\n",
    "\n",
    "* https://en.wikipedia.org/wiki/Rounding#Round_half_to_even\n",
    "* https://en.wikipedia.org/wiki/IEEE_floating_point#Roundings_to_nearest"
   ]
  },
  {
   "cell_type": "code",
   "execution_count": null,
   "metadata": {},
   "outputs": [],
   "source": [
    "round(17.5)"
   ]
  },
  {
   "cell_type": "code",
   "execution_count": null,
   "metadata": {},
   "outputs": [],
   "source": [
    "round(18.5)"
   ]
  },
  {
   "cell_type": "markdown",
   "metadata": {},
   "source": [
    "The output of running the code in Python 2 is:\n",
    "\n",
    "```\n",
    "18.0\n",
    "19.0\n",
    "```"
   ]
  },
  {
   "cell_type": "code",
   "execution_count": 9,
   "metadata": {},
   "outputs": [
    {
     "name": "stdout",
     "output_type": "stream",
     "text": [
      "18.0\n",
      "19.0\n"
     ]
    }
   ],
   "source": [
    "%%python2\n",
    "print round(17.5)\n",
    "print round(18.5)"
   ]
  },
  {
   "cell_type": "markdown",
   "metadata": {},
   "source": [
    "### Returning iterable objects instead of lists"
   ]
  },
  {
   "cell_type": "markdown",
   "metadata": {},
   "source": [
    "In Python 3, some functions and methods now return iterable objects instead of lists as in Python 2. This is perfectly fine when we want to iterate over these objects only once. However, when we would like to iterate over those multiple times, it is not so efficient. And for those cases wher we really need the list-objects, we can simply convert the iterable object into a list via the `list()` function.\n",
    "\n",
    "Below is a list of more commonly used functions and methods that don't return lists anymore in Python 3:\n",
    "\n",
    "* `range()`\n",
    "* `zip()`\n",
    "* `map()`\n",
    "* `filter()`\n",
    "* dictionary's `.keys()` method\n",
    "* dictionary's `.values()` method\n",
    "* dictionary's `.items()` method"
   ]
  },
  {
   "cell_type": "code",
   "execution_count": null,
   "metadata": {},
   "outputs": [],
   "source": [
    "print(range(4))\n",
    "print(type(range(4)))\n",
    "print(list(range(4)))"
   ]
  },
  {
   "cell_type": "markdown",
   "metadata": {},
   "source": [
    "### The `next()` function and `.next()` method"
   ]
  },
  {
   "cell_type": "markdown",
   "metadata": {},
   "source": [
    "In Python 2, one can use both the `next()` function and the `.next()` method. However, the `next()` function is all that remains in Python 3. Calling the `.next()` method will raise an `AttributeError`."
   ]
  },
  {
   "cell_type": "code",
   "execution_count": null,
   "metadata": {},
   "outputs": [],
   "source": [
    "my_generator = (letter for letter in 'abcdefg')\n",
    "next(my_generator)"
   ]
  },
  {
   "cell_type": "code",
   "execution_count": null,
   "metadata": {},
   "outputs": [],
   "source": [
    "next(my_generator)"
   ]
  },
  {
   "cell_type": "code",
   "execution_count": null,
   "metadata": {},
   "outputs": [],
   "source": [
    "my_generator.next()"
   ]
  },
  {
   "cell_type": "markdown",
   "metadata": {},
   "source": [
    "### Parsing user inputs via `input()`\n",
    "\n",
    "In Python 3, the `input()` function always stores the user inputs as `str` objects, however, in Python 2 the `input()` function can store the user inputs in other types. The `input()` function in Python 3 is an equivelant to the `raw_input()` function in Python 2."
   ]
  },
  {
   "cell_type": "code",
   "execution_count": null,
   "metadata": {},
   "outputs": [],
   "source": [
    "my_input = input('enter a number: ')"
   ]
  },
  {
   "cell_type": "code",
   "execution_count": null,
   "metadata": {},
   "outputs": [],
   "source": [
    "print(\"Result of input()\", type(my_input))"
   ]
  },
  {
   "cell_type": "code",
   "execution_count": null,
   "metadata": {},
   "outputs": [],
   "source": [
    "my_input = raw_input('enter a number: ')"
   ]
  },
  {
   "cell_type": "markdown",
   "metadata": {},
   "source": [
    "The output of running the code in Python 2 is:\n",
    "\n",
    "```\n",
    "$ python2 myinput.py\n",
    "enter a number: 1234\n",
    "Result of input(): <type 'int'>\n",
    "enter a number: 1234\n",
    "Result of raw_input() <type 'str'>\n",
    "```"
   ]
  },
  {
   "cell_type": "markdown",
   "metadata": {},
   "source": [
    "### 2to3: Automated Python 2 to 3 code translation\n",
    "2to3 is a Python program that reads Python 2.x source code and applies a series of fixers to transform it into valid Python 3.x code. The standard library contains a rich set of fixers that will handle almost all code.[\\[1\\]](#References)"
   ]
  },
  {
   "cell_type": "code",
   "execution_count": null,
   "metadata": {},
   "outputs": [],
   "source": [
    "!cat square.py"
   ]
  },
  {
   "cell_type": "code",
   "execution_count": null,
   "metadata": {},
   "outputs": [],
   "source": [
    "!2to3 --help"
   ]
  },
  {
   "cell_type": "code",
   "execution_count": null,
   "metadata": {},
   "outputs": [],
   "source": [
    "!2to3 square.py"
   ]
  },
  {
   "cell_type": "code",
   "execution_count": null,
   "metadata": {},
   "outputs": [],
   "source": [
    "!mkdir -p output\n",
    "!2to3 square.py -n -w -o output"
   ]
  },
  {
   "cell_type": "code",
   "execution_count": null,
   "metadata": {},
   "outputs": [],
   "source": [
    "!cat output/square.py"
   ]
  },
  {
   "cell_type": "markdown",
   "metadata": {},
   "source": [
    "# Transforming Code into Beautiful, Idiomatic Python\n",
    "\n",
    "The code samples shown below don't follow Python's convention and idioms, some of them doesn't even work in Python 3.\n",
    "\n",
    "Please transform each code sample into beautiful and idiomatic Python code by editing directly in the cell.\n",
    "\n",
    "**Don't check the solutions before trying it yourself**, because trial and error is a more efficient way of learning.\n",
    "\n",
    "### Alternatives to checking for equality\n",
    "\n",
    "**Hints:** \n",
    "\n",
    "1. Just check the value of `attr` or check for the opposite.\n",
    "2. Since `None` is considered `False`, we can explicity check for it.\n"
   ]
  },
  {
   "cell_type": "code",
   "execution_count": null,
   "metadata": {},
   "outputs": [],
   "source": [
    "attr = 1\n",
    "if attr == True:\n",
    "    print('True!')\n",
    "\n",
    "if attr == None:\n",
    "    print('attr is None!')"
   ]
  },
  {
   "cell_type": "code",
   "execution_count": null,
   "metadata": {},
   "outputs": [],
   "source": [
    "#!cat solutions/equality.py"
   ]
  },
  {
   "cell_type": "markdown",
   "metadata": {},
   "source": [
    "### Accessing dictionary elements\n",
    "\n",
    "**Hints:**\n",
    "\n",
    "1. The `dict.has_key()` method has been removed in Python 3. \n",
    "2. Use the `get()` method or the `in` operator.\n"
   ]
  },
  {
   "cell_type": "code",
   "execution_count": null,
   "metadata": {},
   "outputs": [],
   "source": [
    "d = {'hello': 'world'}\n",
    "\n",
    "if d.has_key('hello'):\n",
    "    print(d['hello'])\n",
    "else:\n",
    "    print('default_value')"
   ]
  },
  {
   "cell_type": "code",
   "execution_count": null,
   "metadata": {},
   "outputs": [],
   "source": [
    "#!cat solutions/accessdict.py"
   ]
  },
  {
   "cell_type": "markdown",
   "metadata": {},
   "source": [
    "### Looping over dictionary keys\n",
    "\n",
    "**Hints:**\n",
    "\n",
    "1. In Python 3, it is not allowed to change dictionary size during iteration.\n",
    "2. Replace dict `d` with a new dictionary using `for ... in ... if not ...` to achieve the same goal."
   ]
  },
  {
   "cell_type": "code",
   "execution_count": null,
   "metadata": {},
   "outputs": [],
   "source": [
    "d = {'matthew': 'blue', 'rachel': 'green', 'raymond': 'red'}\n",
    "\n",
    "for k in d:\n",
    "    print(k)\n",
    "\n",
    "for k in d.keys():\n",
    "    if k.startswith('r'):\n",
    "        del d[k]\n",
    "print(d)"
   ]
  },
  {
   "cell_type": "code",
   "execution_count": null,
   "metadata": {},
   "outputs": [],
   "source": [
    "#!cat solutions/loopdict.py"
   ]
  },
  {
   "cell_type": "markdown",
   "metadata": {},
   "source": [
    "### Manipulating lists\n",
    "\n",
    "**Hints:**\n",
    "\n",
    "1. For the first example, use list comprehension or the `filter()` function.\n",
    "2. For the second example, use list comprehension or the `map()` function.\n"
   ]
  },
  {
   "cell_type": "code",
   "execution_count": null,
   "metadata": {},
   "outputs": [],
   "source": [
    "# Filter elements greater than 4\n",
    "a = [3, 4, 5]\n",
    "b = []\n",
    "for i in a:\n",
    "    if i > 4:\n",
    "        b.append(i)\n",
    "print(b)\n",
    "\n",
    "# Add three to all list members.\n",
    "a = [3, 4, 5]\n",
    "for i in range(len(a)):\n",
    "    a[i] += 3\n",
    "print(a)"
   ]
  },
  {
   "cell_type": "code",
   "execution_count": null,
   "metadata": {},
   "outputs": [],
   "source": [
    "#!cat solutions/maniplist.py"
   ]
  },
  {
   "cell_type": "markdown",
   "metadata": {},
   "source": [
    "### Looping over a collection and indices\n",
    "\n",
    "**Hints:**\n",
    "\n",
    "1. There is a better way!\n",
    "2. Try `enumerate()`."
   ]
  },
  {
   "cell_type": "code",
   "execution_count": null,
   "metadata": {},
   "outputs": [],
   "source": [
    "colors = ['red', 'green', 'blue', 'yellow']\n",
    "\n",
    "for i in range(len(colors)):\n",
    "    print(i, '--->', colors[i])"
   ]
  },
  {
   "cell_type": "code",
   "execution_count": null,
   "metadata": {},
   "outputs": [],
   "source": [
    "#!cat solutions/collection.py"
   ]
  },
  {
   "cell_type": "markdown",
   "metadata": {},
   "source": [
    "### Distinguishing multiple exit points in loops\n",
    "\n",
    "**Hints:**\n",
    "\n",
    "1. There is a better way!\n",
    "2. Try `for ... else ...`."
   ]
  },
  {
   "cell_type": "code",
   "execution_count": null,
   "metadata": {},
   "outputs": [],
   "source": [
    "def find(seq, target):\n",
    "    found = False\n",
    "    for i, value in enumerate(seq):\n",
    "        if value == target:\n",
    "            found = True\n",
    "            break\n",
    "    if not found:\n",
    "        return -1\n",
    "    return i"
   ]
  },
  {
   "cell_type": "code",
   "execution_count": null,
   "metadata": {},
   "outputs": [],
   "source": [
    "#!cat solutions/exitpoints.py"
   ]
  },
  {
   "cell_type": "markdown",
   "metadata": {},
   "source": [
    "### Unpacking sequences\n",
    "\n",
    "**Hints:**\n",
    "1. One single line should be sufficient to do the unpacking.\n"
   ]
  },
  {
   "cell_type": "code",
   "execution_count": null,
   "metadata": {},
   "outputs": [],
   "source": [
    "p = 'Raymond', 'Hettinger', 0x30, 'python@example.com'\n",
    "fname = p[0]\n",
    "lname = p[1]\n",
    "age = p[2]\n",
    "email = p[3]\n",
    "print(fname, lname, age, email)"
   ]
  },
  {
   "cell_type": "code",
   "execution_count": null,
   "metadata": {},
   "outputs": [],
   "source": [
    "#!cat solutions/sequences.py"
   ]
  },
  {
   "cell_type": "markdown",
   "metadata": {},
   "source": [
    "### Updating multiple state variables\n",
    "\n",
    "**Hints:**\n",
    "\n",
    "1. The temporary variable t is not needed."
   ]
  },
  {
   "cell_type": "code",
   "execution_count": null,
   "metadata": {},
   "outputs": [],
   "source": [
    "def fibonacci(n):\n",
    "    x = 0\n",
    "    y = 1\n",
    "    for i in range(n):\n",
    "        print(x)\n",
    "        t = y\n",
    "        y = x + y\n",
    "        x = t\n",
    "fibonacci(5)"
   ]
  },
  {
   "cell_type": "code",
   "execution_count": null,
   "metadata": {},
   "outputs": [],
   "source": [
    "#!cat solutions/multistatevars.py"
   ]
  },
  {
   "cell_type": "markdown",
   "metadata": {},
   "source": [
    "### Concatenating strings\n",
    "\n",
    "**Hints:**\n",
    "\n",
    "1. One line will do."
   ]
  },
  {
   "cell_type": "code",
   "execution_count": null,
   "metadata": {},
   "outputs": [],
   "source": [
    "names = ['raymond', 'rachel', 'matthew', 'roger',\n",
    "         'betty', 'melissa', 'judith', 'charlie']\n",
    "\n",
    "s = names[0]\n",
    "for name in names[1:]:\n",
    "    s += ', ' + name\n",
    "\n",
    "print(s)"
   ]
  },
  {
   "cell_type": "code",
   "execution_count": null,
   "metadata": {},
   "outputs": [],
   "source": [
    "#!cat solutions/concatstrings.py"
   ]
  },
  {
   "cell_type": "markdown",
   "metadata": {},
   "source": [
    "### How to open and close files\n",
    "\n",
    "**Hints:**\n",
    "\n",
    "1. Use the `with` statement."
   ]
  },
  {
   "cell_type": "code",
   "execution_count": null,
   "metadata": {},
   "outputs": [],
   "source": [
    "f = open('data.txt')\n",
    "try:\n",
    "    data = f.read()\n",
    "finally:\n",
    "    f.close()"
   ]
  },
  {
   "cell_type": "code",
   "execution_count": null,
   "metadata": {},
   "outputs": [],
   "source": [
    "#!cat solutions/manipfiles.py"
   ]
  },
  {
   "cell_type": "markdown",
   "metadata": {},
   "source": [
    "# References\n",
    "\n",
    "1. https://docs.python.org/2/library/2to3.html\n",
    "2. http://sebastianraschka.com/Articles/2014_python_2_3_key_diff.html\n",
    "3. https://www.youtube.com/watch?v=anrOzOapJ2E\n",
    "4. https://gist.github.com/0x4D31/f0b633548d8e0cfb66ee3bea6a0deff9"
   ]
  },
  {
   "cell_type": "markdown",
   "metadata": {},
   "source": [
    "## Acknowledgements\n",
    "![](./eu_asterics.png)\n",
    "\n",
    "This tutorial was supported by the H2020-Astronomy ESFRI and Research Infrastructure Cluster (Grant Agreement number: 653477)."
   ]
  }
 ],
 "metadata": {
  "kernelspec": {
   "display_name": "Python 3",
   "language": "python",
   "name": "python3"
  },
  "language_info": {
   "codemirror_mode": {
    "name": "ipython",
    "version": 3
   },
   "file_extension": ".py",
   "mimetype": "text/x-python",
   "name": "python",
   "nbconvert_exporter": "python",
   "pygments_lexer": "ipython3",
   "version": "3.6.5"
  }
 },
 "nbformat": 4,
 "nbformat_minor": 2
}
