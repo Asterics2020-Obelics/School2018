{
 "cells": [
  {
   "cell_type": "markdown",
   "metadata": {
    "slideshow": {
     "slide_type": "slide"
    }
   },
   "source": [
    "# Machine Learning and Statistics: Introduction"
   ]
  },
  {
   "cell_type": "markdown",
   "metadata": {},
   "source": [
    "Material for the [2018 Asterics and Obelics School](https://indico.in2p3.fr/event/16864/).\n",
    "\n",
    "Content is maintained on [github](https://github.com/Asterics2020-Obelics/School2018/tree/master/mls) and distributed under a [BSD3 license](https://opensource.org/licenses/BSD-3-Clause)."
   ]
  },
  {
   "cell_type": "markdown",
   "metadata": {},
   "source": [
    "![sponsor-logos](img/sponsor-logos.png)"
   ]
  },
  {
   "cell_type": "markdown",
   "metadata": {
    "slideshow": {
     "slide_type": "slide"
    }
   },
   "source": [
    "### What is \"Machine Learning\"?\n",
    "\n",
    "Using **machines** to **learn** how to explain data with models."
   ]
  },
  {
   "cell_type": "markdown",
   "metadata": {
    "slideshow": {
     "slide_type": "subslide"
    }
   },
   "source": [
    "### What is \"Machine Learning\"?\n",
    "\n",
    "Using **machines** to **learn** how to explain data with models.\n",
    "\n",
    "The \"machines\" responsible for most of the progress in ML are:\n",
    " - software algorithms\n",
    " - hardware architectures\n",
    " - human ingenuity\n",
    " \n",
    "The \"learning\" consists of passively identifying statistical correlations, which is very different from how we learn with active experimentation and identifying causal relationships."
   ]
  },
  {
   "cell_type": "markdown",
   "metadata": {
    "slideshow": {
     "slide_type": "slide"
    }
   },
   "source": [
    "### What is \"Machine Learning?\"\n",
    "\n",
    "Using machines to learn how to explain **data** with **models**.\n",
    "\n",
    "![MLS-triangle1](img/MLS-triangle1.png)"
   ]
  },
  {
   "cell_type": "markdown",
   "metadata": {
    "slideshow": {
     "slide_type": "subslide"
    }
   },
   "source": [
    "## What is \"Machine Learning?\"\n",
    "\n",
    "Machine learning uses models to learn from data.\n",
    "\n",
    "![MLS-triangle2](img/MLS-triangle2.png)"
   ]
  },
  {
   "cell_type": "markdown",
   "metadata": {
    "slideshow": {
     "slide_type": "slide"
    }
   },
   "source": [
    "## What is Data?\n",
    "\n",
    "Data is (are?) a finite set of measurements:\n",
    "- Usually viewed as a 2D table e.g., spreadsheet, [FITS table](http://docs.astropy.org/en/stable/io/fits/usage/table.html), [Pandas dataframe](https://pandas.pydata.org/pandas-docs/stable/generated/pandas.DataFrame.html)...\n",
    "- **colums = features**\n",
    "- **rows = samples** (observations)\n",
    "- richer data structures (images, [ROOT trees](https://root.cern.ch/root/html/guides/users-guide/Trees.html#trees), etc) must be flattened.\n",
    "\n",
    "![data-table](img/data-table.png)"
   ]
  },
  {
   "cell_type": "markdown",
   "metadata": {
    "slideshow": {
     "slide_type": "subslide"
    }
   },
   "source": [
    "## What is Data?\n",
    "\n",
    "Data is (are?) a finite set of measurements:\n",
    "- Usually viewed as a 2D table e.g., spreadsheet, [FITS table](http://docs.astropy.org/en/stable/io/fits/usage/table.html), , [Pandas dataframe](https://pandas.pydata.org/pandas-docs/stable/generated/pandas.DataFrame.html)...\n",
    "- **colums = features**\n",
    "- **rows = samples** (observations)\n",
    "- richer data structures (images, [ROOT trees](https://root.cern.ch/root/html/guides/users-guide/Trees.html#trees), etc) must be flattened.\n",
    "\n",
    "Questions to ask about your data:\n",
    "- Are my features categorical / discrete / continuous?\n",
    "- Is the ordering of my samples significant?\n",
    "- Are my samples statistically independent? drawn from the sample distribution?\n",
    "- What are the measurement uncertainties?\n",
    "- Is it binned / un-binned?\n",
    "- Is there a natural similarity / distance measure on samples (rows)?"
   ]
  },
  {
   "cell_type": "markdown",
   "metadata": {
    "slideshow": {
     "slide_type": "slide"
    }
   },
   "source": [
    "## What is a Model?\n",
    "\n",
    "Two important types of models: generative, probabilistic.\n",
    "\n",
    "All ML algorithms use a model to explain your data.\n",
    "\n",
    "Models have parameters.\n",
    "\n",
    "![models1](img/models1.png)"
   ]
  },
  {
   "cell_type": "markdown",
   "metadata": {
    "slideshow": {
     "slide_type": "subslide"
    }
   },
   "source": [
    "## What is a Model?\n",
    "\n",
    "Two important types of models: generative, probabilistic.\n",
    "\n",
    "Models can explain data **and parameters**.\n",
    "\n",
    "Models have parameters **and hyper-parameters.**\n",
    "\n",
    "![models2](img/models2.png)"
   ]
  },
  {
   "cell_type": "markdown",
   "metadata": {
    "slideshow": {
     "slide_type": "slide"
    }
   },
   "source": [
    "## What is Learning?\n",
    "\n",
    "Three broad types of learning:\n",
    " - **Unsupervised: learn to predict new data.**\n",
    "   - Given data: what patterns are present? (learn a model).\n",
    "   - Given data and model: how likely is new data to be from same model? (generate new data).\n",
    " - **Supervised: Learn to predict specific features of new data.**\n",
    "   - Classification: predict discrete features (learn a conditional model).\n",
    "   - Regression: predict continuous features  (learn a conditional model).\n",
    " - **Inference: explain observed data.**\n",
    "   - Assuming a model: what parameters (with what uncertainties) best describe my data? (learn a model).\n",
    "   - Given competing models: which best describes my data? (model selection).\n",
    " \n",
    "(Also: reinforcement learning.)"
   ]
  },
  {
   "cell_type": "markdown",
   "metadata": {
    "slideshow": {
     "slide_type": "slide"
    }
   },
   "source": [
    "## ML in Astrophysics and Astroparticle Physics\n",
    "\n",
    "Scientific applications of ML benefit a lot from advances in industry but we work in a different context:\n",
    "- **We are data producers, not data consumers:**\n",
    "  - Experiment / survey design.\n",
    "  - Optimization of statistical errors.\n",
    "  - Control of systematic errors.\n",
    "- **Our data measures physical processes:**\n",
    "  - Measurements often reduce to counting photons, etc, with known a-priori random errors.\n",
    "  - Dimensions and units are important.\n",
    "- **Our models are usually traceable to an underlying physical theory:**\n",
    "  - Models constrained by theory and previous observations.\n",
    "  - Parameter values often intrinsically interesting.\n",
    "- **A parameter uncertainty estimate is just as important as its value:**\n",
    "  - Prefer methods that handle input data uncertainties (weights) and provide output parameter uncertainty estimates."
   ]
  },
  {
   "cell_type": "markdown",
   "metadata": {
    "slideshow": {
     "slide_type": "slide"
    }
   },
   "source": [
    "![outline](img/outline.png)"
   ]
  },
  {
   "cell_type": "markdown",
   "metadata": {
    "slideshow": {
     "slide_type": "slide"
    }
   },
   "source": [
    "These notebooks share some functions that are defined in the `machinelearning/mls/` subdirectory of the school repo. To make these functions accessible, you will need to install the corresponding python package into your `school18` conda environment.\n",
    "\n",
    "First, navigate to your local copy of the [school repo](https://github.com/Asterics2020-Obelics/School2018):\n",
    "```\n",
    "cd .../School2018\n",
    "```\n",
    "Next activate your school environment if necessary:\n",
    "```\n",
    "conda activate school18\n",
    "```\n",
    "Finally, make sure you have the latest changes and install the `mls` shared code:\n",
    "```\n",
    "git pull\n",
    "cd machinelearning\n",
    "python setup.py install\n",
    "```\n",
    "Test that this worked using:\n",
    "```\n",
    "python -c 'import mls'\n",
    "```\n",
    "You only need to perform the steps above once."
   ]
  },
  {
   "cell_type": "markdown",
   "metadata": {
    "slideshow": {
     "slide_type": "subslide"
    }
   },
   "source": [
    "To follow along with these notebooks:\n",
    "```\n",
    "conda activate school18\n",
    "cd .../School2018/machinelearning\n",
    "jupyter notebook Contents.ipynb\n",
    "```\n",
    "Note that you need to start jupyter from the `machinelearning/` directory to access the data files used by some of the notebooks."
   ]
  },
  {
   "cell_type": "markdown",
   "metadata": {
    "slideshow": {
     "slide_type": "slide"
    }
   },
   "source": [
    "### Acknowledgement:\n",
    "**H2020-Astronomy ESFRI and Research Infrastructure Cluster (Grant Agreement number: 653477).**"
   ]
  }
 ],
 "metadata": {
  "celltoolbar": "Slideshow",
  "kernelspec": {
   "display_name": "Python 3",
   "language": "python",
   "name": "python3"
  },
  "language_info": {
   "codemirror_mode": {
    "name": "ipython",
    "version": 3
   },
   "file_extension": ".py",
   "mimetype": "text/x-python",
   "name": "python",
   "nbconvert_exporter": "python",
   "pygments_lexer": "ipython3",
   "version": "3.6.5"
  }
 },
 "nbformat": 4,
 "nbformat_minor": 2
}
