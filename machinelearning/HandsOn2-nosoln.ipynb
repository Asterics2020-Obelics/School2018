{
 "cells": [
  {
   "cell_type": "markdown",
   "metadata": {},
   "source": [
    "# Machine Learning and Statistics: Hands On 2"
   ]
  },
  {
   "cell_type": "code",
   "execution_count": null,
   "metadata": {},
   "outputs": [],
   "source": [
    "%matplotlib inline\n",
    "import matplotlib.pyplot as plt\n",
    "import seaborn as sns; sns.set()\n",
    "import numpy as np\n",
    "import pandas as pd"
   ]
  },
  {
   "cell_type": "markdown",
   "metadata": {},
   "source": [
    "Silence some expected warnings below."
   ]
  },
  {
   "cell_type": "code",
   "execution_count": null,
   "metadata": {},
   "outputs": [],
   "source": [
    "import warnings, matplotlib.cbook\n",
    "warnings.filterwarnings('ignore', category=FutureWarning)\n",
    "warnings.filterwarnings('ignore', category=matplotlib.cbook.mplDeprecation)"
   ]
  },
  {
   "cell_type": "markdown",
   "metadata": {},
   "source": [
    "## Exercise 1: Overfitting"
   ]
  },
  {
   "cell_type": "markdown",
   "metadata": {},
   "source": [
    "For an extreme example of overfitting (=lack of ability to generalize), train a [KNeighborsClassifier](http://scikit-learn.org/stable/modules/generated/sklearn.neighbors.KNeighborsClassifier.html) using `n_neighbors=1`. First, load the data:"
   ]
  },
  {
   "cell_type": "code",
   "execution_count": null,
   "metadata": {},
   "outputs": [],
   "source": [
    "df_img_test = pd.read_hdf('data/sources_img_test.hf5')\n",
    "df_img_test_normed = pd.read_hdf('data/sources_img_test_normed.hf5')\n",
    "df_img_train_normed = pd.read_hdf('data/sources_img_train_normed.hf5')\n",
    "nsrc_true_test = pd.read_hdf('data/nsrc_true_test.hf5')\n",
    "nsrc_true_train = pd.read_hdf('data/nsrc_true_train.hf5')"
   ]
  },
  {
   "cell_type": "markdown",
   "metadata": {},
   "source": [
    "Here is the driver function we used earlier:"
   ]
  },
  {
   "cell_type": "code",
   "execution_count": null,
   "metadata": {},
   "outputs": [],
   "source": [
    "from mls import plot_classification, scan_misclassified"
   ]
  },
  {
   "cell_type": "code",
   "execution_count": null,
   "metadata": {},
   "outputs": [],
   "source": [
    "def test_sk_classification(\n",
    "    method, train_data=df_img_train_normed, test_data=df_img_test_normed):\n",
    "    # Fit normed training images.\n",
    "    fit = method.fit(train_data, nsrc_true_train)\n",
    "    # Get training predictions.\n",
    "    nsrc_train = fit.predict(train_data)\n",
    "    plot_classification(nsrc_train, nsrc_true_train, label='train:')\n",
    "    plt.show()\n",
    "    # Get test predictions.\n",
    "    nsrc_test = fit.predict(test_data)\n",
    "    plot_classification(nsrc_test, nsrc_true_test, label='test:')\n",
    "    plt.show()\n",
    "    # Scan some test failures.\n",
    "    scan_misclassified(nsrc_test, nsrc_true_test, df_img_test)\n",
    "    plt.show()\n",
    "    # Return the test predictions.\n",
    "    return nsrc_test"
   ]
  },
  {
   "cell_type": "code",
   "execution_count": null,
   "metadata": {},
   "outputs": [],
   "source": [
    "from sklearn import neighbors"
   ]
  },
  {
   "cell_type": "code",
   "execution_count": null,
   "metadata": {},
   "outputs": [],
   "source": [
    "# Add your code here..."
   ]
  },
  {
   "cell_type": "markdown",
   "metadata": {},
   "source": [
    "Do these results make sense based on how the KNeighborsClassifier [works](https://en.wikipedia.org/wiki/K-nearest_neighbors_algorithm)?"
   ]
  },
  {
   "cell_type": "markdown",
   "metadata": {},
   "source": [
    "## Exercise 2: Regression Score"
   ]
  },
  {
   "cell_type": "markdown",
   "metadata": {},
   "source": [
    "The default score used by all sklearn regression algorithms is the [coefficient of determination](https://en.wikipedia.org/wiki/Coefficient_of_determination), which you can calculate with sklearn using [metrics.r2_score](http://scikit-learn.org/stable/modules/generated/sklearn.metrics.r2_score.html):"
   ]
  },
  {
   "cell_type": "code",
   "execution_count": null,
   "metadata": {},
   "outputs": [],
   "source": [
    "from sklearn import metrics"
   ]
  },
  {
   "cell_type": "code",
   "execution_count": null,
   "metadata": {},
   "outputs": [],
   "source": [
    "# Generate some random points.\n",
    "gen = np.random.RandomState(seed=123)\n",
    "true = gen.uniform(size=100)\n",
    "pred = gen.uniform(size=100)\n",
    "plt.scatter(true, pred)\n",
    "R2 = metrics.r2_score(true, pred)\n",
    "print(f'R2 = {R2:.3f}')"
   ]
  },
  {
   "cell_type": "markdown",
   "metadata": {},
   "source": [
    "Write a similar example which has R2 = 1."
   ]
  },
  {
   "cell_type": "code",
   "execution_count": null,
   "metadata": {},
   "outputs": [],
   "source": [
    "# Add your solution here..."
   ]
  },
  {
   "cell_type": "markdown",
   "metadata": {},
   "source": [
    "Write a similar example which has R2 = 0."
   ]
  },
  {
   "cell_type": "code",
   "execution_count": null,
   "metadata": {},
   "outputs": [],
   "source": [
    "# Add your solution here..."
   ]
  },
  {
   "cell_type": "markdown",
   "metadata": {},
   "source": [
    "## Exercise 3: Interpretation\n",
    "\n",
    "Machine learning involves running a lot of tests with careful book keeping, then interpreting the results. For a taste of this, make a table of training and test classifier performance from the examples in the lectures, showing:\n",
    " - the best of the sklearn classifiers\n",
    " - the DNN classifier\n",
    " - the CNN classifier\n",
    " \n",
    "Now decide which is the \"best\" method based on these numbers. How are you defining \"best\"?"
   ]
  },
  {
   "cell_type": "markdown",
   "metadata": {},
   "source": [
    "## Exercise 4: Network Architecture\n",
    "\n",
    "Train a dense network classifier with 64 nodes in both of the hidden layers, instead of 128. How does this affect performance. (Hint: you will need to cut & paste liberally from the [NeuralNet notebook](NeuralNet.ipynb))."
   ]
  },
  {
   "cell_type": "code",
   "execution_count": null,
   "metadata": {},
   "outputs": [],
   "source": [
    "import tensorflow as tf"
   ]
  },
  {
   "cell_type": "code",
   "execution_count": null,
   "metadata": {},
   "outputs": [],
   "source": [
    "from mls import plot_classification, scan_misclassified"
   ]
  },
  {
   "cell_type": "code",
   "execution_count": null,
   "metadata": {},
   "outputs": [],
   "source": [
    "mkdir -p tfs/dnnc64"
   ]
  },
  {
   "cell_type": "code",
   "execution_count": null,
   "metadata": {},
   "outputs": [],
   "source": [
    "# The rest is up to you..."
   ]
  },
  {
   "cell_type": "markdown",
   "metadata": {},
   "source": [
    "To put your results in perspective, calculate how many weights the 128-node and 64-node networks each have (both have 256 input nodes and 4 output nodes).  What do you learn from this?"
   ]
  },
  {
   "cell_type": "markdown",
   "metadata": {},
   "source": [
    "## Exercise 5: Mission Impossible?"
   ]
  },
  {
   "cell_type": "markdown",
   "metadata": {},
   "source": [
    "We found that the [LinearSVR](http://scikit-learn.org/stable/modules/generated/sklearn.svm.LinearSVR.html) regression had $R^2\\simeq 0$ with its default hyperparameters, so did not learn anything useful from the training data.  Can you save its reputation and find a set of hyperparameters where it gives respectable performance?"
   ]
  }
 ],
 "metadata": {
  "kernelspec": {
   "display_name": "Python 3",
   "language": "python",
   "name": "python3"
  },
  "language_info": {
   "codemirror_mode": {
    "name": "ipython",
    "version": 3
   },
   "file_extension": ".py",
   "mimetype": "text/x-python",
   "name": "python",
   "nbconvert_exporter": "python",
   "pygments_lexer": "ipython3",
   "version": "3.6.5"
  }
 },
 "nbformat": 4,
 "nbformat_minor": 2
}
