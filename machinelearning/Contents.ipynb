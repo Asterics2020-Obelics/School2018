{
 "cells": [
  {
   "cell_type": "markdown",
   "metadata": {
    "slideshow": {
     "slide_type": "slide"
    }
   },
   "source": [
    "# Machine Learning: Contents"
   ]
  },
  {
   "cell_type": "markdown",
   "metadata": {},
   "source": [
    "Material for the [2018 Asterics and Obelics School](https://indico.in2p3.fr/event/16864/).\n",
    "\n",
    "Content is maintained on [github](https://github.com/Asterics2020-Obelics/School2018/tree/master/machinelearning) and distributed under a [BSD3 license](https://opensource.org/licenses/BSD-3-Clause)."
   ]
  },
  {
   "cell_type": "markdown",
   "metadata": {},
   "source": [
    "![sponsor-logos](img/sponsor-logos.png)"
   ]
  },
  {
   "cell_type": "markdown",
   "metadata": {},
   "source": [
    "#### [Introduction](Intro.ipynb)\n",
    "  - What is machine learning?\n",
    "  - What is data?\n",
    "  - What is a model?\n",
    "  - Types of learning\n",
    "  - ML in astrophysics & astroparticle physics\n",
    "\n",
    "#### [Data and Models](Data.ipynb)\n",
    "  - Generative models\n",
    "  - Probabilistic models\n",
    "  - Combined models of data and parameters\n",
    "  - Blended sources dataset\n",
    "\n",
    "#### Unsupervised learning\n",
    "  - [Clustering and Gaussian mixture models](Clustering.ipynb)\n",
    "  - [Dimensionality reduction](Dimensionality.ipynb)\n",
    "  \n",
    "##### [Hands-On Exercises 1](HandsOn1-nosoln.ipynb) ([solutions](HandsOn1.ipynb))\n",
    "\n",
    "#### [Supervised learning with scikit learn](Supervised.ipynb)\n",
    "  - Train-test split\n",
    "  - Preprocessing\n",
    "  - Regression\n",
    "  - Classification\n",
    "  - Cross validation\n",
    "\n",
    "#### [Supervised learning with neural networks](NeuralNet.ipynb)\n",
    "  - Introduction to neural networks\n",
    "  - Introduction to tensorflow\n",
    "  - Regression\n",
    "  - Classification\n",
    "  - Dense vs convolutional\n",
    "    \n",
    "##### [Hands-On Exercises 2](HandsOn2-nosoln.ipynb) ([solutions](HandsOn2.ipynb))\n",
    "\n",
    "#### [Deep learning](DeepLearning.ipynb)\n",
    "  - Convolutional neural networks\n",
    "  - Unsupervised learning with neural networks\n",
    "  - Recurrent neural networks\n",
    "  - Reinforcement learning\n",
    "  - Outlook\n",
    "  \n",
    "For further study, see the 10-week course on [Machine Learning & Statistics for Physicists](https://github.com/dkirkby/MachineLearningStatistics/blob/master/notebooks/Contents.ipynb) that these lectures are based on."
   ]
  },
  {
   "cell_type": "markdown",
   "metadata": {},
   "source": [
    "![outline](img/outline.png)"
   ]
  },
  {
   "cell_type": "markdown",
   "metadata": {
    "slideshow": {
     "slide_type": "slide"
    }
   },
   "source": [
    "### Acknowledgement:\n",
    "**H2020-Astronomy ESFRI and Research Infrastructure Cluster (Grant Agreement number: 653477).**"
   ]
  }
 ],
 "metadata": {
  "celltoolbar": "Slideshow",
  "kernelspec": {
   "display_name": "Python 3",
   "language": "python",
   "name": "python3"
  },
  "language_info": {
   "codemirror_mode": {
    "name": "ipython",
    "version": 3
   },
   "file_extension": ".py",
   "mimetype": "text/x-python",
   "name": "python",
   "nbconvert_exporter": "python",
   "pygments_lexer": "ipython3",
   "version": "3.6.5"
  }
 },
 "nbformat": 4,
 "nbformat_minor": 2
}
